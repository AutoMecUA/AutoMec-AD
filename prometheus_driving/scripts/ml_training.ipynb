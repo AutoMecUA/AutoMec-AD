{
 "cells": [
  {
   "cell_type": "markdown",
   "id": "e834d221",
   "metadata": {},
   "source": [
    "# AutoMecAD: ML Prototyping and Testing\n",
    "\n",
    "This notebook is used for the prototyping and evaluation of different ML models to be used for autonomous driving. </br>\n",
    "</br>\n",
    "<b> Attention: </b> You will <b> need </b> the Jupyter Notebook installed in order to run this notebook. We also recomend to install the conda enviroment with python 3.8 (Anaconda or miniconda) for an easier dependency management (install AutoMec-AD/requirements.txt)"
   ]
  },
  {
   "cell_type": "code",
   "execution_count": 1,
   "id": "eef99c2a",
   "metadata": {
    "scrolled": true
   },
   "outputs": [
    {
     "name": "stderr",
     "output_type": "stream",
     "text": [
<<<<<<< HEAD
      "2022-11-14 22:31:52.676079: W tensorflow/stream_executor/platform/default/dso_loader.cc:64] Could not load dynamic library 'libcudart.so.11.0'; dlerror: libcudart.so.11.0: cannot open shared object file: No such file or directory; LD_LIBRARY_PATH: /home/nel/.local/lib/python3.8/site-packages/cv2/../../lib64:/home/nel/catkin_ws/devel/lib:/opt/ros/noetic/lib:/opt/ros/noetic/lib/x86_64-linux-gnu\n",
      "2022-11-14 22:31:52.676113: I tensorflow/stream_executor/cuda/cudart_stub.cc:29] Ignore above cudart dlerror if you do not have a GPU set up on your machine.\n"
=======
      "2022-11-02 17:49:59.920073: W tensorflow/stream_executor/platform/default/dso_loader.cc:64] Could not load dynamic library 'libcudart.so.11.0'; dlerror: libcudart.so.11.0: cannot open shared object file: No such file or directory; LD_LIBRARY_PATH: /home/tatiana/catkin_ws/devel/lib:/opt/ros/noetic/lib\n",
      "2022-11-02 17:49:59.920119: I tensorflow/stream_executor/cuda/cudart_stub.cc:29] Ignore above cudart dlerror if you do not have a GPU set up on your machine.\n"
>>>>>>> 195d3fa48c5569da75b9e20ed00bf832520cecfc
     ]
    }
   ],
   "source": [
    "# Visualization tools\n",
    "from matplotlib import pyplot as plt\n",
    "import matplotlib.image as mpimg\n",
    "import plotly.express as px\n",
    "\n",
    "# Data manipulation\n",
    "from imgaug import augmenters as iaa\n",
    "import pandas as pd\n",
    "import numpy as np\n",
    "import glob\n",
    "import cv2\n",
    "\n",
    "# ML Libraries\n",
    "from tensorflow.keras.layers import Convolution2D, Flatten, Dense, Dropout,  \\\n",
    "TimeDistributed, ConvLSTM2D, Input, BatchNormalization, MaxPooling2D\n",
    "from tensorflow.python.keras.engine.sequential import relax_input_shape\n",
    "from tensorflow.keras.models import Sequential, load_model\n",
    "from tensorflow.keras.callbacks import ModelCheckpoint\n",
    "from sklearn.model_selection import train_test_split\n",
    "from sklearn.metrics import mean_squared_error\n",
    "from tensorflow.keras.optimizers import Adam\n",
    "from sklearn.utils import shuffle\n",
    "\n",
    "# Other\n",
    "from PIL import Image\n",
    "import datetime\n",
    "import pprint\n",
    "import random\n",
    "import shutil \n",
    "import yaml\n",
    "import os\n",
    "\n",
    "pd.options.plotting.backend = \"plotly\""
   ]
  },
  {
   "cell_type": "markdown",
   "id": "a078ea6c",
   "metadata": {},
   "source": [
    "### Saving the original dataset\n",
    "If you want to store the augmented images in your disk, or join multiple datasets, you should clone the IMGs and logs to a new dataset and use it."
   ]
  },
  {
   "cell_type": "code",
   "execution_count": 2,
   "id": "845cd3d1",
   "metadata": {},
   "outputs": [],
   "source": [
    "# path to the folder, or to the new folder to be created \n",
<<<<<<< HEAD
    "PATH = \"../data/gazebo-14-11-22h28m35s/\""
=======
    "PATH = \"../data/gazebo-02-11-17h42m44s/\""
>>>>>>> 195d3fa48c5569da75b9e20ed00bf832520cecfc
   ]
  },
  {
   "cell_type": "markdown",
   "id": "065192b3",
   "metadata": {},
   "source": [
    "Uncomment if you want to create a new folder for a new dataset"
   ]
  },
  {
   "cell_type": "code",
   "execution_count": 3,
   "id": "db0eb88a",
   "metadata": {
    "scrolled": true
   },
   "outputs": [],
   "source": [
    "# # directory used to retrive images, steering angles and save new augmented images\n",
    "# try:\n",
    "#     shutil.rmtree(PATH)\n",
    "# except:\n",
    "#     print(\"tree not found\")\n",
    "#\n",
    "# os.mkdir(PATH)"
   ]
  },
  {
   "cell_type": "markdown",
   "id": "73750253",
   "metadata": {},
   "source": [
    "Uncomment the code below if you want to create the new 'driving_log.csv' <br>\n",
    "Change the variable <code> PATHS </code> to choose the datasets that you want to join"
   ]
  },
  {
   "cell_type": "code",
   "execution_count": 4,
   "id": "17bc0fdd",
   "metadata": {},
   "outputs": [],
   "source": [
    "# data = \"\"\n",
    "\n",
    "# # CHOOSE YOUR SETS, INSERT THE CORRESPONDED PATHS TO THOSE SETS\n",
    "# PATHS = [\"setX40/\", \"setX42/\"]\n",
    "\n",
    "# for i, path_log in enumerate(PATHS):\n",
    "#     file_data = ''\n",
    "#     with open(os.path.join(path_log, 'driving_log.csv')) as fp:\n",
    "#         file_data = fp.read()\n",
    "#     file_data = file_data + '\\n' if i < len(path_log)-1 else file_data # the last file read doesnt need the line break\n",
    "#     data = data + file_data\n",
    "\n",
    "# with open(PATH + 'driving_log.csv', 'w') as fp:\n",
    "#     fp.write(data)"
   ]
  },
  {
   "cell_type": "markdown",
   "id": "e68a9b1e",
   "metadata": {},
   "source": [
    "Using your file manager to copy all the images and paste in the new dataset is faster. </br>\n",
    "Use only this piece of code if you don't want to manually paste them."
   ]
  },
  {
   "cell_type": "code",
   "execution_count": 5,
   "id": "84d8be18",
   "metadata": {
    "scrolled": true
   },
   "outputs": [],
   "source": [
    "# DEMORA MUITO TEMPO\n",
    "\n",
    "# os.mkdir(os.path.join(PATH, 'IMG/'))\n",
    "\n",
    "# for path_img in PATHS:\n",
    "#     dir_ = os.listdir(os.path.join(path_img, 'IMG/'))\n",
    "#     for file in dir_:\n",
    "#         print(dir_)\n",
    "#         shutil.copy(os.path.join(path_img + 'IMG/', file), PATH + 'IMG/')\n",
    "\n",
    "# dir_ = os.listdir(PATH + 'IMG/')\n",
    "# print(len(dir_))"
   ]
  },
  {
   "cell_type": "markdown",
   "id": "00780539",
   "metadata": {},
   "source": [
    "### Configurations"
   ]
  },
  {
   "cell_type": "code",
   "execution_count": 6,
   "id": "94f3f4d9",
   "metadata": {},
   "outputs": [],
   "source": [
    "epochs = 20 \n",
    "steps_per_epoch = 100 \n",
    "batch_size_train = 20\n",
    "training_flag = 1\n",
    "batch_size_val = 25\n",
    "validation_flag = 0\n",
    "validation_steps = 50   \n",
    "\n",
    "image_width = 320\n",
    "image_height = 160"
   ]
  },
  {
   "cell_type": "markdown",
   "id": "368ac1bb",
   "metadata": {},
   "source": [
    "### Load data"
   ]
  },
  {
   "cell_type": "code",
   "execution_count": 7,
   "id": "ad2472a4",
   "metadata": {
    "scrolled": true
   },
   "outputs": [
    {
     "data": {
      "text/html": [
       "<div>\n",
       "<style scoped>\n",
       "    .dataframe tbody tr th:only-of-type {\n",
       "        vertical-align: middle;\n",
       "    }\n",
       "\n",
       "    .dataframe tbody tr th {\n",
       "        vertical-align: top;\n",
       "    }\n",
       "\n",
       "    .dataframe thead th {\n",
       "        text-align: right;\n",
       "    }\n",
       "</style>\n",
       "<table border=\"1\" class=\"dataframe\">\n",
       "  <thead>\n",
       "    <tr style=\"text-align: right;\">\n",
       "      <th></th>\n",
       "      <th>img_name</th>\n",
       "      <th>steering</th>\n",
       "    </tr>\n",
       "  </thead>\n",
       "  <tbody>\n",
       "    <tr>\n",
       "      <th>0</th>\n",
<<<<<<< HEAD
       "      <td>2022_11_14__22_28_38__890295.jpg</td>\n",
       "      <td>-0.027009</td>\n",
       "    </tr>\n",
       "    <tr>\n",
       "      <th>1</th>\n",
       "      <td>2022_11_14__22_28_38__918520.jpg</td>\n",
       "      <td>-0.027009</td>\n",
       "    </tr>\n",
       "    <tr>\n",
       "      <th>2</th>\n",
       "      <td>2022_11_14__22_28_38__951110.jpg</td>\n",
       "      <td>0.048250</td>\n",
       "    </tr>\n",
       "    <tr>\n",
       "      <th>3</th>\n",
       "      <td>2022_11_14__22_28_38__984169.jpg</td>\n",
       "      <td>0.078219</td>\n",
       "    </tr>\n",
       "    <tr>\n",
       "      <th>4</th>\n",
       "      <td>2022_11_14__22_28_39__19470.jpg</td>\n",
       "      <td>0.092135</td>\n",
=======
       "      <td>2022_11_2__17_42_53__467213.jpg</td>\n",
       "      <td>0.0</td>\n",
       "    </tr>\n",
       "    <tr>\n",
       "      <th>1</th>\n",
       "      <td>2022_11_2__17_42_53__509259.jpg</td>\n",
       "      <td>0.0</td>\n",
       "    </tr>\n",
       "    <tr>\n",
       "      <th>2</th>\n",
       "      <td>2022_11_2__17_42_53__550050.jpg</td>\n",
       "      <td>0.0</td>\n",
       "    </tr>\n",
       "    <tr>\n",
       "      <th>3</th>\n",
       "      <td>2022_11_2__17_42_53__589732.jpg</td>\n",
       "      <td>0.0</td>\n",
       "    </tr>\n",
       "    <tr>\n",
       "      <th>4</th>\n",
       "      <td>2022_11_2__17_42_53__624701.jpg</td>\n",
       "      <td>0.0</td>\n",
>>>>>>> 195d3fa48c5569da75b9e20ed00bf832520cecfc
       "    </tr>\n",
       "  </tbody>\n",
       "</table>\n",
       "</div>"
      ],
      "text/plain": [
<<<<<<< HEAD
       "                           img_name  steering\n",
       "0  2022_11_14__22_28_38__890295.jpg -0.027009\n",
       "1  2022_11_14__22_28_38__918520.jpg -0.027009\n",
       "2  2022_11_14__22_28_38__951110.jpg  0.048250\n",
       "3  2022_11_14__22_28_38__984169.jpg  0.078219\n",
       "4   2022_11_14__22_28_39__19470.jpg  0.092135"
=======
       "                          img_name  steering\n",
       "0  2022_11_2__17_42_53__467213.jpg       0.0\n",
       "1  2022_11_2__17_42_53__509259.jpg       0.0\n",
       "2  2022_11_2__17_42_53__550050.jpg       0.0\n",
       "3  2022_11_2__17_42_53__589732.jpg       0.0\n",
       "4  2022_11_2__17_42_53__624701.jpg       0.0"
>>>>>>> 195d3fa48c5569da75b9e20ed00bf832520cecfc
      ]
     },
     "execution_count": 7,
     "metadata": {},
     "output_type": "execute_result"
    }
   ],
   "source": [
    "columns = ['img_name','steering', 'velocity'] \n",
    "df = pd.read_csv(os.path.join(PATH, 'driving_log.csv'), names = columns)\n",
    "\n",
    "del df[\"velocity\"] # not in use, currently\n",
    "\n",
    "df.head()"
   ]
  },
  {
   "cell_type": "markdown",
   "id": "e860939b",
   "metadata": {},
   "source": [
    "# Image Data  Visualization"
   ]
  },
  {
   "cell_type": "markdown",
   "id": "65b56456",
   "metadata": {},
   "source": [
    "In case you want to visualize the camera images"
   ]
  },
  {
   "cell_type": "code",
   "execution_count": 8,
   "id": "d057ea69",
   "metadata": {
    "scrolled": true
   },
   "outputs": [
    {
     "data": {
<<<<<<< HEAD
      "image/png": "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",
=======
      "image/png": "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",
>>>>>>> 195d3fa48c5569da75b9e20ed00bf832520cecfc
      "text/plain": [
       "<Figure size 640x480 with 1 Axes>"
      ]
     },
     "metadata": {},
     "output_type": "display_data"
    }
   ],
   "source": [
    "imgv_path = os.path.join(PATH, \"IMG/\")\n",
    "imgsv = os.listdir(imgv_path)\n",
    "rand_integer = random.randint(0, len(imgsv))\n",
    "imgv = cv2.imread(imgv_path + imgsv[rand_integer], cv2.IMREAD_COLOR)\n",
    "imgv_cropped = imgv[40:, :]\n",
    "plt.imshow(imgv_cropped)\n",
    "plt.axis(\"off\")\n",
    "plt.show()"
   ]
  },
  {
   "cell_type": "markdown",
   "id": "0ddfe4d3",
   "metadata": {},
   "source": [
    "## Data Annotation\n",
    "\n",
    "Annote Images with the Steering values (also known as labeling)"
   ]
  },
  {
   "cell_type": "code",
   "execution_count": 9,
   "id": "d5e16452",
   "metadata": {},
   "outputs": [],
   "source": [
    "img_names = [os.path.join(PATH, \"IMG\", df.iloc[i].img_name) for i in range(df.shape[0])]\n",
    "data  = np.column_stack((img_names, df.steering)) \n",
    "\n",
    "img_paths = data[:, 0] \n",
    "steerings = data[:, 1].astype(float)"
   ]
  },
  {
   "cell_type": "markdown",
   "id": "81718320",
   "metadata": {},
   "source": [
    "## 3-way Split"
   ]
  },
  {
   "cell_type": "code",
   "execution_count": 10,
   "id": "f3190b6a",
   "metadata": {},
   "outputs": [
    {
     "name": "stdout",
     "output_type": "stream",
     "text": [
<<<<<<< HEAD
      "Total Training Images:  2941\n",
      "Total Validation Images:  364\n",
      "Total Testing Images:  409\n"
=======
      "Total Training Images:  776\n",
      "Total Validation Images:  97\n",
      "Total Testing Images:  108\n"
>>>>>>> 195d3fa48c5569da75b9e20ed00bf832520cecfc
     ]
    }
   ],
   "source": [
    "x_train, x_test, y_train, y_test = train_test_split(img_paths, steerings, test_size=0.11, random_state=5)\n",
    "x_train, x_val, y_train, y_val = train_test_split(x_train, y_train, test_size=0.11, random_state=5)\n",
    "\n",
    "print('Total Training Images: ', len(x_train))\n",
    "print('Total Validation Images: ', len(x_val))\n",
    "print('Total Testing Images: ', len(x_test)) "
   ]
  },
  {
   "cell_type": "markdown",
   "id": "85b96a59",
   "metadata": {},
   "source": [
    "### Histogram of the test set"
   ]
  },
  {
   "cell_type": "code",
   "execution_count": 11,
   "id": "3682ce14",
   "metadata": {},
   "outputs": [
    {
     "data": {
      "application/vnd.plotly.v1+json": {
       "config": {
        "plotlyServerURL": "https://plot.ly"
       },
       "data": [
        {
         "alignmentgroup": "True",
         "hovertemplate": "Steering Angle=%{x}<br>Frequency  (Log Scale)=%{y}<extra></extra>",
         "legendgroup": "",
         "marker": {
          "color": "#636efa",
          "pattern": {
           "shape": ""
          }
         },
         "name": "",
         "offsetgroup": "",
         "orientation": "v",
         "showlegend": false,
         "textposition": "auto",
         "type": "bar",
         "x": [
<<<<<<< HEAD
          -0.46978372719980055,
          -0.4389846440284483,
          -0.408185560857096,
          -0.37738647768574374,
          -0.34658739451439147,
          -0.3157883113430392,
          -0.284989228171687,
          -0.2541901450003347,
          -0.22339106182898244,
          -0.19259197865763017,
          -0.1617928954862779,
          -0.13099381231492566,
          -0.10019472914357341,
          -0.06939564597222114,
          -0.03859656280086887,
          -0.0077974796295166016,
          0.02300160354183567,
          0.05380068671318794,
          0.08459976988454021,
          0.11539885305589248,
          0.14619793622724475,
          0.17699701939859702,
          0.2077961025699493,
          0.2385951857413015,
          0.2693942689126537,
          0.300193352084006,
          0.33099243525535826,
          0.36179151842671053,
          0.3925906015980628,
          0.4233896847694151,
          0.45418876794076735
         ],
         "xaxis": "x",
         "y": [
          1,
          3,
          0,
          4,
          2,
          4,
          9,
          14,
          5,
          28,
          6,
          14,
          8,
          31,
          27,
          65,
          34,
          7,
          19,
          42,
          45,
          19,
          1,
          8,
          6,
          2,
          2,
          0,
          1,
          1,
          1
=======
          -1.8007741935483872,
          -1.6943225806451614,
          -1.5878709677419356,
          -1.4814193548387098,
          -1.374967741935484,
          -1.2685161290322582,
          -1.1620645161290324,
          -1.0556129032258066,
          -0.9491612903225808,
          -0.842709677419355,
          -0.7362580645161292,
          -0.6298064516129034,
          -0.5233548387096776,
          -0.4169032258064518,
          -0.310451612903226,
          -0.20400000000000018,
          -0.09754838709677438,
          0.00890322580645142,
          0.11535483870967722,
          0.22180645161290302,
          0.3282580645161288,
          0.4347096774193546,
          0.5411612903225804,
          0.6476129032258062,
          0.754064516129032,
          0.8605161290322578,
          0.9669677419354836,
          1.0734193548387094,
          1.1798709677419352,
          1.286322580645161,
          1.3927741935483868
         ],
         "xaxis": "x",
         "y": [
          2,
          1,
          1,
          2,
          0,
          0,
          3,
          0,
          0,
          1,
          5,
          3,
          6,
          3,
          6,
          1,
          9,
          20,
          13,
          12,
          6,
          4,
          4,
          2,
          0,
          1,
          0,
          0,
          0,
          1,
          2
>>>>>>> 195d3fa48c5569da75b9e20ed00bf832520cecfc
         ],
         "yaxis": "y"
        }
       ],
       "layout": {
        "barmode": "relative",
        "legend": {
         "tracegroupgap": 0
        },
        "template": {
         "data": {
          "bar": [
           {
            "error_x": {
             "color": "#f2f5fa"
            },
            "error_y": {
             "color": "#f2f5fa"
            },
            "marker": {
             "line": {
              "color": "rgb(17,17,17)",
              "width": 0.5
             },
             "pattern": {
              "fillmode": "overlay",
              "size": 10,
              "solidity": 0.2
             }
            },
            "type": "bar"
           }
          ],
          "barpolar": [
           {
            "marker": {
             "line": {
              "color": "rgb(17,17,17)",
              "width": 0.5
             },
             "pattern": {
              "fillmode": "overlay",
              "size": 10,
              "solidity": 0.2
             }
            },
            "type": "barpolar"
           }
          ],
          "carpet": [
           {
            "aaxis": {
             "endlinecolor": "#A2B1C6",
             "gridcolor": "#506784",
             "linecolor": "#506784",
             "minorgridcolor": "#506784",
             "startlinecolor": "#A2B1C6"
            },
            "baxis": {
             "endlinecolor": "#A2B1C6",
             "gridcolor": "#506784",
             "linecolor": "#506784",
             "minorgridcolor": "#506784",
             "startlinecolor": "#A2B1C6"
            },
            "type": "carpet"
           }
          ],
          "choropleth": [
           {
            "colorbar": {
             "outlinewidth": 0,
             "ticks": ""
            },
            "type": "choropleth"
           }
          ],
          "contour": [
           {
            "colorbar": {
             "outlinewidth": 0,
             "ticks": ""
            },
            "colorscale": [
             [
              0,
              "#0d0887"
             ],
             [
              0.1111111111111111,
              "#46039f"
             ],
             [
              0.2222222222222222,
              "#7201a8"
             ],
             [
              0.3333333333333333,
              "#9c179e"
             ],
             [
              0.4444444444444444,
              "#bd3786"
             ],
             [
              0.5555555555555556,
              "#d8576b"
             ],
             [
              0.6666666666666666,
              "#ed7953"
             ],
             [
              0.7777777777777778,
              "#fb9f3a"
             ],
             [
              0.8888888888888888,
              "#fdca26"
             ],
             [
              1,
              "#f0f921"
             ]
            ],
            "type": "contour"
           }
          ],
          "contourcarpet": [
           {
            "colorbar": {
             "outlinewidth": 0,
             "ticks": ""
            },
            "type": "contourcarpet"
           }
          ],
          "heatmap": [
           {
            "colorbar": {
             "outlinewidth": 0,
             "ticks": ""
            },
            "colorscale": [
             [
              0,
              "#0d0887"
             ],
             [
              0.1111111111111111,
              "#46039f"
             ],
             [
              0.2222222222222222,
              "#7201a8"
             ],
             [
              0.3333333333333333,
              "#9c179e"
             ],
             [
              0.4444444444444444,
              "#bd3786"
             ],
             [
              0.5555555555555556,
              "#d8576b"
             ],
             [
              0.6666666666666666,
              "#ed7953"
             ],
             [
              0.7777777777777778,
              "#fb9f3a"
             ],
             [
              0.8888888888888888,
              "#fdca26"
             ],
             [
              1,
              "#f0f921"
             ]
            ],
            "type": "heatmap"
           }
          ],
          "heatmapgl": [
           {
            "colorbar": {
             "outlinewidth": 0,
             "ticks": ""
            },
            "colorscale": [
             [
              0,
              "#0d0887"
             ],
             [
              0.1111111111111111,
              "#46039f"
             ],
             [
              0.2222222222222222,
              "#7201a8"
             ],
             [
              0.3333333333333333,
              "#9c179e"
             ],
             [
              0.4444444444444444,
              "#bd3786"
             ],
             [
              0.5555555555555556,
              "#d8576b"
             ],
             [
              0.6666666666666666,
              "#ed7953"
             ],
             [
              0.7777777777777778,
              "#fb9f3a"
             ],
             [
              0.8888888888888888,
              "#fdca26"
             ],
             [
              1,
              "#f0f921"
             ]
            ],
            "type": "heatmapgl"
           }
          ],
          "histogram": [
           {
            "marker": {
             "pattern": {
              "fillmode": "overlay",
              "size": 10,
              "solidity": 0.2
             }
            },
            "type": "histogram"
           }
          ],
          "histogram2d": [
           {
            "colorbar": {
             "outlinewidth": 0,
             "ticks": ""
            },
            "colorscale": [
             [
              0,
              "#0d0887"
             ],
             [
              0.1111111111111111,
              "#46039f"
             ],
             [
              0.2222222222222222,
              "#7201a8"
             ],
             [
              0.3333333333333333,
              "#9c179e"
             ],
             [
              0.4444444444444444,
              "#bd3786"
             ],
             [
              0.5555555555555556,
              "#d8576b"
             ],
             [
              0.6666666666666666,
              "#ed7953"
             ],
             [
              0.7777777777777778,
              "#fb9f3a"
             ],
             [
              0.8888888888888888,
              "#fdca26"
             ],
             [
              1,
              "#f0f921"
             ]
            ],
            "type": "histogram2d"
           }
          ],
          "histogram2dcontour": [
           {
            "colorbar": {
             "outlinewidth": 0,
             "ticks": ""
            },
            "colorscale": [
             [
              0,
              "#0d0887"
             ],
             [
              0.1111111111111111,
              "#46039f"
             ],
             [
              0.2222222222222222,
              "#7201a8"
             ],
             [
              0.3333333333333333,
              "#9c179e"
             ],
             [
              0.4444444444444444,
              "#bd3786"
             ],
             [
              0.5555555555555556,
              "#d8576b"
             ],
             [
              0.6666666666666666,
              "#ed7953"
             ],
             [
              0.7777777777777778,
              "#fb9f3a"
             ],
             [
              0.8888888888888888,
              "#fdca26"
             ],
             [
              1,
              "#f0f921"
             ]
            ],
            "type": "histogram2dcontour"
           }
          ],
          "mesh3d": [
           {
            "colorbar": {
             "outlinewidth": 0,
             "ticks": ""
            },
            "type": "mesh3d"
           }
          ],
          "parcoords": [
           {
            "line": {
             "colorbar": {
              "outlinewidth": 0,
              "ticks": ""
             }
            },
            "type": "parcoords"
           }
          ],
          "pie": [
           {
            "automargin": true,
            "type": "pie"
           }
          ],
          "scatter": [
           {
            "marker": {
             "line": {
              "color": "#283442"
             }
            },
            "type": "scatter"
           }
          ],
          "scatter3d": [
           {
            "line": {
             "colorbar": {
              "outlinewidth": 0,
              "ticks": ""
             }
            },
            "marker": {
             "colorbar": {
              "outlinewidth": 0,
              "ticks": ""
             }
            },
            "type": "scatter3d"
           }
          ],
          "scattercarpet": [
           {
            "marker": {
             "colorbar": {
              "outlinewidth": 0,
              "ticks": ""
             }
            },
            "type": "scattercarpet"
           }
          ],
          "scattergeo": [
           {
            "marker": {
             "colorbar": {
              "outlinewidth": 0,
              "ticks": ""
             }
            },
            "type": "scattergeo"
           }
          ],
          "scattergl": [
           {
            "marker": {
             "line": {
              "color": "#283442"
             }
            },
            "type": "scattergl"
           }
          ],
          "scattermapbox": [
           {
            "marker": {
             "colorbar": {
              "outlinewidth": 0,
              "ticks": ""
             }
            },
            "type": "scattermapbox"
           }
          ],
          "scatterpolar": [
           {
            "marker": {
             "colorbar": {
              "outlinewidth": 0,
              "ticks": ""
             }
            },
            "type": "scatterpolar"
           }
          ],
          "scatterpolargl": [
           {
            "marker": {
             "colorbar": {
              "outlinewidth": 0,
              "ticks": ""
             }
            },
            "type": "scatterpolargl"
           }
          ],
          "scatterternary": [
           {
            "marker": {
             "colorbar": {
              "outlinewidth": 0,
              "ticks": ""
             }
            },
            "type": "scatterternary"
           }
          ],
          "surface": [
           {
            "colorbar": {
             "outlinewidth": 0,
             "ticks": ""
            },
            "colorscale": [
             [
              0,
              "#0d0887"
             ],
             [
              0.1111111111111111,
              "#46039f"
             ],
             [
              0.2222222222222222,
              "#7201a8"
             ],
             [
              0.3333333333333333,
              "#9c179e"
             ],
             [
              0.4444444444444444,
              "#bd3786"
             ],
             [
              0.5555555555555556,
              "#d8576b"
             ],
             [
              0.6666666666666666,
              "#ed7953"
             ],
             [
              0.7777777777777778,
              "#fb9f3a"
             ],
             [
              0.8888888888888888,
              "#fdca26"
             ],
             [
              1,
              "#f0f921"
             ]
            ],
            "type": "surface"
           }
          ],
          "table": [
           {
            "cells": {
             "fill": {
              "color": "#506784"
             },
             "line": {
              "color": "rgb(17,17,17)"
             }
            },
            "header": {
             "fill": {
              "color": "#2a3f5f"
             },
             "line": {
              "color": "rgb(17,17,17)"
             }
            },
            "type": "table"
           }
          ]
         },
         "layout": {
          "annotationdefaults": {
           "arrowcolor": "#f2f5fa",
           "arrowhead": 0,
           "arrowwidth": 1
          },
          "autotypenumbers": "strict",
          "coloraxis": {
           "colorbar": {
            "outlinewidth": 0,
            "ticks": ""
           }
          },
          "colorscale": {
           "diverging": [
            [
             0,
             "#8e0152"
            ],
            [
             0.1,
             "#c51b7d"
            ],
            [
             0.2,
             "#de77ae"
            ],
            [
             0.3,
             "#f1b6da"
            ],
            [
             0.4,
             "#fde0ef"
            ],
            [
             0.5,
             "#f7f7f7"
            ],
            [
             0.6,
             "#e6f5d0"
            ],
            [
             0.7,
             "#b8e186"
            ],
            [
             0.8,
             "#7fbc41"
            ],
            [
             0.9,
             "#4d9221"
            ],
            [
             1,
             "#276419"
            ]
           ],
           "sequential": [
            [
             0,
             "#0d0887"
            ],
            [
             0.1111111111111111,
             "#46039f"
            ],
            [
             0.2222222222222222,
             "#7201a8"
            ],
            [
             0.3333333333333333,
             "#9c179e"
            ],
            [
             0.4444444444444444,
             "#bd3786"
            ],
            [
             0.5555555555555556,
             "#d8576b"
            ],
            [
             0.6666666666666666,
             "#ed7953"
            ],
            [
             0.7777777777777778,
             "#fb9f3a"
            ],
            [
             0.8888888888888888,
             "#fdca26"
            ],
            [
             1,
             "#f0f921"
            ]
           ],
           "sequentialminus": [
            [
             0,
             "#0d0887"
            ],
            [
             0.1111111111111111,
             "#46039f"
            ],
            [
             0.2222222222222222,
             "#7201a8"
            ],
            [
             0.3333333333333333,
             "#9c179e"
            ],
            [
             0.4444444444444444,
             "#bd3786"
            ],
            [
             0.5555555555555556,
             "#d8576b"
            ],
            [
             0.6666666666666666,
             "#ed7953"
            ],
            [
             0.7777777777777778,
             "#fb9f3a"
            ],
            [
             0.8888888888888888,
             "#fdca26"
            ],
            [
             1,
             "#f0f921"
            ]
           ]
          },
          "colorway": [
           "#636efa",
           "#EF553B",
           "#00cc96",
           "#ab63fa",
           "#FFA15A",
           "#19d3f3",
           "#FF6692",
           "#B6E880",
           "#FF97FF",
           "#FECB52"
          ],
          "font": {
           "color": "#f2f5fa"
          },
          "geo": {
           "bgcolor": "rgb(17,17,17)",
           "lakecolor": "rgb(17,17,17)",
           "landcolor": "rgb(17,17,17)",
           "showlakes": true,
           "showland": true,
           "subunitcolor": "#506784"
          },
          "hoverlabel": {
           "align": "left"
          },
          "hovermode": "closest",
          "mapbox": {
           "style": "dark"
          },
          "paper_bgcolor": "rgb(17,17,17)",
          "plot_bgcolor": "rgb(17,17,17)",
          "polar": {
           "angularaxis": {
            "gridcolor": "#506784",
            "linecolor": "#506784",
            "ticks": ""
           },
           "bgcolor": "rgb(17,17,17)",
           "radialaxis": {
            "gridcolor": "#506784",
            "linecolor": "#506784",
            "ticks": ""
           }
          },
          "scene": {
           "xaxis": {
            "backgroundcolor": "rgb(17,17,17)",
            "gridcolor": "#506784",
            "gridwidth": 2,
            "linecolor": "#506784",
            "showbackground": true,
            "ticks": "",
            "zerolinecolor": "#C8D4E3"
           },
           "yaxis": {
            "backgroundcolor": "rgb(17,17,17)",
            "gridcolor": "#506784",
            "gridwidth": 2,
            "linecolor": "#506784",
            "showbackground": true,
            "ticks": "",
            "zerolinecolor": "#C8D4E3"
           },
           "zaxis": {
            "backgroundcolor": "rgb(17,17,17)",
            "gridcolor": "#506784",
            "gridwidth": 2,
            "linecolor": "#506784",
            "showbackground": true,
            "ticks": "",
            "zerolinecolor": "#C8D4E3"
           }
          },
          "shapedefaults": {
           "line": {
            "color": "#f2f5fa"
           }
          },
          "sliderdefaults": {
           "bgcolor": "#C8D4E3",
           "bordercolor": "rgb(17,17,17)",
           "borderwidth": 1,
           "tickwidth": 0
          },
          "ternary": {
           "aaxis": {
            "gridcolor": "#506784",
            "linecolor": "#506784",
            "ticks": ""
           },
           "baxis": {
            "gridcolor": "#506784",
            "linecolor": "#506784",
            "ticks": ""
           },
           "bgcolor": "rgb(17,17,17)",
           "caxis": {
            "gridcolor": "#506784",
            "linecolor": "#506784",
            "ticks": ""
           }
          },
          "title": {
           "x": 0.05
          },
          "updatemenudefaults": {
           "bgcolor": "#506784",
           "borderwidth": 0
          },
          "xaxis": {
           "automargin": true,
           "gridcolor": "#283442",
           "linecolor": "#506784",
           "ticks": "",
           "title": {
            "standoff": 15
           },
           "zerolinecolor": "#283442",
           "zerolinewidth": 2
          },
          "yaxis": {
           "automargin": true,
           "gridcolor": "#283442",
           "linecolor": "#506784",
           "ticks": "",
           "title": {
            "standoff": 15
           },
           "zerolinecolor": "#283442",
           "zerolinewidth": 2
          }
         }
        },
        "title": {
         "text": "Steering Angle Distribuiton: TEST SET"
        },
        "xaxis": {
         "anchor": "y",
         "domain": [
          0,
          1
         ],
         "title": {
          "text": "Steering Angle"
         }
        },
        "yaxis": {
         "anchor": "x",
         "domain": [
          0,
          1
         ],
         "title": {
          "text": "Frequency  (Log Scale)"
         }
        }
       }
      }
     },
     "metadata": {},
     "output_type": "display_data"
    }
   ],
   "source": [
    "nbins_test              = 31 # Has to be an odd number so we have zero at the center\n",
    "freq_test, bins_test    = np.histogram(y_test, bins=nbins_test)\n",
    "\n",
    "\"\"\"\n",
    "Centered bins: \n",
    "    This creates a Bin with zero value for the center \n",
    "    (wich is what we expect from most of the driving input)\n",
    "\"\"\"\n",
    "cbins_test = (bins_test[:-1] + bins_test[1:])*0.5     \n",
    "\n",
    "fig = px.bar(x        = cbins_test, \n",
    "             y        = freq_test, \n",
    "             labels   = {'x' : 'Steering Angle', 'y' : 'Frequency  (Log Scale)'}, \n",
    "             title    = \"Steering Angle Distribuiton: TEST SET\",\n",
    "             template =\"plotly_dark\",\n",
    "             log_y    = False) #True\n",
    "\n",
    "fig.show()"
   ]
  },
  {
   "cell_type": "markdown",
   "id": "2ced1a95",
   "metadata": {},
   "source": [
    "### Histogram of the Validation Set"
   ]
  },
  {
   "cell_type": "code",
   "execution_count": 12,
   "id": "0afbedd7",
   "metadata": {
    "scrolled": false
   },
   "outputs": [
    {
     "data": {
      "application/vnd.plotly.v1+json": {
       "config": {
        "plotlyServerURL": "https://plot.ly"
       },
       "data": [
        {
         "alignmentgroup": "True",
         "hovertemplate": "Steering Angle=%{x}<br>Frequency  (Log Scale)=%{y}<extra></extra>",
         "legendgroup": "",
         "marker": {
          "color": "#636efa",
          "pattern": {
           "shape": ""
          }
         },
         "name": "",
         "offsetgroup": "",
         "orientation": "v",
         "showlegend": false,
         "textposition": "auto",
         "type": "bar",
         "x": [
<<<<<<< HEAD
          -0.4297586919799928,
          -0.40027190504535554,
          -0.3707851181107183,
          -0.341298331176081,
          -0.31181154424144375,
          -0.2823247573068065,
          -0.25283797037216926,
          -0.223351183437532,
          -0.19386439650289472,
          -0.16437760956825748,
          -0.13489082263362023,
          -0.10540403569898299,
          -0.07591724876434575,
          -0.046430461829708475,
          -0.016943674895071204,
          0.01254311203956604,
          0.04202989897420331,
          0.07151668590884058,
          0.10100347284347783,
          0.13049025977811507,
          0.1599770467127523,
          0.18946383364738956,
          0.2189506205820268,
          0.24843740751666404,
          0.2779241944513013,
          0.30741098138593853,
          0.33689776832057583,
          0.36638455525521313,
          0.3958713421898504,
          0.4253581291244876,
          0.45484491605912486
=======
          -1.717225806451613,
          -1.6116774193548387,
          -1.5061290322580645,
          -1.4005806451612903,
          -1.2950322580645162,
          -1.189483870967742,
          -1.0839354838709676,
          -0.9783870967741936,
          -0.8728387096774194,
          -0.7672903225806452,
          -0.6617419354838711,
          -0.5561935483870968,
          -0.4506451612903225,
          -0.34509677419354834,
          -0.23954838709677417,
          -0.134,
          -0.028451612903225842,
          0.07709677419354832,
          0.1826451612903226,
          0.28819354838709677,
          0.39374193548387093,
          0.4992903225806451,
          0.6048387096774193,
          0.7103870967741936,
          0.8159354838709678,
          0.921483870967742,
          1.0270322580645161,
          1.1325806451612903,
          1.2381290322580645,
          1.3436774193548386,
          1.4492258064516128
>>>>>>> 195d3fa48c5569da75b9e20ed00bf832520cecfc
         ],
         "xaxis": "x",
         "y": [
          2,
          2,
<<<<<<< HEAD
          7,
          4,
          7,
          7,
          10,
          3,
          32,
          0,
          8,
          2,
          22,
          9,
          33,
          50,
          16,
          19,
          21,
          59,
          22,
          12,
          4,
          7,
          2,
=======
          0,
          1,
          1,
          1,
          1,
          0,
          0,
          3,
          7,
          2,
          1,
          5,
          5,
          9,
          12,
          14,
          14,
          2,
          6,
          3,
          2,
          1,
          1,
          0,
>>>>>>> 195d3fa48c5569da75b9e20ed00bf832520cecfc
          0,
          2,
          0,
          1,
          0,
          0,
          2
         ],
         "yaxis": "y"
        }
       ],
       "layout": {
        "barmode": "relative",
        "legend": {
         "tracegroupgap": 0
        },
        "template": {
         "data": {
          "bar": [
           {
            "error_x": {
             "color": "#f2f5fa"
            },
            "error_y": {
             "color": "#f2f5fa"
            },
            "marker": {
             "line": {
              "color": "rgb(17,17,17)",
              "width": 0.5
             },
             "pattern": {
              "fillmode": "overlay",
              "size": 10,
              "solidity": 0.2
             }
            },
            "type": "bar"
           }
          ],
          "barpolar": [
           {
            "marker": {
             "line": {
              "color": "rgb(17,17,17)",
              "width": 0.5
             },
             "pattern": {
              "fillmode": "overlay",
              "size": 10,
              "solidity": 0.2
             }
            },
            "type": "barpolar"
           }
          ],
          "carpet": [
           {
            "aaxis": {
             "endlinecolor": "#A2B1C6",
             "gridcolor": "#506784",
             "linecolor": "#506784",
             "minorgridcolor": "#506784",
             "startlinecolor": "#A2B1C6"
            },
            "baxis": {
             "endlinecolor": "#A2B1C6",
             "gridcolor": "#506784",
             "linecolor": "#506784",
             "minorgridcolor": "#506784",
             "startlinecolor": "#A2B1C6"
            },
            "type": "carpet"
           }
          ],
          "choropleth": [
           {
            "colorbar": {
             "outlinewidth": 0,
             "ticks": ""
            },
            "type": "choropleth"
           }
          ],
          "contour": [
           {
            "colorbar": {
             "outlinewidth": 0,
             "ticks": ""
            },
            "colorscale": [
             [
              0,
              "#0d0887"
             ],
             [
              0.1111111111111111,
              "#46039f"
             ],
             [
              0.2222222222222222,
              "#7201a8"
             ],
             [
              0.3333333333333333,
              "#9c179e"
             ],
             [
              0.4444444444444444,
              "#bd3786"
             ],
             [
              0.5555555555555556,
              "#d8576b"
             ],
             [
              0.6666666666666666,
              "#ed7953"
             ],
             [
              0.7777777777777778,
              "#fb9f3a"
             ],
             [
              0.8888888888888888,
              "#fdca26"
             ],
             [
              1,
              "#f0f921"
             ]
            ],
            "type": "contour"
           }
          ],
          "contourcarpet": [
           {
            "colorbar": {
             "outlinewidth": 0,
             "ticks": ""
            },
            "type": "contourcarpet"
           }
          ],
          "heatmap": [
           {
            "colorbar": {
             "outlinewidth": 0,
             "ticks": ""
            },
            "colorscale": [
             [
              0,
              "#0d0887"
             ],
             [
              0.1111111111111111,
              "#46039f"
             ],
             [
              0.2222222222222222,
              "#7201a8"
             ],
             [
              0.3333333333333333,
              "#9c179e"
             ],
             [
              0.4444444444444444,
              "#bd3786"
             ],
             [
              0.5555555555555556,
              "#d8576b"
             ],
             [
              0.6666666666666666,
              "#ed7953"
             ],
             [
              0.7777777777777778,
              "#fb9f3a"
             ],
             [
              0.8888888888888888,
              "#fdca26"
             ],
             [
              1,
              "#f0f921"
             ]
            ],
            "type": "heatmap"
           }
          ],
          "heatmapgl": [
           {
            "colorbar": {
             "outlinewidth": 0,
             "ticks": ""
            },
            "colorscale": [
             [
              0,
              "#0d0887"
             ],
             [
              0.1111111111111111,
              "#46039f"
             ],
             [
              0.2222222222222222,
              "#7201a8"
             ],
             [
              0.3333333333333333,
              "#9c179e"
             ],
             [
              0.4444444444444444,
              "#bd3786"
             ],
             [
              0.5555555555555556,
              "#d8576b"
             ],
             [
              0.6666666666666666,
              "#ed7953"
             ],
             [
              0.7777777777777778,
              "#fb9f3a"
             ],
             [
              0.8888888888888888,
              "#fdca26"
             ],
             [
              1,
              "#f0f921"
             ]
            ],
            "type": "heatmapgl"
           }
          ],
          "histogram": [
           {
            "marker": {
             "pattern": {
              "fillmode": "overlay",
              "size": 10,
              "solidity": 0.2
             }
            },
            "type": "histogram"
           }
          ],
          "histogram2d": [
           {
            "colorbar": {
             "outlinewidth": 0,
             "ticks": ""
            },
            "colorscale": [
             [
              0,
              "#0d0887"
             ],
             [
              0.1111111111111111,
              "#46039f"
             ],
             [
              0.2222222222222222,
              "#7201a8"
             ],
             [
              0.3333333333333333,
              "#9c179e"
             ],
             [
              0.4444444444444444,
              "#bd3786"
             ],
             [
              0.5555555555555556,
              "#d8576b"
             ],
             [
              0.6666666666666666,
              "#ed7953"
             ],
             [
              0.7777777777777778,
              "#fb9f3a"
             ],
             [
              0.8888888888888888,
              "#fdca26"
             ],
             [
              1,
              "#f0f921"
             ]
            ],
            "type": "histogram2d"
           }
          ],
          "histogram2dcontour": [
           {
            "colorbar": {
             "outlinewidth": 0,
             "ticks": ""
            },
            "colorscale": [
             [
              0,
              "#0d0887"
             ],
             [
              0.1111111111111111,
              "#46039f"
             ],
             [
              0.2222222222222222,
              "#7201a8"
             ],
             [
              0.3333333333333333,
              "#9c179e"
             ],
             [
              0.4444444444444444,
              "#bd3786"
             ],
             [
              0.5555555555555556,
              "#d8576b"
             ],
             [
              0.6666666666666666,
              "#ed7953"
             ],
             [
              0.7777777777777778,
              "#fb9f3a"
             ],
             [
              0.8888888888888888,
              "#fdca26"
             ],
             [
              1,
              "#f0f921"
             ]
            ],
            "type": "histogram2dcontour"
           }
          ],
          "mesh3d": [
           {
            "colorbar": {
             "outlinewidth": 0,
             "ticks": ""
            },
            "type": "mesh3d"
           }
          ],
          "parcoords": [
           {
            "line": {
             "colorbar": {
              "outlinewidth": 0,
              "ticks": ""
             }
            },
            "type": "parcoords"
           }
          ],
          "pie": [
           {
            "automargin": true,
            "type": "pie"
           }
          ],
          "scatter": [
           {
            "marker": {
             "line": {
              "color": "#283442"
             }
            },
            "type": "scatter"
           }
          ],
          "scatter3d": [
           {
            "line": {
             "colorbar": {
              "outlinewidth": 0,
              "ticks": ""
             }
            },
            "marker": {
             "colorbar": {
              "outlinewidth": 0,
              "ticks": ""
             }
            },
            "type": "scatter3d"
           }
          ],
          "scattercarpet": [
           {
            "marker": {
             "colorbar": {
              "outlinewidth": 0,
              "ticks": ""
             }
            },
            "type": "scattercarpet"
           }
          ],
          "scattergeo": [
           {
            "marker": {
             "colorbar": {
              "outlinewidth": 0,
              "ticks": ""
             }
            },
            "type": "scattergeo"
           }
          ],
          "scattergl": [
           {
            "marker": {
             "line": {
              "color": "#283442"
             }
            },
            "type": "scattergl"
           }
          ],
          "scattermapbox": [
           {
            "marker": {
             "colorbar": {
              "outlinewidth": 0,
              "ticks": ""
             }
            },
            "type": "scattermapbox"
           }
          ],
          "scatterpolar": [
           {
            "marker": {
             "colorbar": {
              "outlinewidth": 0,
              "ticks": ""
             }
            },
            "type": "scatterpolar"
           }
          ],
          "scatterpolargl": [
           {
            "marker": {
             "colorbar": {
              "outlinewidth": 0,
              "ticks": ""
             }
            },
            "type": "scatterpolargl"
           }
          ],
          "scatterternary": [
           {
            "marker": {
             "colorbar": {
              "outlinewidth": 0,
              "ticks": ""
             }
            },
            "type": "scatterternary"
           }
          ],
          "surface": [
           {
            "colorbar": {
             "outlinewidth": 0,
             "ticks": ""
            },
            "colorscale": [
             [
              0,
              "#0d0887"
             ],
             [
              0.1111111111111111,
              "#46039f"
             ],
             [
              0.2222222222222222,
              "#7201a8"
             ],
             [
              0.3333333333333333,
              "#9c179e"
             ],
             [
              0.4444444444444444,
              "#bd3786"
             ],
             [
              0.5555555555555556,
              "#d8576b"
             ],
             [
              0.6666666666666666,
              "#ed7953"
             ],
             [
              0.7777777777777778,
              "#fb9f3a"
             ],
             [
              0.8888888888888888,
              "#fdca26"
             ],
             [
              1,
              "#f0f921"
             ]
            ],
            "type": "surface"
           }
          ],
          "table": [
           {
            "cells": {
             "fill": {
              "color": "#506784"
             },
             "line": {
              "color": "rgb(17,17,17)"
             }
            },
            "header": {
             "fill": {
              "color": "#2a3f5f"
             },
             "line": {
              "color": "rgb(17,17,17)"
             }
            },
            "type": "table"
           }
          ]
         },
         "layout": {
          "annotationdefaults": {
           "arrowcolor": "#f2f5fa",
           "arrowhead": 0,
           "arrowwidth": 1
          },
          "autotypenumbers": "strict",
          "coloraxis": {
           "colorbar": {
            "outlinewidth": 0,
            "ticks": ""
           }
          },
          "colorscale": {
           "diverging": [
            [
             0,
             "#8e0152"
            ],
            [
             0.1,
             "#c51b7d"
            ],
            [
             0.2,
             "#de77ae"
            ],
            [
             0.3,
             "#f1b6da"
            ],
            [
             0.4,
             "#fde0ef"
            ],
            [
             0.5,
             "#f7f7f7"
            ],
            [
             0.6,
             "#e6f5d0"
            ],
            [
             0.7,
             "#b8e186"
            ],
            [
             0.8,
             "#7fbc41"
            ],
            [
             0.9,
             "#4d9221"
            ],
            [
             1,
             "#276419"
            ]
           ],
           "sequential": [
            [
             0,
             "#0d0887"
            ],
            [
             0.1111111111111111,
             "#46039f"
            ],
            [
             0.2222222222222222,
             "#7201a8"
            ],
            [
             0.3333333333333333,
             "#9c179e"
            ],
            [
             0.4444444444444444,
             "#bd3786"
            ],
            [
             0.5555555555555556,
             "#d8576b"
            ],
            [
             0.6666666666666666,
             "#ed7953"
            ],
            [
             0.7777777777777778,
             "#fb9f3a"
            ],
            [
             0.8888888888888888,
             "#fdca26"
            ],
            [
             1,
             "#f0f921"
            ]
           ],
           "sequentialminus": [
            [
             0,
             "#0d0887"
            ],
            [
             0.1111111111111111,
             "#46039f"
            ],
            [
             0.2222222222222222,
             "#7201a8"
            ],
            [
             0.3333333333333333,
             "#9c179e"
            ],
            [
             0.4444444444444444,
             "#bd3786"
            ],
            [
             0.5555555555555556,
             "#d8576b"
            ],
            [
             0.6666666666666666,
             "#ed7953"
            ],
            [
             0.7777777777777778,
             "#fb9f3a"
            ],
            [
             0.8888888888888888,
             "#fdca26"
            ],
            [
             1,
             "#f0f921"
            ]
           ]
          },
          "colorway": [
           "#636efa",
           "#EF553B",
           "#00cc96",
           "#ab63fa",
           "#FFA15A",
           "#19d3f3",
           "#FF6692",
           "#B6E880",
           "#FF97FF",
           "#FECB52"
          ],
          "font": {
           "color": "#f2f5fa"
          },
          "geo": {
           "bgcolor": "rgb(17,17,17)",
           "lakecolor": "rgb(17,17,17)",
           "landcolor": "rgb(17,17,17)",
           "showlakes": true,
           "showland": true,
           "subunitcolor": "#506784"
          },
          "hoverlabel": {
           "align": "left"
          },
          "hovermode": "closest",
          "mapbox": {
           "style": "dark"
          },
          "paper_bgcolor": "rgb(17,17,17)",
          "plot_bgcolor": "rgb(17,17,17)",
          "polar": {
           "angularaxis": {
            "gridcolor": "#506784",
            "linecolor": "#506784",
            "ticks": ""
           },
           "bgcolor": "rgb(17,17,17)",
           "radialaxis": {
            "gridcolor": "#506784",
            "linecolor": "#506784",
            "ticks": ""
           }
          },
          "scene": {
           "xaxis": {
            "backgroundcolor": "rgb(17,17,17)",
            "gridcolor": "#506784",
            "gridwidth": 2,
            "linecolor": "#506784",
            "showbackground": true,
            "ticks": "",
            "zerolinecolor": "#C8D4E3"
           },
           "yaxis": {
            "backgroundcolor": "rgb(17,17,17)",
            "gridcolor": "#506784",
            "gridwidth": 2,
            "linecolor": "#506784",
            "showbackground": true,
            "ticks": "",
            "zerolinecolor": "#C8D4E3"
           },
           "zaxis": {
            "backgroundcolor": "rgb(17,17,17)",
            "gridcolor": "#506784",
            "gridwidth": 2,
            "linecolor": "#506784",
            "showbackground": true,
            "ticks": "",
            "zerolinecolor": "#C8D4E3"
           }
          },
          "shapedefaults": {
           "line": {
            "color": "#f2f5fa"
           }
          },
          "sliderdefaults": {
           "bgcolor": "#C8D4E3",
           "bordercolor": "rgb(17,17,17)",
           "borderwidth": 1,
           "tickwidth": 0
          },
          "ternary": {
           "aaxis": {
            "gridcolor": "#506784",
            "linecolor": "#506784",
            "ticks": ""
           },
           "baxis": {
            "gridcolor": "#506784",
            "linecolor": "#506784",
            "ticks": ""
           },
           "bgcolor": "rgb(17,17,17)",
           "caxis": {
            "gridcolor": "#506784",
            "linecolor": "#506784",
            "ticks": ""
           }
          },
          "title": {
           "x": 0.05
          },
          "updatemenudefaults": {
           "bgcolor": "#506784",
           "borderwidth": 0
          },
          "xaxis": {
           "automargin": true,
           "gridcolor": "#283442",
           "linecolor": "#506784",
           "ticks": "",
           "title": {
            "standoff": 15
           },
           "zerolinecolor": "#283442",
           "zerolinewidth": 2
          },
          "yaxis": {
           "automargin": true,
           "gridcolor": "#283442",
           "linecolor": "#506784",
           "ticks": "",
           "title": {
            "standoff": 15
           },
           "zerolinecolor": "#283442",
           "zerolinewidth": 2
          }
         }
        },
        "title": {
         "text": "Steering Angle Distribuiton: VALIDATION SET"
        },
        "xaxis": {
         "anchor": "y",
         "domain": [
          0,
          1
         ],
         "title": {
          "text": "Steering Angle"
         }
        },
        "yaxis": {
         "anchor": "x",
         "domain": [
          0,
          1
         ],
         "title": {
          "text": "Frequency  (Log Scale)"
         }
        }
       }
      }
     },
     "metadata": {},
     "output_type": "display_data"
    }
   ],
   "source": [
    "nbins_val              = 31        # Has to be an odd number so we have zero at the center\n",
    "freq_val, bins_val    = np.histogram(y_val, bins=nbins_val)\n",
    "\n",
    "\"\"\"\n",
    "Centered bins: \n",
    "    This creates a Bin with zero value for the center \n",
    "    (wich is what we expect from most of the driving input)\n",
    "\"\"\"\n",
    "cbins_val = (bins_val[:-1] + bins_val[1:])*0.5     \n",
    "\n",
    "fig = px.bar(x        = cbins_val, \n",
    "             y        = freq_val, \n",
    "             labels   = {'x' : 'Steering Angle', 'y' : 'Frequency  (Log Scale)'}, \n",
    "             title    = \"Steering Angle Distribuiton: VALIDATION SET\",\n",
    "             template =\"plotly_dark\",\n",
    "             log_y    = False) #True\n",
    "\n",
    "fig.show()"
   ]
  },
  {
   "cell_type": "markdown",
   "id": "ed87ff3a",
   "metadata": {},
   "source": [
    "### Balance Validation Set"
   ]
  },
  {
   "cell_type": "code",
   "execution_count": 13,
   "id": "234aa71f",
   "metadata": {},
   "outputs": [
    {
     "name": "stdout",
     "output_type": "stream",
     "text": [
<<<<<<< HEAD
      "Total val Images:  364\n"
=======
      "Total val Images:  97\n"
>>>>>>> 195d3fa48c5569da75b9e20ed00bf832520cecfc
     ]
    }
   ],
   "source": [
    "keep_nsamples_val = 500\n",
    "\n",
    "for i in range(nbins_val): \n",
    "    \n",
    "    idx_rm = shuffle([ idx for idx, steering_value in enumerate(y_val)\n",
    "                               if steering_value >= bins_val[i] and steering_value <= bins_val[i+1] ])\n",
    "    \n",
    "    y_val = np.delete(y_val, idx_rm[keep_nsamples_val:]) \n",
    "    x_val = np.delete(x_val, idx_rm[keep_nsamples_val:]) \n",
    "\n",
    "print('Total val Images: ', len(x_val))"
   ]
  },
  {
   "cell_type": "markdown",
   "id": "04621a91",
   "metadata": {},
   "source": [
    "### Balanced Histogram of the Validation Set"
   ]
  },
  {
   "cell_type": "code",
   "execution_count": 14,
   "id": "0816317e",
   "metadata": {},
   "outputs": [
    {
     "data": {
      "application/vnd.plotly.v1+json": {
       "config": {
        "plotlyServerURL": "https://plot.ly"
       },
       "data": [
        {
         "alignmentgroup": "True",
         "hovertemplate": "Steering Angle=%{x}<br>Frequency=%{y}<extra></extra>",
         "legendgroup": "",
         "marker": {
          "color": "#636efa",
          "pattern": {
           "shape": ""
          }
         },
         "name": "",
         "offsetgroup": "",
         "orientation": "v",
         "showlegend": false,
         "textposition": "auto",
         "type": "bar",
         "x": [
<<<<<<< HEAD
          -0.4297586919799928,
          -0.40027190504535554,
          -0.3707851181107183,
          -0.341298331176081,
          -0.31181154424144375,
          -0.2823247573068065,
          -0.25283797037216926,
          -0.223351183437532,
          -0.19386439650289472,
          -0.16437760956825748,
          -0.13489082263362023,
          -0.10540403569898299,
          -0.07591724876434575,
          -0.046430461829708475,
          -0.016943674895071204,
          0.01254311203956604,
          0.04202989897420331,
          0.07151668590884058,
          0.10100347284347783,
          0.13049025977811507,
          0.1599770467127523,
          0.18946383364738956,
          0.2189506205820268,
          0.24843740751666404,
          0.2779241944513013,
          0.30741098138593853,
          0.33689776832057583,
          0.36638455525521313,
          0.3958713421898504,
          0.4253581291244876,
          0.45484491605912486
=======
          -1.717225806451613,
          -1.6116774193548387,
          -1.5061290322580645,
          -1.4005806451612903,
          -1.2950322580645162,
          -1.189483870967742,
          -1.0839354838709676,
          -0.9783870967741936,
          -0.8728387096774194,
          -0.7672903225806452,
          -0.6617419354838711,
          -0.5561935483870968,
          -0.4506451612903225,
          -0.34509677419354834,
          -0.23954838709677417,
          -0.134,
          -0.028451612903225842,
          0.07709677419354832,
          0.1826451612903226,
          0.28819354838709677,
          0.39374193548387093,
          0.4992903225806451,
          0.6048387096774193,
          0.7103870967741936,
          0.8159354838709678,
          0.921483870967742,
          1.0270322580645161,
          1.1325806451612903,
          1.2381290322580645,
          1.3436774193548386,
          1.4492258064516128
>>>>>>> 195d3fa48c5569da75b9e20ed00bf832520cecfc
         ],
         "xaxis": "x",
         "y": [
          2,
          2,
<<<<<<< HEAD
          7,
          4,
          7,
          7,
          10,
          3,
          32,
          0,
          8,
          2,
          22,
          9,
          33,
          50,
          16,
          19,
          21,
          59,
          22,
          12,
          4,
          7,
          2,
=======
          0,
          1,
          1,
          1,
          1,
          0,
          0,
          3,
          7,
          2,
          1,
          5,
          5,
          9,
          12,
          14,
          14,
          2,
          6,
          3,
          2,
          1,
          1,
          0,
>>>>>>> 195d3fa48c5569da75b9e20ed00bf832520cecfc
          0,
          2,
          0,
          1,
          0,
          0,
          2
         ],
         "yaxis": "y"
        }
       ],
       "layout": {
        "barmode": "relative",
        "legend": {
         "tracegroupgap": 0
        },
        "template": {
         "data": {
          "bar": [
           {
            "error_x": {
             "color": "#f2f5fa"
            },
            "error_y": {
             "color": "#f2f5fa"
            },
            "marker": {
             "line": {
              "color": "rgb(17,17,17)",
              "width": 0.5
             },
             "pattern": {
              "fillmode": "overlay",
              "size": 10,
              "solidity": 0.2
             }
            },
            "type": "bar"
           }
          ],
          "barpolar": [
           {
            "marker": {
             "line": {
              "color": "rgb(17,17,17)",
              "width": 0.5
             },
             "pattern": {
              "fillmode": "overlay",
              "size": 10,
              "solidity": 0.2
             }
            },
            "type": "barpolar"
           }
          ],
          "carpet": [
           {
            "aaxis": {
             "endlinecolor": "#A2B1C6",
             "gridcolor": "#506784",
             "linecolor": "#506784",
             "minorgridcolor": "#506784",
             "startlinecolor": "#A2B1C6"
            },
            "baxis": {
             "endlinecolor": "#A2B1C6",
             "gridcolor": "#506784",
             "linecolor": "#506784",
             "minorgridcolor": "#506784",
             "startlinecolor": "#A2B1C6"
            },
            "type": "carpet"
           }
          ],
          "choropleth": [
           {
            "colorbar": {
             "outlinewidth": 0,
             "ticks": ""
            },
            "type": "choropleth"
           }
          ],
          "contour": [
           {
            "colorbar": {
             "outlinewidth": 0,
             "ticks": ""
            },
            "colorscale": [
             [
              0,
              "#0d0887"
             ],
             [
              0.1111111111111111,
              "#46039f"
             ],
             [
              0.2222222222222222,
              "#7201a8"
             ],
             [
              0.3333333333333333,
              "#9c179e"
             ],
             [
              0.4444444444444444,
              "#bd3786"
             ],
             [
              0.5555555555555556,
              "#d8576b"
             ],
             [
              0.6666666666666666,
              "#ed7953"
             ],
             [
              0.7777777777777778,
              "#fb9f3a"
             ],
             [
              0.8888888888888888,
              "#fdca26"
             ],
             [
              1,
              "#f0f921"
             ]
            ],
            "type": "contour"
           }
          ],
          "contourcarpet": [
           {
            "colorbar": {
             "outlinewidth": 0,
             "ticks": ""
            },
            "type": "contourcarpet"
           }
          ],
          "heatmap": [
           {
            "colorbar": {
             "outlinewidth": 0,
             "ticks": ""
            },
            "colorscale": [
             [
              0,
              "#0d0887"
             ],
             [
              0.1111111111111111,
              "#46039f"
             ],
             [
              0.2222222222222222,
              "#7201a8"
             ],
             [
              0.3333333333333333,
              "#9c179e"
             ],
             [
              0.4444444444444444,
              "#bd3786"
             ],
             [
              0.5555555555555556,
              "#d8576b"
             ],
             [
              0.6666666666666666,
              "#ed7953"
             ],
             [
              0.7777777777777778,
              "#fb9f3a"
             ],
             [
              0.8888888888888888,
              "#fdca26"
             ],
             [
              1,
              "#f0f921"
             ]
            ],
            "type": "heatmap"
           }
          ],
          "heatmapgl": [
           {
            "colorbar": {
             "outlinewidth": 0,
             "ticks": ""
            },
            "colorscale": [
             [
              0,
              "#0d0887"
             ],
             [
              0.1111111111111111,
              "#46039f"
             ],
             [
              0.2222222222222222,
              "#7201a8"
             ],
             [
              0.3333333333333333,
              "#9c179e"
             ],
             [
              0.4444444444444444,
              "#bd3786"
             ],
             [
              0.5555555555555556,
              "#d8576b"
             ],
             [
              0.6666666666666666,
              "#ed7953"
             ],
             [
              0.7777777777777778,
              "#fb9f3a"
             ],
             [
              0.8888888888888888,
              "#fdca26"
             ],
             [
              1,
              "#f0f921"
             ]
            ],
            "type": "heatmapgl"
           }
          ],
          "histogram": [
           {
            "marker": {
             "pattern": {
              "fillmode": "overlay",
              "size": 10,
              "solidity": 0.2
             }
            },
            "type": "histogram"
           }
          ],
          "histogram2d": [
           {
            "colorbar": {
             "outlinewidth": 0,
             "ticks": ""
            },
            "colorscale": [
             [
              0,
              "#0d0887"
             ],
             [
              0.1111111111111111,
              "#46039f"
             ],
             [
              0.2222222222222222,
              "#7201a8"
             ],
             [
              0.3333333333333333,
              "#9c179e"
             ],
             [
              0.4444444444444444,
              "#bd3786"
             ],
             [
              0.5555555555555556,
              "#d8576b"
             ],
             [
              0.6666666666666666,
              "#ed7953"
             ],
             [
              0.7777777777777778,
              "#fb9f3a"
             ],
             [
              0.8888888888888888,
              "#fdca26"
             ],
             [
              1,
              "#f0f921"
             ]
            ],
            "type": "histogram2d"
           }
          ],
          "histogram2dcontour": [
           {
            "colorbar": {
             "outlinewidth": 0,
             "ticks": ""
            },
            "colorscale": [
             [
              0,
              "#0d0887"
             ],
             [
              0.1111111111111111,
              "#46039f"
             ],
             [
              0.2222222222222222,
              "#7201a8"
             ],
             [
              0.3333333333333333,
              "#9c179e"
             ],
             [
              0.4444444444444444,
              "#bd3786"
             ],
             [
              0.5555555555555556,
              "#d8576b"
             ],
             [
              0.6666666666666666,
              "#ed7953"
             ],
             [
              0.7777777777777778,
              "#fb9f3a"
             ],
             [
              0.8888888888888888,
              "#fdca26"
             ],
             [
              1,
              "#f0f921"
             ]
            ],
            "type": "histogram2dcontour"
           }
          ],
          "mesh3d": [
           {
            "colorbar": {
             "outlinewidth": 0,
             "ticks": ""
            },
            "type": "mesh3d"
           }
          ],
          "parcoords": [
           {
            "line": {
             "colorbar": {
              "outlinewidth": 0,
              "ticks": ""
             }
            },
            "type": "parcoords"
           }
          ],
          "pie": [
           {
            "automargin": true,
            "type": "pie"
           }
          ],
          "scatter": [
           {
            "marker": {
             "line": {
              "color": "#283442"
             }
            },
            "type": "scatter"
           }
          ],
          "scatter3d": [
           {
            "line": {
             "colorbar": {
              "outlinewidth": 0,
              "ticks": ""
             }
            },
            "marker": {
             "colorbar": {
              "outlinewidth": 0,
              "ticks": ""
             }
            },
            "type": "scatter3d"
           }
          ],
          "scattercarpet": [
           {
            "marker": {
             "colorbar": {
              "outlinewidth": 0,
              "ticks": ""
             }
            },
            "type": "scattercarpet"
           }
          ],
          "scattergeo": [
           {
            "marker": {
             "colorbar": {
              "outlinewidth": 0,
              "ticks": ""
             }
            },
            "type": "scattergeo"
           }
          ],
          "scattergl": [
           {
            "marker": {
             "line": {
              "color": "#283442"
             }
            },
            "type": "scattergl"
           }
          ],
          "scattermapbox": [
           {
            "marker": {
             "colorbar": {
              "outlinewidth": 0,
              "ticks": ""
             }
            },
            "type": "scattermapbox"
           }
          ],
          "scatterpolar": [
           {
            "marker": {
             "colorbar": {
              "outlinewidth": 0,
              "ticks": ""
             }
            },
            "type": "scatterpolar"
           }
          ],
          "scatterpolargl": [
           {
            "marker": {
             "colorbar": {
              "outlinewidth": 0,
              "ticks": ""
             }
            },
            "type": "scatterpolargl"
           }
          ],
          "scatterternary": [
           {
            "marker": {
             "colorbar": {
              "outlinewidth": 0,
              "ticks": ""
             }
            },
            "type": "scatterternary"
           }
          ],
          "surface": [
           {
            "colorbar": {
             "outlinewidth": 0,
             "ticks": ""
            },
            "colorscale": [
             [
              0,
              "#0d0887"
             ],
             [
              0.1111111111111111,
              "#46039f"
             ],
             [
              0.2222222222222222,
              "#7201a8"
             ],
             [
              0.3333333333333333,
              "#9c179e"
             ],
             [
              0.4444444444444444,
              "#bd3786"
             ],
             [
              0.5555555555555556,
              "#d8576b"
             ],
             [
              0.6666666666666666,
              "#ed7953"
             ],
             [
              0.7777777777777778,
              "#fb9f3a"
             ],
             [
              0.8888888888888888,
              "#fdca26"
             ],
             [
              1,
              "#f0f921"
             ]
            ],
            "type": "surface"
           }
          ],
          "table": [
           {
            "cells": {
             "fill": {
              "color": "#506784"
             },
             "line": {
              "color": "rgb(17,17,17)"
             }
            },
            "header": {
             "fill": {
              "color": "#2a3f5f"
             },
             "line": {
              "color": "rgb(17,17,17)"
             }
            },
            "type": "table"
           }
          ]
         },
         "layout": {
          "annotationdefaults": {
           "arrowcolor": "#f2f5fa",
           "arrowhead": 0,
           "arrowwidth": 1
          },
          "autotypenumbers": "strict",
          "coloraxis": {
           "colorbar": {
            "outlinewidth": 0,
            "ticks": ""
           }
          },
          "colorscale": {
           "diverging": [
            [
             0,
             "#8e0152"
            ],
            [
             0.1,
             "#c51b7d"
            ],
            [
             0.2,
             "#de77ae"
            ],
            [
             0.3,
             "#f1b6da"
            ],
            [
             0.4,
             "#fde0ef"
            ],
            [
             0.5,
             "#f7f7f7"
            ],
            [
             0.6,
             "#e6f5d0"
            ],
            [
             0.7,
             "#b8e186"
            ],
            [
             0.8,
             "#7fbc41"
            ],
            [
             0.9,
             "#4d9221"
            ],
            [
             1,
             "#276419"
            ]
           ],
           "sequential": [
            [
             0,
             "#0d0887"
            ],
            [
             0.1111111111111111,
             "#46039f"
            ],
            [
             0.2222222222222222,
             "#7201a8"
            ],
            [
             0.3333333333333333,
             "#9c179e"
            ],
            [
             0.4444444444444444,
             "#bd3786"
            ],
            [
             0.5555555555555556,
             "#d8576b"
            ],
            [
             0.6666666666666666,
             "#ed7953"
            ],
            [
             0.7777777777777778,
             "#fb9f3a"
            ],
            [
             0.8888888888888888,
             "#fdca26"
            ],
            [
             1,
             "#f0f921"
            ]
           ],
           "sequentialminus": [
            [
             0,
             "#0d0887"
            ],
            [
             0.1111111111111111,
             "#46039f"
            ],
            [
             0.2222222222222222,
             "#7201a8"
            ],
            [
             0.3333333333333333,
             "#9c179e"
            ],
            [
             0.4444444444444444,
             "#bd3786"
            ],
            [
             0.5555555555555556,
             "#d8576b"
            ],
            [
             0.6666666666666666,
             "#ed7953"
            ],
            [
             0.7777777777777778,
             "#fb9f3a"
            ],
            [
             0.8888888888888888,
             "#fdca26"
            ],
            [
             1,
             "#f0f921"
            ]
           ]
          },
          "colorway": [
           "#636efa",
           "#EF553B",
           "#00cc96",
           "#ab63fa",
           "#FFA15A",
           "#19d3f3",
           "#FF6692",
           "#B6E880",
           "#FF97FF",
           "#FECB52"
          ],
          "font": {
           "color": "#f2f5fa"
          },
          "geo": {
           "bgcolor": "rgb(17,17,17)",
           "lakecolor": "rgb(17,17,17)",
           "landcolor": "rgb(17,17,17)",
           "showlakes": true,
           "showland": true,
           "subunitcolor": "#506784"
          },
          "hoverlabel": {
           "align": "left"
          },
          "hovermode": "closest",
          "mapbox": {
           "style": "dark"
          },
          "paper_bgcolor": "rgb(17,17,17)",
          "plot_bgcolor": "rgb(17,17,17)",
          "polar": {
           "angularaxis": {
            "gridcolor": "#506784",
            "linecolor": "#506784",
            "ticks": ""
           },
           "bgcolor": "rgb(17,17,17)",
           "radialaxis": {
            "gridcolor": "#506784",
            "linecolor": "#506784",
            "ticks": ""
           }
          },
          "scene": {
           "xaxis": {
            "backgroundcolor": "rgb(17,17,17)",
            "gridcolor": "#506784",
            "gridwidth": 2,
            "linecolor": "#506784",
            "showbackground": true,
            "ticks": "",
            "zerolinecolor": "#C8D4E3"
           },
           "yaxis": {
            "backgroundcolor": "rgb(17,17,17)",
            "gridcolor": "#506784",
            "gridwidth": 2,
            "linecolor": "#506784",
            "showbackground": true,
            "ticks": "",
            "zerolinecolor": "#C8D4E3"
           },
           "zaxis": {
            "backgroundcolor": "rgb(17,17,17)",
            "gridcolor": "#506784",
            "gridwidth": 2,
            "linecolor": "#506784",
            "showbackground": true,
            "ticks": "",
            "zerolinecolor": "#C8D4E3"
           }
          },
          "shapedefaults": {
           "line": {
            "color": "#f2f5fa"
           }
          },
          "sliderdefaults": {
           "bgcolor": "#C8D4E3",
           "bordercolor": "rgb(17,17,17)",
           "borderwidth": 1,
           "tickwidth": 0
          },
          "ternary": {
           "aaxis": {
            "gridcolor": "#506784",
            "linecolor": "#506784",
            "ticks": ""
           },
           "baxis": {
            "gridcolor": "#506784",
            "linecolor": "#506784",
            "ticks": ""
           },
           "bgcolor": "rgb(17,17,17)",
           "caxis": {
            "gridcolor": "#506784",
            "linecolor": "#506784",
            "ticks": ""
           }
          },
          "title": {
           "x": 0.05
          },
          "updatemenudefaults": {
           "bgcolor": "#506784",
           "borderwidth": 0
          },
          "xaxis": {
           "automargin": true,
           "gridcolor": "#283442",
           "linecolor": "#506784",
           "ticks": "",
           "title": {
            "standoff": 15
           },
           "zerolinecolor": "#283442",
           "zerolinewidth": 2
          },
          "yaxis": {
           "automargin": true,
           "gridcolor": "#283442",
           "linecolor": "#506784",
           "ticks": "",
           "title": {
            "standoff": 15
           },
           "zerolinecolor": "#283442",
           "zerolinewidth": 2
          }
         }
        },
        "title": {
         "text": "Steering Angle Distribuiton: VALIDATION SET (Trimmed)"
        },
        "xaxis": {
         "anchor": "y",
         "domain": [
          0,
          1
         ],
         "title": {
          "text": "Steering Angle"
         }
        },
        "yaxis": {
         "anchor": "x",
         "domain": [
          0,
          1
         ],
         "title": {
          "text": "Frequency"
         }
        }
       }
      }
     },
     "metadata": {},
     "output_type": "display_data"
    }
   ],
   "source": [
    "freq_val, _ = np.histogram(y_val, nbins_val) # we already have our bins created...  steerings steerings\n",
    "\n",
    "fig = px.bar(x        = cbins_val, \n",
    "             y        = freq_val, \n",
    "             labels   = {'x' : 'Steering Angle', 'y' : 'Frequency'}, \n",
    "             title    = \"Steering Angle Distribuiton: VALIDATION SET (Trimmed)\",\n",
    "             template =\"plotly_dark\")\n",
    "\n",
    "fig.show()  "
   ]
  },
  {
   "cell_type": "markdown",
   "id": "85cf8f8b",
   "metadata": {},
   "source": [
    "## Balancing the Training Dataset  "
   ]
  },
  {
   "cell_type": "markdown",
   "id": "ee60cd2e",
   "metadata": {},
   "source": [
    "###  Histogram"
   ]
  },
  {
   "cell_type": "code",
   "execution_count": 15,
   "id": "e0271e21",
   "metadata": {
    "scrolled": false
   },
   "outputs": [
    {
     "data": {
      "application/vnd.plotly.v1+json": {
       "config": {
        "plotlyServerURL": "https://plot.ly"
       },
       "data": [
        {
         "alignmentgroup": "True",
         "hovertemplate": "Steering Angle=%{x}<br>Frequency =%{y}<extra></extra>",
         "legendgroup": "",
         "marker": {
          "color": "#636efa",
          "pattern": {
           "shape": ""
          }
         },
         "name": "",
         "offsetgroup": "",
         "orientation": "v",
         "showlegend": false,
         "textposition": "auto",
         "type": "bar",
         "x": [
<<<<<<< HEAD
          -0.5704421285660036,
          -0.5351430427643561,
          -0.49984395696270856,
          -0.4645448711610609,
          -0.4292457853594134,
          -0.39394669955776584,
          -0.3586476137561183,
          -0.3233485279544708,
          -0.2880494421528232,
          -0.2527503563511756,
          -0.21745127054952806,
          -0.18215218474788053,
          -0.14685309894623297,
          -0.1115540131445854,
          -0.07625492734293784,
          -0.04095584154129028,
          -0.005656755739642749,
          0.029642330062004785,
          0.06494141586365237,
          0.10024050166529996,
          0.1355395874669475,
          0.17083867326859503,
          0.20613775907024257,
          0.2414368448718901,
          0.2767359306735377,
          0.3120350164751853,
          0.3473341022768328,
          0.38263318807848035,
          0.41793227388012794,
          0.4532313596817755,
          0.48853044548342306
=======
          -1.7998709677419356,
          -1.6916129032258065,
          -1.5833548387096774,
          -1.4750967741935486,
          -1.3668387096774195,
          -1.2585806451612904,
          -1.1503225806451614,
          -1.0420645161290325,
          -0.9338064516129033,
          -0.8255483870967744,
          -0.7172903225806453,
          -0.6090322580645162,
          -0.5007741935483871,
          -0.3925161290322582,
          -0.2842580645161292,
          -0.17600000000000016,
          -0.06774193548387109,
          0.040516129032257986,
          0.14877419354838695,
          0.2570322580645159,
          0.365290322580645,
          0.47354838709677405,
          0.5818064516129031,
          0.6900645161290322,
          0.7983225806451613,
          0.9065806451612903,
          1.0148387096774192,
          1.123096774193548,
          1.231354838709677,
          1.3396129032258062,
          1.4478709677419352
>>>>>>> 195d3fa48c5569da75b9e20ed00bf832520cecfc
         ],
         "xaxis": "x",
         "y": [
          2,
<<<<<<< HEAD
          6,
          4,
          8,
          9,
          17,
          29,
          55,
          71,
          87,
          147,
          138,
          82,
          55,
          237,
          142,
          416,
          240,
          191,
          235,
          449,
          144,
          33,
          60,
          39,
          11,
          18,
          2,
          6,
          2,
          6
=======
          2,
          4,
          3,
          4,
          3,
          8,
          9,
          6,
          24,
          49,
          35,
          26,
          24,
          46,
          31,
          44,
          168,
          76,
          74,
          59,
          34,
          22,
          4,
          3,
          3,
          6,
          1,
          1,
          0,
          5
>>>>>>> 195d3fa48c5569da75b9e20ed00bf832520cecfc
         ],
         "yaxis": "y"
        }
       ],
       "layout": {
        "barmode": "relative",
        "legend": {
         "tracegroupgap": 0
        },
        "template": {
         "data": {
          "bar": [
           {
            "error_x": {
             "color": "#f2f5fa"
            },
            "error_y": {
             "color": "#f2f5fa"
            },
            "marker": {
             "line": {
              "color": "rgb(17,17,17)",
              "width": 0.5
             },
             "pattern": {
              "fillmode": "overlay",
              "size": 10,
              "solidity": 0.2
             }
            },
            "type": "bar"
           }
          ],
          "barpolar": [
           {
            "marker": {
             "line": {
              "color": "rgb(17,17,17)",
              "width": 0.5
             },
             "pattern": {
              "fillmode": "overlay",
              "size": 10,
              "solidity": 0.2
             }
            },
            "type": "barpolar"
           }
          ],
          "carpet": [
           {
            "aaxis": {
             "endlinecolor": "#A2B1C6",
             "gridcolor": "#506784",
             "linecolor": "#506784",
             "minorgridcolor": "#506784",
             "startlinecolor": "#A2B1C6"
            },
            "baxis": {
             "endlinecolor": "#A2B1C6",
             "gridcolor": "#506784",
             "linecolor": "#506784",
             "minorgridcolor": "#506784",
             "startlinecolor": "#A2B1C6"
            },
            "type": "carpet"
           }
          ],
          "choropleth": [
           {
            "colorbar": {
             "outlinewidth": 0,
             "ticks": ""
            },
            "type": "choropleth"
           }
          ],
          "contour": [
           {
            "colorbar": {
             "outlinewidth": 0,
             "ticks": ""
            },
            "colorscale": [
             [
              0,
              "#0d0887"
             ],
             [
              0.1111111111111111,
              "#46039f"
             ],
             [
              0.2222222222222222,
              "#7201a8"
             ],
             [
              0.3333333333333333,
              "#9c179e"
             ],
             [
              0.4444444444444444,
              "#bd3786"
             ],
             [
              0.5555555555555556,
              "#d8576b"
             ],
             [
              0.6666666666666666,
              "#ed7953"
             ],
             [
              0.7777777777777778,
              "#fb9f3a"
             ],
             [
              0.8888888888888888,
              "#fdca26"
             ],
             [
              1,
              "#f0f921"
             ]
            ],
            "type": "contour"
           }
          ],
          "contourcarpet": [
           {
            "colorbar": {
             "outlinewidth": 0,
             "ticks": ""
            },
            "type": "contourcarpet"
           }
          ],
          "heatmap": [
           {
            "colorbar": {
             "outlinewidth": 0,
             "ticks": ""
            },
            "colorscale": [
             [
              0,
              "#0d0887"
             ],
             [
              0.1111111111111111,
              "#46039f"
             ],
             [
              0.2222222222222222,
              "#7201a8"
             ],
             [
              0.3333333333333333,
              "#9c179e"
             ],
             [
              0.4444444444444444,
              "#bd3786"
             ],
             [
              0.5555555555555556,
              "#d8576b"
             ],
             [
              0.6666666666666666,
              "#ed7953"
             ],
             [
              0.7777777777777778,
              "#fb9f3a"
             ],
             [
              0.8888888888888888,
              "#fdca26"
             ],
             [
              1,
              "#f0f921"
             ]
            ],
            "type": "heatmap"
           }
          ],
          "heatmapgl": [
           {
            "colorbar": {
             "outlinewidth": 0,
             "ticks": ""
            },
            "colorscale": [
             [
              0,
              "#0d0887"
             ],
             [
              0.1111111111111111,
              "#46039f"
             ],
             [
              0.2222222222222222,
              "#7201a8"
             ],
             [
              0.3333333333333333,
              "#9c179e"
             ],
             [
              0.4444444444444444,
              "#bd3786"
             ],
             [
              0.5555555555555556,
              "#d8576b"
             ],
             [
              0.6666666666666666,
              "#ed7953"
             ],
             [
              0.7777777777777778,
              "#fb9f3a"
             ],
             [
              0.8888888888888888,
              "#fdca26"
             ],
             [
              1,
              "#f0f921"
             ]
            ],
            "type": "heatmapgl"
           }
          ],
          "histogram": [
           {
            "marker": {
             "pattern": {
              "fillmode": "overlay",
              "size": 10,
              "solidity": 0.2
             }
            },
            "type": "histogram"
           }
          ],
          "histogram2d": [
           {
            "colorbar": {
             "outlinewidth": 0,
             "ticks": ""
            },
            "colorscale": [
             [
              0,
              "#0d0887"
             ],
             [
              0.1111111111111111,
              "#46039f"
             ],
             [
              0.2222222222222222,
              "#7201a8"
             ],
             [
              0.3333333333333333,
              "#9c179e"
             ],
             [
              0.4444444444444444,
              "#bd3786"
             ],
             [
              0.5555555555555556,
              "#d8576b"
             ],
             [
              0.6666666666666666,
              "#ed7953"
             ],
             [
              0.7777777777777778,
              "#fb9f3a"
             ],
             [
              0.8888888888888888,
              "#fdca26"
             ],
             [
              1,
              "#f0f921"
             ]
            ],
            "type": "histogram2d"
           }
          ],
          "histogram2dcontour": [
           {
            "colorbar": {
             "outlinewidth": 0,
             "ticks": ""
            },
            "colorscale": [
             [
              0,
              "#0d0887"
             ],
             [
              0.1111111111111111,
              "#46039f"
             ],
             [
              0.2222222222222222,
              "#7201a8"
             ],
             [
              0.3333333333333333,
              "#9c179e"
             ],
             [
              0.4444444444444444,
              "#bd3786"
             ],
             [
              0.5555555555555556,
              "#d8576b"
             ],
             [
              0.6666666666666666,
              "#ed7953"
             ],
             [
              0.7777777777777778,
              "#fb9f3a"
             ],
             [
              0.8888888888888888,
              "#fdca26"
             ],
             [
              1,
              "#f0f921"
             ]
            ],
            "type": "histogram2dcontour"
           }
          ],
          "mesh3d": [
           {
            "colorbar": {
             "outlinewidth": 0,
             "ticks": ""
            },
            "type": "mesh3d"
           }
          ],
          "parcoords": [
           {
            "line": {
             "colorbar": {
              "outlinewidth": 0,
              "ticks": ""
             }
            },
            "type": "parcoords"
           }
          ],
          "pie": [
           {
            "automargin": true,
            "type": "pie"
           }
          ],
          "scatter": [
           {
            "marker": {
             "line": {
              "color": "#283442"
             }
            },
            "type": "scatter"
           }
          ],
          "scatter3d": [
           {
            "line": {
             "colorbar": {
              "outlinewidth": 0,
              "ticks": ""
             }
            },
            "marker": {
             "colorbar": {
              "outlinewidth": 0,
              "ticks": ""
             }
            },
            "type": "scatter3d"
           }
          ],
          "scattercarpet": [
           {
            "marker": {
             "colorbar": {
              "outlinewidth": 0,
              "ticks": ""
             }
            },
            "type": "scattercarpet"
           }
          ],
          "scattergeo": [
           {
            "marker": {
             "colorbar": {
              "outlinewidth": 0,
              "ticks": ""
             }
            },
            "type": "scattergeo"
           }
          ],
          "scattergl": [
           {
            "marker": {
             "line": {
              "color": "#283442"
             }
            },
            "type": "scattergl"
           }
          ],
          "scattermapbox": [
           {
            "marker": {
             "colorbar": {
              "outlinewidth": 0,
              "ticks": ""
             }
            },
            "type": "scattermapbox"
           }
          ],
          "scatterpolar": [
           {
            "marker": {
             "colorbar": {
              "outlinewidth": 0,
              "ticks": ""
             }
            },
            "type": "scatterpolar"
           }
          ],
          "scatterpolargl": [
           {
            "marker": {
             "colorbar": {
              "outlinewidth": 0,
              "ticks": ""
             }
            },
            "type": "scatterpolargl"
           }
          ],
          "scatterternary": [
           {
            "marker": {
             "colorbar": {
              "outlinewidth": 0,
              "ticks": ""
             }
            },
            "type": "scatterternary"
           }
          ],
          "surface": [
           {
            "colorbar": {
             "outlinewidth": 0,
             "ticks": ""
            },
            "colorscale": [
             [
              0,
              "#0d0887"
             ],
             [
              0.1111111111111111,
              "#46039f"
             ],
             [
              0.2222222222222222,
              "#7201a8"
             ],
             [
              0.3333333333333333,
              "#9c179e"
             ],
             [
              0.4444444444444444,
              "#bd3786"
             ],
             [
              0.5555555555555556,
              "#d8576b"
             ],
             [
              0.6666666666666666,
              "#ed7953"
             ],
             [
              0.7777777777777778,
              "#fb9f3a"
             ],
             [
              0.8888888888888888,
              "#fdca26"
             ],
             [
              1,
              "#f0f921"
             ]
            ],
            "type": "surface"
           }
          ],
          "table": [
           {
            "cells": {
             "fill": {
              "color": "#506784"
             },
             "line": {
              "color": "rgb(17,17,17)"
             }
            },
            "header": {
             "fill": {
              "color": "#2a3f5f"
             },
             "line": {
              "color": "rgb(17,17,17)"
             }
            },
            "type": "table"
           }
          ]
         },
         "layout": {
          "annotationdefaults": {
           "arrowcolor": "#f2f5fa",
           "arrowhead": 0,
           "arrowwidth": 1
          },
          "autotypenumbers": "strict",
          "coloraxis": {
           "colorbar": {
            "outlinewidth": 0,
            "ticks": ""
           }
          },
          "colorscale": {
           "diverging": [
            [
             0,
             "#8e0152"
            ],
            [
             0.1,
             "#c51b7d"
            ],
            [
             0.2,
             "#de77ae"
            ],
            [
             0.3,
             "#f1b6da"
            ],
            [
             0.4,
             "#fde0ef"
            ],
            [
             0.5,
             "#f7f7f7"
            ],
            [
             0.6,
             "#e6f5d0"
            ],
            [
             0.7,
             "#b8e186"
            ],
            [
             0.8,
             "#7fbc41"
            ],
            [
             0.9,
             "#4d9221"
            ],
            [
             1,
             "#276419"
            ]
           ],
           "sequential": [
            [
             0,
             "#0d0887"
            ],
            [
             0.1111111111111111,
             "#46039f"
            ],
            [
             0.2222222222222222,
             "#7201a8"
            ],
            [
             0.3333333333333333,
             "#9c179e"
            ],
            [
             0.4444444444444444,
             "#bd3786"
            ],
            [
             0.5555555555555556,
             "#d8576b"
            ],
            [
             0.6666666666666666,
             "#ed7953"
            ],
            [
             0.7777777777777778,
             "#fb9f3a"
            ],
            [
             0.8888888888888888,
             "#fdca26"
            ],
            [
             1,
             "#f0f921"
            ]
           ],
           "sequentialminus": [
            [
             0,
             "#0d0887"
            ],
            [
             0.1111111111111111,
             "#46039f"
            ],
            [
             0.2222222222222222,
             "#7201a8"
            ],
            [
             0.3333333333333333,
             "#9c179e"
            ],
            [
             0.4444444444444444,
             "#bd3786"
            ],
            [
             0.5555555555555556,
             "#d8576b"
            ],
            [
             0.6666666666666666,
             "#ed7953"
            ],
            [
             0.7777777777777778,
             "#fb9f3a"
            ],
            [
             0.8888888888888888,
             "#fdca26"
            ],
            [
             1,
             "#f0f921"
            ]
           ]
          },
          "colorway": [
           "#636efa",
           "#EF553B",
           "#00cc96",
           "#ab63fa",
           "#FFA15A",
           "#19d3f3",
           "#FF6692",
           "#B6E880",
           "#FF97FF",
           "#FECB52"
          ],
          "font": {
           "color": "#f2f5fa"
          },
          "geo": {
           "bgcolor": "rgb(17,17,17)",
           "lakecolor": "rgb(17,17,17)",
           "landcolor": "rgb(17,17,17)",
           "showlakes": true,
           "showland": true,
           "subunitcolor": "#506784"
          },
          "hoverlabel": {
           "align": "left"
          },
          "hovermode": "closest",
          "mapbox": {
           "style": "dark"
          },
          "paper_bgcolor": "rgb(17,17,17)",
          "plot_bgcolor": "rgb(17,17,17)",
          "polar": {
           "angularaxis": {
            "gridcolor": "#506784",
            "linecolor": "#506784",
            "ticks": ""
           },
           "bgcolor": "rgb(17,17,17)",
           "radialaxis": {
            "gridcolor": "#506784",
            "linecolor": "#506784",
            "ticks": ""
           }
          },
          "scene": {
           "xaxis": {
            "backgroundcolor": "rgb(17,17,17)",
            "gridcolor": "#506784",
            "gridwidth": 2,
            "linecolor": "#506784",
            "showbackground": true,
            "ticks": "",
            "zerolinecolor": "#C8D4E3"
           },
           "yaxis": {
            "backgroundcolor": "rgb(17,17,17)",
            "gridcolor": "#506784",
            "gridwidth": 2,
            "linecolor": "#506784",
            "showbackground": true,
            "ticks": "",
            "zerolinecolor": "#C8D4E3"
           },
           "zaxis": {
            "backgroundcolor": "rgb(17,17,17)",
            "gridcolor": "#506784",
            "gridwidth": 2,
            "linecolor": "#506784",
            "showbackground": true,
            "ticks": "",
            "zerolinecolor": "#C8D4E3"
           }
          },
          "shapedefaults": {
           "line": {
            "color": "#f2f5fa"
           }
          },
          "sliderdefaults": {
           "bgcolor": "#C8D4E3",
           "bordercolor": "rgb(17,17,17)",
           "borderwidth": 1,
           "tickwidth": 0
          },
          "ternary": {
           "aaxis": {
            "gridcolor": "#506784",
            "linecolor": "#506784",
            "ticks": ""
           },
           "baxis": {
            "gridcolor": "#506784",
            "linecolor": "#506784",
            "ticks": ""
           },
           "bgcolor": "rgb(17,17,17)",
           "caxis": {
            "gridcolor": "#506784",
            "linecolor": "#506784",
            "ticks": ""
           }
          },
          "title": {
           "x": 0.05
          },
          "updatemenudefaults": {
           "bgcolor": "#506784",
           "borderwidth": 0
          },
          "xaxis": {
           "automargin": true,
           "gridcolor": "#283442",
           "linecolor": "#506784",
           "ticks": "",
           "title": {
            "standoff": 15
           },
           "zerolinecolor": "#283442",
           "zerolinewidth": 2
          },
          "yaxis": {
           "automargin": true,
           "gridcolor": "#283442",
           "linecolor": "#506784",
           "ticks": "",
           "title": {
            "standoff": 15
           },
           "zerolinecolor": "#283442",
           "zerolinewidth": 2
          }
         }
        },
        "title": {
         "text": "Steering Angle Distribuiton (in Log Scale)"
        },
        "xaxis": {
         "anchor": "y",
         "domain": [
          0,
          1
         ],
         "title": {
          "text": "Steering Angle"
         }
        },
        "yaxis": {
         "anchor": "x",
         "domain": [
          0,
          1
         ],
         "title": {
          "text": "Frequency "
         }
        }
       }
      }
     },
     "metadata": {},
     "output_type": "display_data"
    }
   ],
   "source": [
    "nbins         = 31        # Has to be an odd number so we have zero at the center\n",
    "freq, bins    = np.histogram(y_train, bins=nbins)\n",
    "\n",
    "\"\"\"\n",
    "Centered bins: \n",
    "    This creates a Bin with zero value for the center \n",
    "    (wich is what we expect from most of the driving input)\n",
    "\"\"\"\n",
    "cbins = (bins[:-1] + bins[1:])*0.5     \n",
    "\n",
    "fig = px.bar(x        = cbins, \n",
    "             y        = freq, \n",
    "             labels   = {'x' : 'Steering Angle', 'y' : 'Frequency '}, \n",
    "             title    = \"Steering Angle Distribuiton (in Log Scale)\",\n",
    "             template =\"plotly_dark\",\n",
    "             log_y    = False) #True\n",
    "\n",
    "fig.show()"
   ]
  },
  {
   "cell_type": "markdown",
   "id": "fae384e6",
   "metadata": {},
   "source": [
    "### Minority class OverSampling\n",
    "\n"
   ]
  },
  {
   "cell_type": "markdown",
   "id": "f7a0d29e",
   "metadata": {},
   "source": [
    "The objective of this code was to oversampling the minority classes to be in equal frequency as the others... <br> Commented because it didn't gave much gain in performance to the CNN models."
   ]
  },
  {
   "cell_type": "code",
   "execution_count": 16,
   "id": "08467639",
   "metadata": {
    "scrolled": true
   },
   "outputs": [],
   "source": [
    "# #Set threshold for the minority class\n",
    "# threshold_frequency = 100 # look the histogram to seek for the minority classes...\n",
    "\n",
    "# threshed_bins = np.array([[cb, f] for cb,f in zip(cbins, freq) if f < threshold_frequency])\n",
    "\n",
    "# mid_idx = int((len(threshed_bins)-1)/2)\n",
    "\n",
    "# far_pos_bin = threshed_bins[-1][0]\n",
    "# center_pos_bin = threshed_bins[mid_idx+1][0]\n",
    "# center_neg_bin = threshed_bins[mid_idx][0]\n",
    "# far_neg_bin = threshed_bins[0][0]"
   ]
  },
  {
   "cell_type": "markdown",
   "id": "acec8a78",
   "metadata": {},
   "source": [
    "Augmented Image pipeline for the minority classes"
   ]
  },
  {
   "cell_type": "code",
   "execution_count": 17,
   "id": "f7a99bcc",
   "metadata": {},
   "outputs": [],
   "source": [
    "# # AUGMENTED IMAGRE PIPELINE GENERATOR ,,,,\n",
    "# seq = iaa.Sequential([\n",
    "#     iaa.Sometimes(0.30, iaa.MotionBlur(k=15, angle=[-60, 60])), \n",
    "#     iaa.Sometimes(0.50, iaa.LinearContrast((0.5, 1.9))),\n",
    "#     iaa.Sometimes(0.20, iaa.Affine(shear=(-8, 8))),\n",
    "#     iaa.Sometimes(0.10, iaa.SaltAndPepper(0.05))\n",
    "# ])  "
   ]
  },
  {
   "cell_type": "code",
   "execution_count": 18,
   "id": "32ea9eb4",
   "metadata": {},
   "outputs": [],
   "source": [
    "# counter = 0\n",
    "# for img_path, steer in zip(x_train, y_train): #img_paths steerings\n",
    "#     # if img is undersampled...\n",
    "#     if (steer <= center_neg_bin and steer >= far_neg_bin) or (steer >= center_pos_bin and steer <= far_pos_bin): \n",
    "        \n",
    "#         nimg = img_path.split(\".\")\n",
    "#         #create 8 augmented images  \n",
    "#         imgs = np.array( \n",
    "#             [ seq(images=[cv2.imread(img_path, cv2.IMREAD_COLOR)])[0] for i in range(3) ]  #530 8\n",
    "#         )\n",
    "#         for i,img in enumerate(imgs): \n",
    "#             # create a file name...\n",
    "#             name_file = nimg[0]+\"_{}.\".format(i)+nimg[1]\n",
    "#             # save new images... \n",
    "#             Image.fromarray(img).save(name_file)\n",
    "#             #update \n",
    "#             #new_row = np.array([name_file, steer])\n",
    "#             #data = np.vstack((data, new_row.reshape(-1, 2)))\n",
    "#             #img_paths = data[:, 0]\n",
    "#             #steerings = data[:, 1].astype(float)\n",
    "#             x_train = np.append(x_train, name_file)\n",
    "#             y_train = np.append(y_train, steer)\n",
    "#             #df.append(pd.DataFrame(new_row.reshape(1,-1), columns=list(df)), ignore_index=True) # dont work...\n",
    "#             print(counter)\n",
    "#             counter = counter + 1"
   ]
  },
  {
   "cell_type": "markdown",
   "id": "6048621a",
   "metadata": {},
   "source": [
    "###  Undersampling\n",
    "</br>\n",
    "<!-- <font size=\"3\"> -->\n",
    "Iterates trough the bins... </br> </br>\n",
    "Checks if a given steering angle fits in the bin, which it means that is a part of a bin to crop</br> </br>\n",
    "Shuffles data fitted into a bin and keep only <code> keep_nsamples </code> \n",
    "<!-- </font> -->"
   ]
  },
  {
   "cell_type": "code",
   "execution_count": 19,
   "id": "5bd39b86",
   "metadata": {
    "scrolled": true
   },
   "outputs": [],
   "source": [
    "keep_nsamples = 1900\n",
    "\n",
    "for i in range(nbins):   \n",
    "    \n",
    "    idx_rm = shuffle([ idx for idx, steering_value in enumerate(y_train)\n",
    "                               if steering_value >= bins[i] and steering_value <= bins[i+1] ]) # shuffle data\n",
    "    \n",
    "    x_train = np.delete(x_train, idx_rm[keep_nsamples:])\n",
    "    y_train = np.delete(y_train, idx_rm[keep_nsamples:])"
   ]
  },
  {
   "cell_type": "markdown",
   "id": "1a34135a",
   "metadata": {},
   "source": [
    "### Histogram with data balanced"
   ]
  },
  {
   "cell_type": "code",
   "execution_count": 20,
   "id": "67062645",
   "metadata": {
    "scrolled": false
   },
   "outputs": [
    {
     "data": {
      "application/vnd.plotly.v1+json": {
       "config": {
        "plotlyServerURL": "https://plot.ly"
       },
       "data": [
        {
         "alignmentgroup": "True",
         "hovertemplate": "Steering Angle=%{x}<br>Frequency=%{y}<extra></extra>",
         "legendgroup": "",
         "marker": {
          "color": "#636efa",
          "pattern": {
           "shape": ""
          }
         },
         "name": "",
         "offsetgroup": "",
         "orientation": "v",
         "showlegend": false,
         "textposition": "auto",
         "type": "bar",
         "x": [
<<<<<<< HEAD
          -0.5704421285660036,
          -0.5351430427643561,
          -0.49984395696270856,
          -0.4645448711610609,
          -0.4292457853594134,
          -0.39394669955776584,
          -0.3586476137561183,
          -0.3233485279544708,
          -0.2880494421528232,
          -0.2527503563511756,
          -0.21745127054952806,
          -0.18215218474788053,
          -0.14685309894623297,
          -0.1115540131445854,
          -0.07625492734293784,
          -0.04095584154129028,
          -0.005656755739642749,
          0.029642330062004785,
          0.06494141586365237,
          0.10024050166529996,
          0.1355395874669475,
          0.17083867326859503,
          0.20613775907024257,
          0.2414368448718901,
          0.2767359306735377,
          0.3120350164751853,
          0.3473341022768328,
          0.38263318807848035,
          0.41793227388012794,
          0.4532313596817755,
          0.48853044548342306
=======
          -1.7998709677419356,
          -1.6916129032258065,
          -1.5833548387096774,
          -1.4750967741935486,
          -1.3668387096774195,
          -1.2585806451612904,
          -1.1503225806451614,
          -1.0420645161290325,
          -0.9338064516129033,
          -0.8255483870967744,
          -0.7172903225806453,
          -0.6090322580645162,
          -0.5007741935483871,
          -0.3925161290322582,
          -0.2842580645161292,
          -0.17600000000000016,
          -0.06774193548387109,
          0.040516129032257986,
          0.14877419354838695,
          0.2570322580645159,
          0.365290322580645,
          0.47354838709677405,
          0.5818064516129031,
          0.6900645161290322,
          0.7983225806451613,
          0.9065806451612903,
          1.0148387096774192,
          1.123096774193548,
          1.231354838709677,
          1.3396129032258062,
          1.4478709677419352
>>>>>>> 195d3fa48c5569da75b9e20ed00bf832520cecfc
         ],
         "xaxis": "x",
         "y": [
          2,
<<<<<<< HEAD
          6,
          4,
          8,
          9,
          17,
          29,
          55,
          71,
          87,
          147,
          138,
          82,
          55,
          237,
          142,
          416,
          240,
          191,
          235,
          449,
          144,
          33,
          60,
          39,
          11,
          18,
          2,
          6,
          2,
          6
=======
          2,
          4,
          3,
          4,
          3,
          8,
          9,
          6,
          24,
          49,
          35,
          26,
          24,
          46,
          31,
          44,
          168,
          76,
          74,
          59,
          34,
          22,
          4,
          3,
          3,
          6,
          1,
          1,
          0,
          5
>>>>>>> 195d3fa48c5569da75b9e20ed00bf832520cecfc
         ],
         "yaxis": "y"
        }
       ],
       "layout": {
        "barmode": "relative",
        "legend": {
         "tracegroupgap": 0
        },
        "template": {
         "data": {
          "bar": [
           {
            "error_x": {
             "color": "#f2f5fa"
            },
            "error_y": {
             "color": "#f2f5fa"
            },
            "marker": {
             "line": {
              "color": "rgb(17,17,17)",
              "width": 0.5
             },
             "pattern": {
              "fillmode": "overlay",
              "size": 10,
              "solidity": 0.2
             }
            },
            "type": "bar"
           }
          ],
          "barpolar": [
           {
            "marker": {
             "line": {
              "color": "rgb(17,17,17)",
              "width": 0.5
             },
             "pattern": {
              "fillmode": "overlay",
              "size": 10,
              "solidity": 0.2
             }
            },
            "type": "barpolar"
           }
          ],
          "carpet": [
           {
            "aaxis": {
             "endlinecolor": "#A2B1C6",
             "gridcolor": "#506784",
             "linecolor": "#506784",
             "minorgridcolor": "#506784",
             "startlinecolor": "#A2B1C6"
            },
            "baxis": {
             "endlinecolor": "#A2B1C6",
             "gridcolor": "#506784",
             "linecolor": "#506784",
             "minorgridcolor": "#506784",
             "startlinecolor": "#A2B1C6"
            },
            "type": "carpet"
           }
          ],
          "choropleth": [
           {
            "colorbar": {
             "outlinewidth": 0,
             "ticks": ""
            },
            "type": "choropleth"
           }
          ],
          "contour": [
           {
            "colorbar": {
             "outlinewidth": 0,
             "ticks": ""
            },
            "colorscale": [
             [
              0,
              "#0d0887"
             ],
             [
              0.1111111111111111,
              "#46039f"
             ],
             [
              0.2222222222222222,
              "#7201a8"
             ],
             [
              0.3333333333333333,
              "#9c179e"
             ],
             [
              0.4444444444444444,
              "#bd3786"
             ],
             [
              0.5555555555555556,
              "#d8576b"
             ],
             [
              0.6666666666666666,
              "#ed7953"
             ],
             [
              0.7777777777777778,
              "#fb9f3a"
             ],
             [
              0.8888888888888888,
              "#fdca26"
             ],
             [
              1,
              "#f0f921"
             ]
            ],
            "type": "contour"
           }
          ],
          "contourcarpet": [
           {
            "colorbar": {
             "outlinewidth": 0,
             "ticks": ""
            },
            "type": "contourcarpet"
           }
          ],
          "heatmap": [
           {
            "colorbar": {
             "outlinewidth": 0,
             "ticks": ""
            },
            "colorscale": [
             [
              0,
              "#0d0887"
             ],
             [
              0.1111111111111111,
              "#46039f"
             ],
             [
              0.2222222222222222,
              "#7201a8"
             ],
             [
              0.3333333333333333,
              "#9c179e"
             ],
             [
              0.4444444444444444,
              "#bd3786"
             ],
             [
              0.5555555555555556,
              "#d8576b"
             ],
             [
              0.6666666666666666,
              "#ed7953"
             ],
             [
              0.7777777777777778,
              "#fb9f3a"
             ],
             [
              0.8888888888888888,
              "#fdca26"
             ],
             [
              1,
              "#f0f921"
             ]
            ],
            "type": "heatmap"
           }
          ],
          "heatmapgl": [
           {
            "colorbar": {
             "outlinewidth": 0,
             "ticks": ""
            },
            "colorscale": [
             [
              0,
              "#0d0887"
             ],
             [
              0.1111111111111111,
              "#46039f"
             ],
             [
              0.2222222222222222,
              "#7201a8"
             ],
             [
              0.3333333333333333,
              "#9c179e"
             ],
             [
              0.4444444444444444,
              "#bd3786"
             ],
             [
              0.5555555555555556,
              "#d8576b"
             ],
             [
              0.6666666666666666,
              "#ed7953"
             ],
             [
              0.7777777777777778,
              "#fb9f3a"
             ],
             [
              0.8888888888888888,
              "#fdca26"
             ],
             [
              1,
              "#f0f921"
             ]
            ],
            "type": "heatmapgl"
           }
          ],
          "histogram": [
           {
            "marker": {
             "pattern": {
              "fillmode": "overlay",
              "size": 10,
              "solidity": 0.2
             }
            },
            "type": "histogram"
           }
          ],
          "histogram2d": [
           {
            "colorbar": {
             "outlinewidth": 0,
             "ticks": ""
            },
            "colorscale": [
             [
              0,
              "#0d0887"
             ],
             [
              0.1111111111111111,
              "#46039f"
             ],
             [
              0.2222222222222222,
              "#7201a8"
             ],
             [
              0.3333333333333333,
              "#9c179e"
             ],
             [
              0.4444444444444444,
              "#bd3786"
             ],
             [
              0.5555555555555556,
              "#d8576b"
             ],
             [
              0.6666666666666666,
              "#ed7953"
             ],
             [
              0.7777777777777778,
              "#fb9f3a"
             ],
             [
              0.8888888888888888,
              "#fdca26"
             ],
             [
              1,
              "#f0f921"
             ]
            ],
            "type": "histogram2d"
           }
          ],
          "histogram2dcontour": [
           {
            "colorbar": {
             "outlinewidth": 0,
             "ticks": ""
            },
            "colorscale": [
             [
              0,
              "#0d0887"
             ],
             [
              0.1111111111111111,
              "#46039f"
             ],
             [
              0.2222222222222222,
              "#7201a8"
             ],
             [
              0.3333333333333333,
              "#9c179e"
             ],
             [
              0.4444444444444444,
              "#bd3786"
             ],
             [
              0.5555555555555556,
              "#d8576b"
             ],
             [
              0.6666666666666666,
              "#ed7953"
             ],
             [
              0.7777777777777778,
              "#fb9f3a"
             ],
             [
              0.8888888888888888,
              "#fdca26"
             ],
             [
              1,
              "#f0f921"
             ]
            ],
            "type": "histogram2dcontour"
           }
          ],
          "mesh3d": [
           {
            "colorbar": {
             "outlinewidth": 0,
             "ticks": ""
            },
            "type": "mesh3d"
           }
          ],
          "parcoords": [
           {
            "line": {
             "colorbar": {
              "outlinewidth": 0,
              "ticks": ""
             }
            },
            "type": "parcoords"
           }
          ],
          "pie": [
           {
            "automargin": true,
            "type": "pie"
           }
          ],
          "scatter": [
           {
            "marker": {
             "line": {
              "color": "#283442"
             }
            },
            "type": "scatter"
           }
          ],
          "scatter3d": [
           {
            "line": {
             "colorbar": {
              "outlinewidth": 0,
              "ticks": ""
             }
            },
            "marker": {
             "colorbar": {
              "outlinewidth": 0,
              "ticks": ""
             }
            },
            "type": "scatter3d"
           }
          ],
          "scattercarpet": [
           {
            "marker": {
             "colorbar": {
              "outlinewidth": 0,
              "ticks": ""
             }
            },
            "type": "scattercarpet"
           }
          ],
          "scattergeo": [
           {
            "marker": {
             "colorbar": {
              "outlinewidth": 0,
              "ticks": ""
             }
            },
            "type": "scattergeo"
           }
          ],
          "scattergl": [
           {
            "marker": {
             "line": {
              "color": "#283442"
             }
            },
            "type": "scattergl"
           }
          ],
          "scattermapbox": [
           {
            "marker": {
             "colorbar": {
              "outlinewidth": 0,
              "ticks": ""
             }
            },
            "type": "scattermapbox"
           }
          ],
          "scatterpolar": [
           {
            "marker": {
             "colorbar": {
              "outlinewidth": 0,
              "ticks": ""
             }
            },
            "type": "scatterpolar"
           }
          ],
          "scatterpolargl": [
           {
            "marker": {
             "colorbar": {
              "outlinewidth": 0,
              "ticks": ""
             }
            },
            "type": "scatterpolargl"
           }
          ],
          "scatterternary": [
           {
            "marker": {
             "colorbar": {
              "outlinewidth": 0,
              "ticks": ""
             }
            },
            "type": "scatterternary"
           }
          ],
          "surface": [
           {
            "colorbar": {
             "outlinewidth": 0,
             "ticks": ""
            },
            "colorscale": [
             [
              0,
              "#0d0887"
             ],
             [
              0.1111111111111111,
              "#46039f"
             ],
             [
              0.2222222222222222,
              "#7201a8"
             ],
             [
              0.3333333333333333,
              "#9c179e"
             ],
             [
              0.4444444444444444,
              "#bd3786"
             ],
             [
              0.5555555555555556,
              "#d8576b"
             ],
             [
              0.6666666666666666,
              "#ed7953"
             ],
             [
              0.7777777777777778,
              "#fb9f3a"
             ],
             [
              0.8888888888888888,
              "#fdca26"
             ],
             [
              1,
              "#f0f921"
             ]
            ],
            "type": "surface"
           }
          ],
          "table": [
           {
            "cells": {
             "fill": {
              "color": "#506784"
             },
             "line": {
              "color": "rgb(17,17,17)"
             }
            },
            "header": {
             "fill": {
              "color": "#2a3f5f"
             },
             "line": {
              "color": "rgb(17,17,17)"
             }
            },
            "type": "table"
           }
          ]
         },
         "layout": {
          "annotationdefaults": {
           "arrowcolor": "#f2f5fa",
           "arrowhead": 0,
           "arrowwidth": 1
          },
          "autotypenumbers": "strict",
          "coloraxis": {
           "colorbar": {
            "outlinewidth": 0,
            "ticks": ""
           }
          },
          "colorscale": {
           "diverging": [
            [
             0,
             "#8e0152"
            ],
            [
             0.1,
             "#c51b7d"
            ],
            [
             0.2,
             "#de77ae"
            ],
            [
             0.3,
             "#f1b6da"
            ],
            [
             0.4,
             "#fde0ef"
            ],
            [
             0.5,
             "#f7f7f7"
            ],
            [
             0.6,
             "#e6f5d0"
            ],
            [
             0.7,
             "#b8e186"
            ],
            [
             0.8,
             "#7fbc41"
            ],
            [
             0.9,
             "#4d9221"
            ],
            [
             1,
             "#276419"
            ]
           ],
           "sequential": [
            [
             0,
             "#0d0887"
            ],
            [
             0.1111111111111111,
             "#46039f"
            ],
            [
             0.2222222222222222,
             "#7201a8"
            ],
            [
             0.3333333333333333,
             "#9c179e"
            ],
            [
             0.4444444444444444,
             "#bd3786"
            ],
            [
             0.5555555555555556,
             "#d8576b"
            ],
            [
             0.6666666666666666,
             "#ed7953"
            ],
            [
             0.7777777777777778,
             "#fb9f3a"
            ],
            [
             0.8888888888888888,
             "#fdca26"
            ],
            [
             1,
             "#f0f921"
            ]
           ],
           "sequentialminus": [
            [
             0,
             "#0d0887"
            ],
            [
             0.1111111111111111,
             "#46039f"
            ],
            [
             0.2222222222222222,
             "#7201a8"
            ],
            [
             0.3333333333333333,
             "#9c179e"
            ],
            [
             0.4444444444444444,
             "#bd3786"
            ],
            [
             0.5555555555555556,
             "#d8576b"
            ],
            [
             0.6666666666666666,
             "#ed7953"
            ],
            [
             0.7777777777777778,
             "#fb9f3a"
            ],
            [
             0.8888888888888888,
             "#fdca26"
            ],
            [
             1,
             "#f0f921"
            ]
           ]
          },
          "colorway": [
           "#636efa",
           "#EF553B",
           "#00cc96",
           "#ab63fa",
           "#FFA15A",
           "#19d3f3",
           "#FF6692",
           "#B6E880",
           "#FF97FF",
           "#FECB52"
          ],
          "font": {
           "color": "#f2f5fa"
          },
          "geo": {
           "bgcolor": "rgb(17,17,17)",
           "lakecolor": "rgb(17,17,17)",
           "landcolor": "rgb(17,17,17)",
           "showlakes": true,
           "showland": true,
           "subunitcolor": "#506784"
          },
          "hoverlabel": {
           "align": "left"
          },
          "hovermode": "closest",
          "mapbox": {
           "style": "dark"
          },
          "paper_bgcolor": "rgb(17,17,17)",
          "plot_bgcolor": "rgb(17,17,17)",
          "polar": {
           "angularaxis": {
            "gridcolor": "#506784",
            "linecolor": "#506784",
            "ticks": ""
           },
           "bgcolor": "rgb(17,17,17)",
           "radialaxis": {
            "gridcolor": "#506784",
            "linecolor": "#506784",
            "ticks": ""
           }
          },
          "scene": {
           "xaxis": {
            "backgroundcolor": "rgb(17,17,17)",
            "gridcolor": "#506784",
            "gridwidth": 2,
            "linecolor": "#506784",
            "showbackground": true,
            "ticks": "",
            "zerolinecolor": "#C8D4E3"
           },
           "yaxis": {
            "backgroundcolor": "rgb(17,17,17)",
            "gridcolor": "#506784",
            "gridwidth": 2,
            "linecolor": "#506784",
            "showbackground": true,
            "ticks": "",
            "zerolinecolor": "#C8D4E3"
           },
           "zaxis": {
            "backgroundcolor": "rgb(17,17,17)",
            "gridcolor": "#506784",
            "gridwidth": 2,
            "linecolor": "#506784",
            "showbackground": true,
            "ticks": "",
            "zerolinecolor": "#C8D4E3"
           }
          },
          "shapedefaults": {
           "line": {
            "color": "#f2f5fa"
           }
          },
          "sliderdefaults": {
           "bgcolor": "#C8D4E3",
           "bordercolor": "rgb(17,17,17)",
           "borderwidth": 1,
           "tickwidth": 0
          },
          "ternary": {
           "aaxis": {
            "gridcolor": "#506784",
            "linecolor": "#506784",
            "ticks": ""
           },
           "baxis": {
            "gridcolor": "#506784",
            "linecolor": "#506784",
            "ticks": ""
           },
           "bgcolor": "rgb(17,17,17)",
           "caxis": {
            "gridcolor": "#506784",
            "linecolor": "#506784",
            "ticks": ""
           }
          },
          "title": {
           "x": 0.05
          },
          "updatemenudefaults": {
           "bgcolor": "#506784",
           "borderwidth": 0
          },
          "xaxis": {
           "automargin": true,
           "gridcolor": "#283442",
           "linecolor": "#506784",
           "ticks": "",
           "title": {
            "standoff": 15
           },
           "zerolinecolor": "#283442",
           "zerolinewidth": 2
          },
          "yaxis": {
           "automargin": true,
           "gridcolor": "#283442",
           "linecolor": "#506784",
           "ticks": "",
           "title": {
            "standoff": 15
           },
           "zerolinecolor": "#283442",
           "zerolinewidth": 2
          }
         }
        },
        "title": {
         "text": "Steering Angle Distribuiton (Trimmed)"
        },
        "xaxis": {
         "anchor": "y",
         "domain": [
          0,
          1
         ],
         "title": {
          "text": "Steering Angle"
         }
        },
        "yaxis": {
         "anchor": "x",
         "domain": [
          0,
          1
         ],
         "title": {
          "text": "Frequency"
         }
        }
       }
      }
     },
     "metadata": {},
     "output_type": "display_data"
    },
    {
     "name": "stdout",
     "output_type": "stream",
     "text": [
<<<<<<< HEAD
      "Total Training Images:  2941\n"
=======
      "Total Training Images:  776\n"
>>>>>>> 195d3fa48c5569da75b9e20ed00bf832520cecfc
     ]
    }
   ],
   "source": [
    "freq, _ = np.histogram(y_train, nbins) # we already have our bins created...\n",
    "\n",
    "fig = px.bar(x        = cbins, \n",
    "             y        = freq, \n",
    "             labels   = {'x' : 'Steering Angle', 'y' : 'Frequency'}, \n",
    "             title    = \"Steering Angle Distribuiton (Trimmed)\",\n",
    "             template =\"plotly_dark\",\n",
    "             log_y    = False)\n",
    "\n",
    "fig.show()  \n",
    "\n",
    "print(\"Total Training Images: \", len(x_train))"
   ]
  },
  {
   "cell_type": "markdown",
   "id": "e5a52bd5",
   "metadata": {},
   "source": [
    "## Data Augmentation"
   ]
  },
  {
   "cell_type": "markdown",
   "id": "b3455cb7",
   "metadata": {},
   "source": [
    "### Image Pre-Processing"
   ]
  },
  {
   "cell_type": "code",
   "execution_count": 21,
   "id": "1a704b76",
   "metadata": {},
   "outputs": [],
   "source": [
    "def pre_processing(img, img_width=320, img_height=160, normalization=\"yes\"):\n",
    "    # Cropping Region of intrest, Ajust with Gazebo and use Andre Code in the Future\n",
    "    img = cv2.cvtColor(img, cv2.COLOR_BGR2YUV) # For better jornalization \n",
    "    \n",
    "    img = cv2.GaussianBlur(img, (3, 3), 0) \n",
    "    \n",
    "    img = cv2.resize(img, (img_width, img_height))  # NIVIDA uses 200x66\n",
    "\n",
    "    if normalization == \"yes\":\n",
    "        img = img/255\n",
    "\n",
    "    return img "
   ]
  },
  {
   "cell_type": "code",
   "execution_count": 22,
   "id": "5c0c3510",
   "metadata": {},
   "outputs": [],
   "source": [
    "def augmentImage(imgPath, steering):\n",
    "    # Function: Add randomness to the data set by applying random \"filters\"\n",
    "\n",
    "    img = mpimg.imread(imgPath)\n",
    "\n",
    "    # Translation... PAN\n",
    "    if np.random.rand() < 0.30:\n",
    "        pan = iaa.Affine(translate_percent = {'x': (-0.1, 0.1) , 'y': (-0.1, 0.1)} )\n",
    "        img = pan.augment_image(img)  # Add a pan to img 5555 5   \n",
    "\n",
    "    # Zoom \n",
    "    if np.random.rand() < 0.30:\n",
    "        zoom = iaa.Affine(scale=(1, 1.2))\n",
    "        img = zoom.augment_image(img)\n",
    "\n",
    "    # Brightness\n",
    "    if np.random.rand() < 0.30:\n",
    "        brightness = iaa.Multiply((0.2, 1.2))\n",
    "        img = brightness.augment_image(img)\n",
    "    \n",
    "    #Motion Blur\n",
    "    if np.random.rand() < 0.30:\n",
    "        motion_blur = iaa.MotionBlur(k=15, angle=[-60, 60])\n",
    "        img = motion_blur.augment_image(img)\n",
    "        \n",
    "    #Contrast  \n",
    "    if np.random.rand() < 0.30:\n",
    "        lin_contrast = iaa.LinearContrast((0.5, 1.9))\n",
    "        img = lin_contrast.augment_image(img)\n",
    "    \n",
    "    # Shear Operation\n",
    "    if np.random.rand() < 0.30:\n",
    "        shear_img = iaa.Affine(shear=(-8, 8))\n",
    "        img = shear_img.augment_image(img)\n",
    "    \n",
    "    # Noise\n",
    "    if np.random.rand() < 0.30:\n",
    "        noise = iaa.SaltAndPepper(0.05)\n",
    "        img = noise.augment_image(img)\n",
    "    \n",
    "    # Random Ereasing / Occlusion\n",
    "    if np.random.rand() < 0.30:\n",
    "        occlusion = iaa.Cutout(nb_iterations=(1, 5), size=0.2, squared=False)\n",
    "        img = occlusion.augment_image(img)\n",
    "        \n",
    "    # Flip\n",
    "    if np.random.rand() < 0.30:\n",
    "        img = cv2.flip(img, 1)  \n",
    "        steering = - steering\n",
    "\n",
    "    return img, steering"
   ]
  },
  {
   "cell_type": "code",
   "execution_count": 23,
   "id": "5ab677ea",
   "metadata": {},
   "outputs": [],
   "source": [
    "def batchGen(imagesPath, steeringList, batchSize, trainFlag, imgwidth, imgheight):\n",
    "    # Creates a batch and applies augmentation\n",
    "    while True:\n",
    "        imgBatch = [] \n",
    "        steeringBatch = []   \n",
    "\n",
    "        for i in range(batchSize):\n",
    "            # Gets a random image and augments it\n",
    "            index = random.randint(0, len(imagesPath) - 1)\n",
    "            if trainFlag:\n",
    "                img, steering = augmentImage(imagesPath[index], steeringList[index])\n",
    "            else:\n",
    "                img = mpimg.imread(imagesPath[index])\n",
    "                steering = steeringList[index]\n",
    "            img = pre_processing(img, imgwidth, imgheight)\n",
    "\n",
    "            imgBatch.append(img)\n",
    "            steeringBatch.append(steering)\n",
    "\n",
    "        yield (np.asarray(imgBatch), np.asarray(steeringBatch)) "
   ]
  },
  {
   "cell_type": "markdown",
   "id": "b0c1310e",
   "metadata": {},
   "source": [
    "## CNN Models"
   ]
  },
  {
   "cell_type": "code",
   "execution_count": 24,
   "id": "daa7e8ae",
   "metadata": {},
   "outputs": [],
   "source": [
    "def cnn_nvidia(imgwidth, imgheight, nchannels): \n",
    "    \n",
    "    model = Sequential()\n",
    "    model.add(Convolution2D(24, (5, 5), (2, 2), input_shape=(imgheight, imgwidth, nchannels), activation='relu'))\n",
    "    model.add(Convolution2D(36, (5, 5), (2, 2), activation='relu'))\n",
    "    model.add(Convolution2D(48, (5, 5), (2, 2), activation='relu'))\n",
    "    model.add(Convolution2D(64, (3, 3), activation='relu'))\n",
    "    model.add(Convolution2D(64, (3, 3), activation='relu'))\n",
    "\n",
    "    model.add(Flatten())\n",
    "    \n",
    "    model.add(Dense(100, activation='relu'))  \n",
    "    \n",
    "    model.add(Dense(50, activation='elu'))\n",
    "    \n",
    "    model.add(Dense(10, activation='elu'))\n",
    "   \n",
    "    model.add(Dense(1)) \n",
    "\n",
    "    model.compile(Adam(learning_rate=0.0001), loss='mse')\n",
    "    \n",
    "    return model"
   ]
  },
  {
   "cell_type": "code",
   "execution_count": 25,
   "id": "c507ddea",
   "metadata": {},
   "outputs": [],
   "source": [
    "#steps_per_epoch=32\n",
    "#epochs=25\n",
    "def cnn_rota(imgwidth, imgheight):\n",
    "    \n",
    "    model = Sequential()\n",
    "    \n",
    "    model.add(Convolution2D(8, (5, 5), (2, 2), input_shape=(imgheight, imgwidth, 3), activation='relu'))\n",
    "    model.add(Convolution2D(16, (5, 5), (2, 2), activation='relu'))\n",
    "    model.add(Convolution2D(32, (5, 5), (2, 2), activation='relu'))\n",
    "    model.add(Convolution2D(32, (5, 5), (1, 1), activation='relu'))\n",
    "    \n",
    "    model.add(Flatten())\n",
    "    \n",
    "    model.add(Dense(375, activation='relu'))\n",
    "    #model.add(Dropout(rate=0.20)) #probability\n",
    "    model.add(Dense(125, activation='relu'))\n",
    "    #model.add(Dropout(rate=0.10)) #probability\n",
    "    model.add(Dense(25, activation='relu'))\n",
    "    model.add(Dense(1, activation='tanh'))\n",
    "    \n",
    "    model.compile(Adam(learning_rate=0.0001), loss='mse')\n",
    "    \n",
    "    return model"
   ]
  },
  {
   "cell_type": "markdown",
   "id": "65a3beaa",
   "metadata": {},
   "source": [
    "## RNN Model"
   ]
  },
  {
   "cell_type": "markdown",
   "id": "1ab06186",
   "metadata": {},
   "source": [
    "RNN model currently doesn't work, but it is interesting to see in the future"
   ]
  },
  {
   "cell_type": "code",
   "execution_count": 26,
   "id": "1ec74945",
   "metadata": {},
   "outputs": [],
   "source": [
    "# import toolz\n",
    "# from toolz.itertoolz import sliding_window\n",
    "\n",
    "# seq_len = 41\n",
    "\n",
    "# def create_sequences(size, data):\n",
    "#     sequence = list(sliding_window(size, data))\n",
    "#     sequence = np.array(sequence)\n",
    "#     return sequence\n",
    "\n",
    "# metax = create_sequences(seq_len, img_paths)\n",
    "# metay = create_sequences(seq_len, steerings)\n",
    "\n",
    "# x_train_lstm, x_test_lstm, y_train_lstm, y_test_lstm = train_test_split(metax, metay, test_size=0.10, random_state=5)\n",
    "# x_train_lstm, x_val_lstm, y_train_lstm, y_val_lstm = train_test_split(x_train_lstm, y_train_lstm, test_size=0.10, random_state=5)\n",
    "\n",
    "\n",
    "# print(x_train_lstm.shape)\n",
    "\n",
    "# def batchGen_lstm(imagesPath, steeringList, batchSize, trainFlag, imgwidth, imgheight):\n",
    "#     # Creates a batch and applies augmentation\n",
    "#     while True:\n",
    "#         imgBatch = [] \n",
    "#         steeringBatch = []   \n",
    "\n",
    "#         for i in range(batchSize):\n",
    "#             img_seqs = []\n",
    "#             steer_seqs = []\n",
    "#             for j in range(seq_len):\n",
    "#                 img = mpimg.imread(imagesPath[i][j])\n",
    "#                 steering = steeringList[i][j]\n",
    "#                 img = pre_processing(img, imgwidth, imgheight)\n",
    "#                 img_seqs.append( img)\n",
    "#                 steer_seqs.append( steering)\n",
    "                \n",
    "#             imgBatch.append(np.array(img_seqs))\n",
    "#             steeringBatch.append(np.array(steer_seqs))\n",
    "        \n",
    "#         imgBatch = shuffle(imgBatch)\n",
    "#         steeringBatch = shuffle(steeringBatch)\n",
    "        \n",
    "#         print(np.array(steeringBatch).shape)\n",
    "        \n",
    "#         yield (np.asarray(imgBatch), np.asarray(steeringBatch)) \n",
    "        \n",
    "\n",
    "# def cnn_lstm(imgwidth=320, imgheight=160):     \n",
    "#     model = Sequential()##########\n",
    "    \n",
    "#     model.add(ConvLSTM2D(filters = 24, \n",
    "#                          kernel_size = (5, 5), \n",
    "#                          strides=(2, 2),\n",
    "#                          activation = 'tanh',\n",
    "#                          data_format = \"channels_last\",\n",
    "#                          recurrent_dropout=0.2, \n",
    "#                          return_sequences=True, \n",
    "#                          input_shape = (seq_len, imgwidth, imgheight, 3))) \n",
    "#     model.add(TimeDistributed(Dropout(0.2)))\n",
    "    \n",
    "#     model.add(ConvLSTM2D(filters = 36, \n",
    "#                          kernel_size = (5, 5), \n",
    "#                          strides=(2, 2),\n",
    "#                          activation = 'tanh',\n",
    "#                          data_format = \"channels_last\",\n",
    "#                          recurrent_dropout=0.2, \n",
    "#                          return_sequences=True, \n",
    "#                          input_shape = (seq_len, imgwidth, imgheight, 3))) \n",
    "#     model.add(TimeDistributed(Dropout(0.2)))\n",
    "    \n",
    "#     model.add(ConvLSTM2D(filters = 48, \n",
    "#                          kernel_size = (5, 5), \n",
    "#                          strides=(2, 2),\n",
    "#                          activation = 'tanh',\n",
    "#                          data_format = \"channels_last\",\n",
    "#                          recurrent_dropout=0.2, \n",
    "#                          return_sequences=True, \n",
    "#                          input_shape = (seq_len, imgwidth, imgheight, 3))) \n",
    "#     model.add(TimeDistributed(Dropout(0.2)))\n",
    "    \n",
    "#     model.add(ConvLSTM2D(filters = 64, \n",
    "#                          kernel_size = (3, 3),\n",
    "#                          activation = 'tanh',\n",
    "#                          data_format = \"channels_last\",\n",
    "#                          recurrent_dropout=0.2, \n",
    "#                          return_sequences=True, \n",
    "#                          input_shape = (seq_len, imgwidth, imgheight, 3))) \n",
    "#     model.add(TimeDistributed(Dropout(0.2)))\n",
    "    \n",
    "#     model.add(ConvLSTM2D(filters = 64, \n",
    "#                          kernel_size = (3, 3),\n",
    "#                          activation = 'tanh',\n",
    "#                          data_format = \"channels_last\",\n",
    "#                          recurrent_dropout=0.2, \n",
    "#                          return_sequences=True, \n",
    "#                          input_shape = (seq_len, imgwidth, imgheight, 3))) \n",
    "#     model.add(TimeDistributed(Dropout(0.2)))\n",
    "    \n",
    "#     model.add(Flatten()) \n",
    "    \n",
    "#     #model.add(Dense(375, activation='relu'))\n",
    "#     #model.add(Dropout(rate=0.20)) #probability\n",
    "#     #model.summary()\n",
    "#     ##model.compile(Adam(learning_rate=np.exp(-5)), loss='mse')\n",
    "#     model.add(Dense(125, activation='relu'))\n",
    "#     model.add(Dense(25, activation='relu'))\n",
    "#     model.add(Dense(1, activation='tanh'))\n",
    "    \n",
    "#     model.compile(Adam(learning_rate=0.0001), loss='mse')\n",
    "    \n",
    "#     return model"
   ]
  },
  {
   "cell_type": "markdown",
   "id": "c196e4fe",
   "metadata": {},
   "source": [
    "## CNN Training"
   ]
  },
  {
   "cell_type": "code",
   "execution_count": 27,
   "id": "60f8cf1a",
   "metadata": {
    "scrolled": true
   },
   "outputs": [
    {
     "name": "stderr",
     "output_type": "stream",
     "text": [
<<<<<<< HEAD
      "2022-11-14 22:31:57.012642: E tensorflow/stream_executor/cuda/cuda_driver.cc:271] failed call to cuInit: CUDA_ERROR_NO_DEVICE: no CUDA-capable device is detected\n",
      "2022-11-14 22:31:57.012680: I tensorflow/stream_executor/cuda/cuda_diagnostics.cc:156] kernel driver does not appear to be running on this host (shedinja): /proc/driver/nvidia/version does not exist\n",
      "2022-11-14 22:31:57.013096: I tensorflow/core/platform/cpu_feature_guard.cc:151] This TensorFlow binary is optimized with oneAPI Deep Neural Network Library (oneDNN) to use the following CPU instructions in performance-critical operations:  AVX2 FMA\n",
=======
      "2022-11-02 17:50:07.923743: W tensorflow/stream_executor/platform/default/dso_loader.cc:64] Could not load dynamic library 'libcuda.so.1'; dlerror: libcuda.so.1: cannot open shared object file: No such file or directory; LD_LIBRARY_PATH: /home/tatiana/catkin_ws/devel/lib:/opt/ros/noetic/lib\n",
      "2022-11-02 17:50:07.923804: W tensorflow/stream_executor/cuda/cuda_driver.cc:269] failed call to cuInit: UNKNOWN ERROR (303)\n",
      "2022-11-02 17:50:07.923843: I tensorflow/stream_executor/cuda/cuda_diagnostics.cc:156] kernel driver does not appear to be running on this host (tatiana-HP-Laptop-15-db1xxx): /proc/driver/nvidia/version does not exist\n",
      "2022-11-02 17:50:07.924556: I tensorflow/core/platform/cpu_feature_guard.cc:151] This TensorFlow binary is optimized with oneAPI Deep Neural Network Library (oneDNN) to use the following CPU instructions in performance-critical operations:  AVX2 FMA\n",
>>>>>>> 195d3fa48c5569da75b9e20ed00bf832520cecfc
      "To enable them in other operations, rebuild TensorFlow with the appropriate compiler flags.\n"
     ]
    },
    {
     "name": "stdout",
     "output_type": "stream",
     "text": [
      "Model: \"sequential\"\n",
      "_________________________________________________________________\n",
      " Layer (type)                Output Shape              Param #   \n",
      "=================================================================\n",
      " conv2d (Conv2D)             (None, 78, 158, 24)       1824      \n",
      "                                                                 \n",
      " conv2d_1 (Conv2D)           (None, 37, 77, 36)        21636     \n",
      "                                                                 \n",
      " conv2d_2 (Conv2D)           (None, 17, 37, 48)        43248     \n",
      "                                                                 \n",
      " conv2d_3 (Conv2D)           (None, 15, 35, 64)        27712     \n",
      "                                                                 \n",
      " conv2d_4 (Conv2D)           (None, 13, 33, 64)        36928     \n",
      "                                                                 \n",
      " flatten (Flatten)           (None, 27456)             0         \n",
      "                                                                 \n",
      " dense (Dense)               (None, 100)               2745700   \n",
      "                                                                 \n",
      " dense_1 (Dense)             (None, 50)                5050      \n",
      "                                                                 \n",
      " dense_2 (Dense)             (None, 10)                510       \n",
      "                                                                 \n",
      " dense_3 (Dense)             (None, 1)                 11        \n",
      "                                                                 \n",
      "=================================================================\n",
      "Total params: 2,882,619\n",
      "Trainable params: 2,882,619\n",
      "Non-trainable params: 0\n",
      "_________________________________________________________________\n"
     ]
    }
   ],
   "source": [
    "model = cnn_nvidia(imgwidth=320, imgheight=160, nchannels=3)\n",
    "#model = load_model('cnn_40_42_1200epochs_0015.h5') # you can also load a pre-trained model...\n",
    "model.summary()   "
   ]
  },
  {
   "cell_type": "code",
   "execution_count": 28,
   "id": "61af796b",
   "metadata": {
    "scrolled": false
   },
   "outputs": [
    {
     "name": "stdout",
     "output_type": "stream",
     "text": [
<<<<<<< HEAD
      "Epoch 1/20\n"
     ]
    },
    {
     "name": "stderr",
     "output_type": "stream",
     "text": [
      "2022-11-14 22:31:58.011695: W tensorflow/core/framework/cpu_allocator_impl.cc:82] Allocation of 23662080 exceeds 10% of free system memory.\n",
      "2022-11-14 22:31:58.116606: W tensorflow/core/framework/cpu_allocator_impl.cc:82] Allocation of 25698816 exceeds 10% of free system memory.\n",
      "2022-11-14 22:31:58.116674: W tensorflow/core/framework/cpu_allocator_impl.cc:82] Allocation of 25698816 exceeds 10% of free system memory.\n",
      "2022-11-14 22:31:58.125714: W tensorflow/core/framework/cpu_allocator_impl.cc:82] Allocation of 25401600 exceeds 10% of free system memory.\n",
      "2022-11-14 22:31:58.125772: W tensorflow/core/framework/cpu_allocator_impl.cc:82] Allocation of 25401600 exceeds 10% of free system memory.\n"
     ]
    },
    {
     "name": "stdout",
     "output_type": "stream",
     "text": [
      "100/100 [==============================] - ETA: 0s - loss: 0.0192\n",
      "Epoch 00001: saving model to ../../models/callbacks/cp.ckpt\n",
      "100/100 [==============================] - 27s 267ms/step - loss: 0.0192 - val_loss: 0.0099\n",
      "Epoch 2/20\n",
      "100/100 [==============================] - ETA: 0s - loss: 0.0142\n",
      "Epoch 00002: saving model to ../../models/callbacks/cp.ckpt\n",
      "100/100 [==============================] - 29s 288ms/step - loss: 0.0142 - val_loss: 0.0081\n",
      "Epoch 3/20\n",
      "100/100 [==============================] - ETA: 0s - loss: 0.0115\n",
      "Epoch 00003: saving model to ../../models/callbacks/cp.ckpt\n",
      "100/100 [==============================] - 22s 224ms/step - loss: 0.0115 - val_loss: 0.0090\n",
      "Epoch 4/20\n",
      "100/100 [==============================] - ETA: 0s - loss: 0.0110\n",
      "Epoch 00004: saving model to ../../models/callbacks/cp.ckpt\n",
      "100/100 [==============================] - 22s 222ms/step - loss: 0.0110 - val_loss: 0.0076\n",
      "Epoch 5/20\n",
      "100/100 [==============================] - ETA: 0s - loss: 0.0110\n",
      "Epoch 00005: saving model to ../../models/callbacks/cp.ckpt\n",
      "100/100 [==============================] - 23s 228ms/step - loss: 0.0110 - val_loss: 0.0079\n",
      "Epoch 6/20\n",
      "100/100 [==============================] - ETA: 0s - loss: 0.0099\n",
      "Epoch 00006: saving model to ../../models/callbacks/cp.ckpt\n",
      "100/100 [==============================] - 23s 229ms/step - loss: 0.0099 - val_loss: 0.0083\n",
      "Epoch 7/20\n",
      "100/100 [==============================] - ETA: 0s - loss: 0.0099\n",
      "Epoch 00007: saving model to ../../models/callbacks/cp.ckpt\n",
      "100/100 [==============================] - 24s 245ms/step - loss: 0.0099 - val_loss: 0.0080\n",
      "Epoch 8/20\n",
      "100/100 [==============================] - ETA: 0s - loss: 0.0101\n",
      "Epoch 00008: saving model to ../../models/callbacks/cp.ckpt\n",
      "100/100 [==============================] - 23s 232ms/step - loss: 0.0101 - val_loss: 0.0075\n",
      "Epoch 9/20\n",
      "100/100 [==============================] - ETA: 0s - loss: 0.0091\n",
      "Epoch 00009: saving model to ../../models/callbacks/cp.ckpt\n",
      "100/100 [==============================] - 24s 244ms/step - loss: 0.0091 - val_loss: 0.0089\n",
      "Epoch 10/20\n",
      "100/100 [==============================] - ETA: 0s - loss: 0.0094\n",
      "Epoch 00010: saving model to ../../models/callbacks/cp.ckpt\n",
      "100/100 [==============================] - 24s 241ms/step - loss: 0.0094 - val_loss: 0.0079\n",
      "Epoch 11/20\n",
      "100/100 [==============================] - ETA: 0s - loss: 0.0092\n",
      "Epoch 00011: saving model to ../../models/callbacks/cp.ckpt\n",
      "100/100 [==============================] - 23s 230ms/step - loss: 0.0092 - val_loss: 0.0091\n",
      "Epoch 12/20\n",
      "100/100 [==============================] - ETA: 0s - loss: 0.0090\n",
      "Epoch 00012: saving model to ../../models/callbacks/cp.ckpt\n",
      "100/100 [==============================] - 23s 231ms/step - loss: 0.0090 - val_loss: 0.0072\n",
      "Epoch 13/20\n",
      "100/100 [==============================] - ETA: 0s - loss: 0.0090\n",
      "Epoch 00013: saving model to ../../models/callbacks/cp.ckpt\n",
      "100/100 [==============================] - 22s 223ms/step - loss: 0.0090 - val_loss: 0.0070\n",
      "Epoch 14/20\n",
      "100/100 [==============================] - ETA: 0s - loss: 0.0096\n",
      "Epoch 00014: saving model to ../../models/callbacks/cp.ckpt\n",
      "100/100 [==============================] - 23s 229ms/step - loss: 0.0096 - val_loss: 0.0071\n",
      "Epoch 15/20\n",
      "100/100 [==============================] - ETA: 0s - loss: 0.0090\n",
      "Epoch 00015: saving model to ../../models/callbacks/cp.ckpt\n",
      "100/100 [==============================] - 23s 233ms/step - loss: 0.0090 - val_loss: 0.0073\n",
      "Epoch 16/20\n",
      "100/100 [==============================] - ETA: 0s - loss: 0.0087\n",
      "Epoch 00016: saving model to ../../models/callbacks/cp.ckpt\n",
      "100/100 [==============================] - 23s 232ms/step - loss: 0.0087 - val_loss: 0.0072\n",
      "Epoch 17/20\n",
      "100/100 [==============================] - ETA: 0s - loss: 0.0084\n",
      "Epoch 00017: saving model to ../../models/callbacks/cp.ckpt\n",
      "100/100 [==============================] - 23s 226ms/step - loss: 0.0084 - val_loss: 0.0077\n",
      "Epoch 18/20\n",
      "100/100 [==============================] - ETA: 0s - loss: 0.0085\n",
      "Epoch 00018: saving model to ../../models/callbacks/cp.ckpt\n",
      "100/100 [==============================] - 23s 228ms/step - loss: 0.0085 - val_loss: 0.0075\n",
      "Epoch 19/20\n",
      "100/100 [==============================] - ETA: 0s - loss: 0.0092\n",
      "Epoch 00019: saving model to ../../models/callbacks/cp.ckpt\n",
      "100/100 [==============================] - 23s 231ms/step - loss: 0.0092 - val_loss: 0.0069\n",
      "Epoch 20/20\n",
      "100/100 [==============================] - ETA: 0s - loss: 0.0086\n",
      "Epoch 00020: saving model to ../../models/callbacks/cp.ckpt\n",
      "100/100 [==============================] - 23s 228ms/step - loss: 0.0086 - val_loss: 0.0071\n"
=======
      "Epoch 1/20\n",
      "100/100 [==============================] - ETA: 0s - loss: 0.2557\n",
      "Epoch 00001: saving model to ../../models/callbacks/cp.ckpt\n",
      "100/100 [==============================] - 49s 478ms/step - loss: 0.2557 - val_loss: 0.2827\n",
      "Epoch 2/20\n",
      "100/100 [==============================] - ETA: 0s - loss: 0.2153\n",
      "Epoch 00002: saving model to ../../models/callbacks/cp.ckpt\n",
      "100/100 [==============================] - 56s 563ms/step - loss: 0.2153 - val_loss: 0.2489\n",
      "Epoch 3/20\n",
      "100/100 [==============================] - ETA: 0s - loss: 0.1802\n",
      "Epoch 00003: saving model to ../../models/callbacks/cp.ckpt\n",
      "100/100 [==============================] - 56s 558ms/step - loss: 0.1802 - val_loss: 0.1924\n",
      "Epoch 4/20\n",
      "100/100 [==============================] - ETA: 0s - loss: 0.1890\n",
      "Epoch 00004: saving model to ../../models/callbacks/cp.ckpt\n",
      "100/100 [==============================] - 47s 473ms/step - loss: 0.1890 - val_loss: 0.1800\n",
      "Epoch 5/20\n",
      "100/100 [==============================] - ETA: 0s - loss: 0.1673\n",
      "Epoch 00005: saving model to ../../models/callbacks/cp.ckpt\n",
      "100/100 [==============================] - 45s 454ms/step - loss: 0.1673 - val_loss: 0.1989\n",
      "Epoch 6/20\n",
      "100/100 [==============================] - ETA: 0s - loss: 0.1607\n",
      "Epoch 00006: saving model to ../../models/callbacks/cp.ckpt\n",
      "100/100 [==============================] - 45s 448ms/step - loss: 0.1607 - val_loss: 0.1683\n",
      "Epoch 7/20\n",
      "100/100 [==============================] - ETA: 0s - loss: 0.1472\n",
      "Epoch 00007: saving model to ../../models/callbacks/cp.ckpt\n",
      "100/100 [==============================] - 46s 461ms/step - loss: 0.1472 - val_loss: 0.1649\n",
      "Epoch 8/20\n",
      "100/100 [==============================] - ETA: 0s - loss: 0.1385\n",
      "Epoch 00008: saving model to ../../models/callbacks/cp.ckpt\n",
      "100/100 [==============================] - 47s 466ms/step - loss: 0.1385 - val_loss: 0.1403\n",
      "Epoch 9/20\n",
      "100/100 [==============================] - ETA: 0s - loss: 0.1268\n",
      "Epoch 00009: saving model to ../../models/callbacks/cp.ckpt\n",
      "100/100 [==============================] - 49s 488ms/step - loss: 0.1268 - val_loss: 0.1715\n",
      "Epoch 10/20\n",
      "100/100 [==============================] - ETA: 0s - loss: 0.1346\n",
      "Epoch 00010: saving model to ../../models/callbacks/cp.ckpt\n",
      "100/100 [==============================] - 45s 447ms/step - loss: 0.1346 - val_loss: 0.1289\n",
      "Epoch 11/20\n",
      "100/100 [==============================] - ETA: 0s - loss: 0.1185\n",
      "Epoch 00011: saving model to ../../models/callbacks/cp.ckpt\n",
      "100/100 [==============================] - 45s 445ms/step - loss: 0.1185 - val_loss: 0.1231\n",
      "Epoch 12/20\n",
      "100/100 [==============================] - ETA: 0s - loss: 0.1231\n",
      "Epoch 00012: saving model to ../../models/callbacks/cp.ckpt\n",
      "100/100 [==============================] - 45s 449ms/step - loss: 0.1231 - val_loss: 0.1237\n",
      "Epoch 13/20\n",
      "100/100 [==============================] - ETA: 0s - loss: 0.1125\n",
      "Epoch 00013: saving model to ../../models/callbacks/cp.ckpt\n",
      "100/100 [==============================] - 45s 448ms/step - loss: 0.1125 - val_loss: 0.1281\n",
      "Epoch 14/20\n",
      "100/100 [==============================] - ETA: 0s - loss: 0.1141\n",
      "Epoch 00014: saving model to ../../models/callbacks/cp.ckpt\n",
      "100/100 [==============================] - 46s 459ms/step - loss: 0.1141 - val_loss: 0.1169\n",
      "Epoch 15/20\n",
      "100/100 [==============================] - ETA: 0s - loss: 0.1099\n",
      "Epoch 00015: saving model to ../../models/callbacks/cp.ckpt\n",
      "100/100 [==============================] - 45s 453ms/step - loss: 0.1099 - val_loss: 0.1490\n",
      "Epoch 16/20\n",
      "100/100 [==============================] - ETA: 0s - loss: 0.1008\n",
      "Epoch 00016: saving model to ../../models/callbacks/cp.ckpt\n",
      "100/100 [==============================] - 46s 457ms/step - loss: 0.1008 - val_loss: 0.1125\n",
      "Epoch 17/20\n",
      "100/100 [==============================] - ETA: 0s - loss: 0.1140\n",
      "Epoch 00017: saving model to ../../models/callbacks/cp.ckpt\n",
      "100/100 [==============================] - 46s 458ms/step - loss: 0.1140 - val_loss: 0.1237\n",
      "Epoch 18/20\n",
      "100/100 [==============================] - ETA: 0s - loss: 0.1084\n",
      "Epoch 00018: saving model to ../../models/callbacks/cp.ckpt\n",
      "100/100 [==============================] - 45s 454ms/step - loss: 0.1084 - val_loss: 0.1282\n",
      "Epoch 19/20\n",
      "100/100 [==============================] - ETA: 0s - loss: 0.0997\n",
      "Epoch 00019: saving model to ../../models/callbacks/cp.ckpt\n",
      "100/100 [==============================] - 45s 453ms/step - loss: 0.0997 - val_loss: 0.1175\n",
      "Epoch 20/20\n",
      "100/100 [==============================] - ETA: 0s - loss: 0.1022\n",
      "Epoch 00020: saving model to ../../models/callbacks/cp.ckpt\n",
      "100/100 [==============================] - 45s 452ms/step - loss: 0.1022 - val_loss: 0.1356\n"
>>>>>>> 195d3fa48c5569da75b9e20ed00bf832520cecfc
     ]
    }
   ],
   "source": [
    "cp_callback = ModelCheckpoint(filepath=\"../models/callbacks/cp.ckpt\", save_weights_only=True, verbose=1)\n",
    "\n",
    "history = model.fit(\n",
    "    batchGen(x_train, y_train, batch_size_train, training_flag, image_width, image_height),\n",
    "    steps_per_epoch  = steps_per_epoch,\n",
    "    epochs           = epochs,\n",
    "    validation_data  = batchGen(x_val, y_val, batch_size_val, validation_flag, image_width, image_height),\n",
    "    validation_steps = validation_steps,\n",
    "    callbacks        = [cp_callback])"
   ]
  },
  {
   "cell_type": "code",
   "execution_count": 29,
   "id": "5a390e2a",
   "metadata": {},
   "outputs": [
    {
     "data": {
      "application/vnd.plotly.v1+json": {
       "config": {
        "plotlyServerURL": "https://plot.ly"
       },
       "data": [
        {
         "hovertemplate": "variable=loss<br>index=%{x}<br>value=%{y}<extra></extra>",
         "legendgroup": "loss",
         "line": {
          "color": "#636efa",
          "dash": "solid"
         },
         "marker": {
          "symbol": "circle"
         },
         "mode": "lines",
         "name": "loss",
         "orientation": "v",
         "showlegend": true,
         "type": "scatter",
         "x": [
          0,
          1,
          2,
          3,
          4,
          5,
          6,
          7,
          8,
          9,
          10,
          11,
          12,
          13,
          14,
          15,
          16,
          17,
          18,
          19
         ],
         "xaxis": "x",
         "y": [
<<<<<<< HEAD
          0.01922116056084633,
          0.014206001535058022,
          0.011476264335215092,
          0.010969876311719418,
          0.010963738895952702,
          0.00985356792807579,
          0.009860658086836338,
          0.010106061585247517,
          0.009100855328142643,
          0.009446762502193451,
          0.009227540343999863,
          0.009015517309308052,
          0.008955569937825203,
          0.00959989707916975,
          0.009011439047753811,
          0.008710158057510853,
          0.008438225835561752,
          0.008493844419717789,
          0.0091891223564744,
          0.008625440299510956
=======
          0.25574007630348206,
          0.21531449258327484,
          0.1801641583442688,
          0.1889631450176239,
          0.16732636094093323,
          0.16065551340579987,
          0.1472289115190506,
          0.13848544657230377,
          0.12679384648799896,
          0.1346077173948288,
          0.11852101981639862,
          0.12306785583496094,
          0.11250106245279312,
          0.1140667200088501,
          0.10989577323198318,
          0.10077454149723053,
          0.11397436261177063,
          0.10843798518180847,
          0.09970182180404663,
          0.10223642736673355
>>>>>>> 195d3fa48c5569da75b9e20ed00bf832520cecfc
         ],
         "yaxis": "y"
        },
        {
         "hovertemplate": "variable=val_loss<br>index=%{x}<br>value=%{y}<extra></extra>",
         "legendgroup": "val_loss",
         "line": {
          "color": "#EF553B",
          "dash": "solid"
         },
         "marker": {
          "symbol": "circle"
         },
         "mode": "lines",
         "name": "val_loss",
         "orientation": "v",
         "showlegend": true,
         "type": "scatter",
         "x": [
          0,
          1,
          2,
          3,
          4,
          5,
          6,
          7,
          8,
          9,
          10,
          11,
          12,
          13,
          14,
          15,
          16,
          17,
          18,
          19
         ],
         "xaxis": "x",
         "y": [
<<<<<<< HEAD
          0.009886943735182285,
          0.008067780174314976,
          0.009047856554389,
          0.007607671897858381,
          0.007903599180281162,
          0.008270026184618473,
          0.008019259199500084,
          0.0074930861592292786,
          0.008934861049056053,
          0.00785780604928732,
          0.009068113751709461,
          0.007227761205285788,
          0.0070251403376460075,
          0.007053683511912823,
          0.007336883340030909,
          0.007243954576551914,
          0.007723621558398008,
          0.007462625857442617,
          0.006923499517142773,
          0.007088376674801111
=======
          0.2826750874519348,
          0.24887673556804657,
          0.1924481987953186,
          0.18001006543636322,
          0.19885388016700745,
          0.16825662553310394,
          0.16494780778884888,
          0.14031708240509033,
          0.1714959293603897,
          0.12889960408210754,
          0.12314605712890625,
          0.12366217374801636,
          0.12814056873321533,
          0.11685959249734879,
          0.1489780992269516,
          0.11246408522129059,
          0.12369045615196228,
          0.12824654579162598,
          0.1174963042140007,
          0.13558463752269745
>>>>>>> 195d3fa48c5569da75b9e20ed00bf832520cecfc
         ],
         "yaxis": "y"
        }
       ],
       "layout": {
        "legend": {
         "title": {
          "text": "variable"
         },
         "tracegroupgap": 0
        },
        "template": {
         "data": {
          "bar": [
           {
            "error_x": {
             "color": "#f2f5fa"
            },
            "error_y": {
             "color": "#f2f5fa"
            },
            "marker": {
             "line": {
              "color": "rgb(17,17,17)",
              "width": 0.5
             },
             "pattern": {
              "fillmode": "overlay",
              "size": 10,
              "solidity": 0.2
             }
            },
            "type": "bar"
           }
          ],
          "barpolar": [
           {
            "marker": {
             "line": {
              "color": "rgb(17,17,17)",
              "width": 0.5
             },
             "pattern": {
              "fillmode": "overlay",
              "size": 10,
              "solidity": 0.2
             }
            },
            "type": "barpolar"
           }
          ],
          "carpet": [
           {
            "aaxis": {
             "endlinecolor": "#A2B1C6",
             "gridcolor": "#506784",
             "linecolor": "#506784",
             "minorgridcolor": "#506784",
             "startlinecolor": "#A2B1C6"
            },
            "baxis": {
             "endlinecolor": "#A2B1C6",
             "gridcolor": "#506784",
             "linecolor": "#506784",
             "minorgridcolor": "#506784",
             "startlinecolor": "#A2B1C6"
            },
            "type": "carpet"
           }
          ],
          "choropleth": [
           {
            "colorbar": {
             "outlinewidth": 0,
             "ticks": ""
            },
            "type": "choropleth"
           }
          ],
          "contour": [
           {
            "colorbar": {
             "outlinewidth": 0,
             "ticks": ""
            },
            "colorscale": [
             [
              0,
              "#0d0887"
             ],
             [
              0.1111111111111111,
              "#46039f"
             ],
             [
              0.2222222222222222,
              "#7201a8"
             ],
             [
              0.3333333333333333,
              "#9c179e"
             ],
             [
              0.4444444444444444,
              "#bd3786"
             ],
             [
              0.5555555555555556,
              "#d8576b"
             ],
             [
              0.6666666666666666,
              "#ed7953"
             ],
             [
              0.7777777777777778,
              "#fb9f3a"
             ],
             [
              0.8888888888888888,
              "#fdca26"
             ],
             [
              1,
              "#f0f921"
             ]
            ],
            "type": "contour"
           }
          ],
          "contourcarpet": [
           {
            "colorbar": {
             "outlinewidth": 0,
             "ticks": ""
            },
            "type": "contourcarpet"
           }
          ],
          "heatmap": [
           {
            "colorbar": {
             "outlinewidth": 0,
             "ticks": ""
            },
            "colorscale": [
             [
              0,
              "#0d0887"
             ],
             [
              0.1111111111111111,
              "#46039f"
             ],
             [
              0.2222222222222222,
              "#7201a8"
             ],
             [
              0.3333333333333333,
              "#9c179e"
             ],
             [
              0.4444444444444444,
              "#bd3786"
             ],
             [
              0.5555555555555556,
              "#d8576b"
             ],
             [
              0.6666666666666666,
              "#ed7953"
             ],
             [
              0.7777777777777778,
              "#fb9f3a"
             ],
             [
              0.8888888888888888,
              "#fdca26"
             ],
             [
              1,
              "#f0f921"
             ]
            ],
            "type": "heatmap"
           }
          ],
          "heatmapgl": [
           {
            "colorbar": {
             "outlinewidth": 0,
             "ticks": ""
            },
            "colorscale": [
             [
              0,
              "#0d0887"
             ],
             [
              0.1111111111111111,
              "#46039f"
             ],
             [
              0.2222222222222222,
              "#7201a8"
             ],
             [
              0.3333333333333333,
              "#9c179e"
             ],
             [
              0.4444444444444444,
              "#bd3786"
             ],
             [
              0.5555555555555556,
              "#d8576b"
             ],
             [
              0.6666666666666666,
              "#ed7953"
             ],
             [
              0.7777777777777778,
              "#fb9f3a"
             ],
             [
              0.8888888888888888,
              "#fdca26"
             ],
             [
              1,
              "#f0f921"
             ]
            ],
            "type": "heatmapgl"
           }
          ],
          "histogram": [
           {
            "marker": {
             "pattern": {
              "fillmode": "overlay",
              "size": 10,
              "solidity": 0.2
             }
            },
            "type": "histogram"
           }
          ],
          "histogram2d": [
           {
            "colorbar": {
             "outlinewidth": 0,
             "ticks": ""
            },
            "colorscale": [
             [
              0,
              "#0d0887"
             ],
             [
              0.1111111111111111,
              "#46039f"
             ],
             [
              0.2222222222222222,
              "#7201a8"
             ],
             [
              0.3333333333333333,
              "#9c179e"
             ],
             [
              0.4444444444444444,
              "#bd3786"
             ],
             [
              0.5555555555555556,
              "#d8576b"
             ],
             [
              0.6666666666666666,
              "#ed7953"
             ],
             [
              0.7777777777777778,
              "#fb9f3a"
             ],
             [
              0.8888888888888888,
              "#fdca26"
             ],
             [
              1,
              "#f0f921"
             ]
            ],
            "type": "histogram2d"
           }
          ],
          "histogram2dcontour": [
           {
            "colorbar": {
             "outlinewidth": 0,
             "ticks": ""
            },
            "colorscale": [
             [
              0,
              "#0d0887"
             ],
             [
              0.1111111111111111,
              "#46039f"
             ],
             [
              0.2222222222222222,
              "#7201a8"
             ],
             [
              0.3333333333333333,
              "#9c179e"
             ],
             [
              0.4444444444444444,
              "#bd3786"
             ],
             [
              0.5555555555555556,
              "#d8576b"
             ],
             [
              0.6666666666666666,
              "#ed7953"
             ],
             [
              0.7777777777777778,
              "#fb9f3a"
             ],
             [
              0.8888888888888888,
              "#fdca26"
             ],
             [
              1,
              "#f0f921"
             ]
            ],
            "type": "histogram2dcontour"
           }
          ],
          "mesh3d": [
           {
            "colorbar": {
             "outlinewidth": 0,
             "ticks": ""
            },
            "type": "mesh3d"
           }
          ],
          "parcoords": [
           {
            "line": {
             "colorbar": {
              "outlinewidth": 0,
              "ticks": ""
             }
            },
            "type": "parcoords"
           }
          ],
          "pie": [
           {
            "automargin": true,
            "type": "pie"
           }
          ],
          "scatter": [
           {
            "marker": {
             "line": {
              "color": "#283442"
             }
            },
            "type": "scatter"
           }
          ],
          "scatter3d": [
           {
            "line": {
             "colorbar": {
              "outlinewidth": 0,
              "ticks": ""
             }
            },
            "marker": {
             "colorbar": {
              "outlinewidth": 0,
              "ticks": ""
             }
            },
            "type": "scatter3d"
           }
          ],
          "scattercarpet": [
           {
            "marker": {
             "colorbar": {
              "outlinewidth": 0,
              "ticks": ""
             }
            },
            "type": "scattercarpet"
           }
          ],
          "scattergeo": [
           {
            "marker": {
             "colorbar": {
              "outlinewidth": 0,
              "ticks": ""
             }
            },
            "type": "scattergeo"
           }
          ],
          "scattergl": [
           {
            "marker": {
             "line": {
              "color": "#283442"
             }
            },
            "type": "scattergl"
           }
          ],
          "scattermapbox": [
           {
            "marker": {
             "colorbar": {
              "outlinewidth": 0,
              "ticks": ""
             }
            },
            "type": "scattermapbox"
           }
          ],
          "scatterpolar": [
           {
            "marker": {
             "colorbar": {
              "outlinewidth": 0,
              "ticks": ""
             }
            },
            "type": "scatterpolar"
           }
          ],
          "scatterpolargl": [
           {
            "marker": {
             "colorbar": {
              "outlinewidth": 0,
              "ticks": ""
             }
            },
            "type": "scatterpolargl"
           }
          ],
          "scatterternary": [
           {
            "marker": {
             "colorbar": {
              "outlinewidth": 0,
              "ticks": ""
             }
            },
            "type": "scatterternary"
           }
          ],
          "surface": [
           {
            "colorbar": {
             "outlinewidth": 0,
             "ticks": ""
            },
            "colorscale": [
             [
              0,
              "#0d0887"
             ],
             [
              0.1111111111111111,
              "#46039f"
             ],
             [
              0.2222222222222222,
              "#7201a8"
             ],
             [
              0.3333333333333333,
              "#9c179e"
             ],
             [
              0.4444444444444444,
              "#bd3786"
             ],
             [
              0.5555555555555556,
              "#d8576b"
             ],
             [
              0.6666666666666666,
              "#ed7953"
             ],
             [
              0.7777777777777778,
              "#fb9f3a"
             ],
             [
              0.8888888888888888,
              "#fdca26"
             ],
             [
              1,
              "#f0f921"
             ]
            ],
            "type": "surface"
           }
          ],
          "table": [
           {
            "cells": {
             "fill": {
              "color": "#506784"
             },
             "line": {
              "color": "rgb(17,17,17)"
             }
            },
            "header": {
             "fill": {
              "color": "#2a3f5f"
             },
             "line": {
              "color": "rgb(17,17,17)"
             }
            },
            "type": "table"
           }
          ]
         },
         "layout": {
          "annotationdefaults": {
           "arrowcolor": "#f2f5fa",
           "arrowhead": 0,
           "arrowwidth": 1
          },
          "autotypenumbers": "strict",
          "coloraxis": {
           "colorbar": {
            "outlinewidth": 0,
            "ticks": ""
           }
          },
          "colorscale": {
           "diverging": [
            [
             0,
             "#8e0152"
            ],
            [
             0.1,
             "#c51b7d"
            ],
            [
             0.2,
             "#de77ae"
            ],
            [
             0.3,
             "#f1b6da"
            ],
            [
             0.4,
             "#fde0ef"
            ],
            [
             0.5,
             "#f7f7f7"
            ],
            [
             0.6,
             "#e6f5d0"
            ],
            [
             0.7,
             "#b8e186"
            ],
            [
             0.8,
             "#7fbc41"
            ],
            [
             0.9,
             "#4d9221"
            ],
            [
             1,
             "#276419"
            ]
           ],
           "sequential": [
            [
             0,
             "#0d0887"
            ],
            [
             0.1111111111111111,
             "#46039f"
            ],
            [
             0.2222222222222222,
             "#7201a8"
            ],
            [
             0.3333333333333333,
             "#9c179e"
            ],
            [
             0.4444444444444444,
             "#bd3786"
            ],
            [
             0.5555555555555556,
             "#d8576b"
            ],
            [
             0.6666666666666666,
             "#ed7953"
            ],
            [
             0.7777777777777778,
             "#fb9f3a"
            ],
            [
             0.8888888888888888,
             "#fdca26"
            ],
            [
             1,
             "#f0f921"
            ]
           ],
           "sequentialminus": [
            [
             0,
             "#0d0887"
            ],
            [
             0.1111111111111111,
             "#46039f"
            ],
            [
             0.2222222222222222,
             "#7201a8"
            ],
            [
             0.3333333333333333,
             "#9c179e"
            ],
            [
             0.4444444444444444,
             "#bd3786"
            ],
            [
             0.5555555555555556,
             "#d8576b"
            ],
            [
             0.6666666666666666,
             "#ed7953"
            ],
            [
             0.7777777777777778,
             "#fb9f3a"
            ],
            [
             0.8888888888888888,
             "#fdca26"
            ],
            [
             1,
             "#f0f921"
            ]
           ]
          },
          "colorway": [
           "#636efa",
           "#EF553B",
           "#00cc96",
           "#ab63fa",
           "#FFA15A",
           "#19d3f3",
           "#FF6692",
           "#B6E880",
           "#FF97FF",
           "#FECB52"
          ],
          "font": {
           "color": "#f2f5fa"
          },
          "geo": {
           "bgcolor": "rgb(17,17,17)",
           "lakecolor": "rgb(17,17,17)",
           "landcolor": "rgb(17,17,17)",
           "showlakes": true,
           "showland": true,
           "subunitcolor": "#506784"
          },
          "hoverlabel": {
           "align": "left"
          },
          "hovermode": "closest",
          "mapbox": {
           "style": "dark"
          },
          "paper_bgcolor": "rgb(17,17,17)",
          "plot_bgcolor": "rgb(17,17,17)",
          "polar": {
           "angularaxis": {
            "gridcolor": "#506784",
            "linecolor": "#506784",
            "ticks": ""
           },
           "bgcolor": "rgb(17,17,17)",
           "radialaxis": {
            "gridcolor": "#506784",
            "linecolor": "#506784",
            "ticks": ""
           }
          },
          "scene": {
           "xaxis": {
            "backgroundcolor": "rgb(17,17,17)",
            "gridcolor": "#506784",
            "gridwidth": 2,
            "linecolor": "#506784",
            "showbackground": true,
            "ticks": "",
            "zerolinecolor": "#C8D4E3"
           },
           "yaxis": {
            "backgroundcolor": "rgb(17,17,17)",
            "gridcolor": "#506784",
            "gridwidth": 2,
            "linecolor": "#506784",
            "showbackground": true,
            "ticks": "",
            "zerolinecolor": "#C8D4E3"
           },
           "zaxis": {
            "backgroundcolor": "rgb(17,17,17)",
            "gridcolor": "#506784",
            "gridwidth": 2,
            "linecolor": "#506784",
            "showbackground": true,
            "ticks": "",
            "zerolinecolor": "#C8D4E3"
           }
          },
          "shapedefaults": {
           "line": {
            "color": "#f2f5fa"
           }
          },
          "sliderdefaults": {
           "bgcolor": "#C8D4E3",
           "bordercolor": "rgb(17,17,17)",
           "borderwidth": 1,
           "tickwidth": 0
          },
          "ternary": {
           "aaxis": {
            "gridcolor": "#506784",
            "linecolor": "#506784",
            "ticks": ""
           },
           "baxis": {
            "gridcolor": "#506784",
            "linecolor": "#506784",
            "ticks": ""
           },
           "bgcolor": "rgb(17,17,17)",
           "caxis": {
            "gridcolor": "#506784",
            "linecolor": "#506784",
            "ticks": ""
           }
          },
          "title": {
           "x": 0.05
          },
          "updatemenudefaults": {
           "bgcolor": "#506784",
           "borderwidth": 0
          },
          "xaxis": {
           "automargin": true,
           "gridcolor": "#283442",
           "linecolor": "#506784",
           "ticks": "",
           "title": {
            "standoff": 15
           },
           "zerolinecolor": "#283442",
           "zerolinewidth": 2
          },
          "yaxis": {
           "automargin": true,
           "gridcolor": "#283442",
           "linecolor": "#506784",
           "ticks": "",
           "title": {
            "standoff": 15
           },
           "zerolinecolor": "#283442",
           "zerolinewidth": 2
          }
         }
        },
        "title": {
         "text": "Learning Curve"
        },
        "xaxis": {
         "anchor": "y",
         "domain": [
          0,
          1
         ],
         "title": {
          "text": "index"
         }
        },
        "yaxis": {
         "anchor": "x",
         "domain": [
          0,
          1
         ],
         "title": {
          "text": "value"
         }
        }
       }
      }
     },
     "metadata": {},
     "output_type": "display_data"
    }
   ],
   "source": [
    "dataframe = pd.DataFrame(history.history)\n",
    "\n",
    "\n",
    "fig = px.line(dataframe, \n",
    "              title    = 'Learning Curve', \n",
    "              labels   = {'x' : 'Epoch', 'y' : 'Loss Value '}, \n",
    "              template = \"plotly_dark\")\n",
    "\n",
    "fig.show()"
   ]
  },
  {
   "cell_type": "markdown",
   "id": "fbb63f5b",
   "metadata": {},
   "source": [
    "## Model Prediction and Evaluation"
   ]
  },
  {
   "cell_type": "markdown",
   "id": "bc67d14d",
   "metadata": {},
   "source": [
    "### Compute Prediction"
   ]
  },
  {
   "cell_type": "markdown",
   "id": "209f3d29",
   "metadata": {},
   "source": [
    "Convert image paths to pre-processed opencv images"
   ]
  },
  {
   "cell_type": "code",
   "execution_count": 30,
   "id": "c334c379",
   "metadata": {},
   "outputs": [],
   "source": [
    "x_test_images = np.asarray(\n",
    "    [ pre_processing(cv2.imread(img_file), image_width, image_height) for img_file in x_test]\n",
    ")   "
   ]
  },
  {
   "cell_type": "markdown",
   "id": "57b8f44d",
   "metadata": {},
   "source": [
    "Predict steering based on the test set"
   ]
  },
  {
   "cell_type": "code",
   "execution_count": 31,
   "id": "6e3fb3ca",
   "metadata": {
    "scrolled": true
   },
   "outputs": [
    {
     "name": "stderr",
     "output_type": "stream",
     "text": [
      "2022-11-02 18:05:46.889462: W tensorflow/core/framework/cpu_allocator_impl.cc:82] Allocation of 66355200 exceeds 10% of free system memory.\n"
     ]
    }
   ],
   "source": [
    "steering_predict = model.predict(x_test_images)"
   ]
  },
  {
   "cell_type": "markdown",
   "id": "a0f711b1",
   "metadata": {},
   "source": [
    "### Model Evaluation "
   ]
  },
  {
   "cell_type": "code",
   "execution_count": 32,
   "id": "102d640b",
   "metadata": {
    "scrolled": true
   },
   "outputs": [
    {
     "name": "stdout",
     "output_type": "stream",
     "text": [
<<<<<<< HEAD
      "Mean Squared Error:  0.006469836937777759\n"
=======
      "Mean Squared Error:  0.08209509336682125\n"
>>>>>>> 195d3fa48c5569da75b9e20ed00bf832520cecfc
     ]
    }
   ],
   "source": [
    "mse = mean_squared_error(y_test, steering_predict)\n",
    "print(\"Mean Squared Error: \", mse)\n",
    "#count_positives = 0"
   ]
  },
  {
   "cell_type": "markdown",
   "id": "d63dfc4b",
   "metadata": {},
   "source": [
    "### Seeing the results"
   ]
  },
  {
   "cell_type": "markdown",
   "id": "0618041d",
   "metadata": {},
   "source": [
    "Uncomment if you want to see images with data augmentation techniques and so on..."
   ]
  },
  {
   "cell_type": "code",
   "execution_count": 33,
   "id": "1a83d72d",
   "metadata": {},
   "outputs": [],
   "source": [
    "# def pre_process(img, img_width=320, img_height=160, normalization=\"yes\"):\n",
    "    \n",
    "#     img = cv2.cvtColor(img, cv2.COLOR_BGR2GRAY) # For better jornalization\n",
    "    \n",
    "\n",
    "#     ret,img = cv2.threshold(img,190,255,cv2.THRESH_BINARY)\n",
    "    \n",
    "#     img = cv2.morphologyEx(img, cv2.MORPH_CLOSE, (10, 10))\n",
    "    \n",
    "#     img = cv2.GaussianBlur(img, (3, 3), 0)   \n",
    "    \n",
    "#     img = cv2.resize(img, (img_width, img_height))  # NIVIDA uses 200x66\n",
    "    \n",
    "#     if normalization == \"yes\":\n",
    "#         img = img/255\n",
    "\n",
    "#     return img \n",
    "\n",
    "# def augment_Image(imgPath):\n",
    "#     # Function: Add randomness to the data set by applying random \"filters\"\n",
    "    \n",
    "#     img = imgPath\n",
    "\n",
    "#     # Translation... PAN\n",
    "#     if np.random.rand() < 0.30:\n",
    "#         pan = iaa.Affine(translate_percent = {'x': (-0.1, 0.1) , 'y': (-0.1, 0.1)} )\n",
    "#         img = pan.augment_image(img)  # Add a pan to img 5555 5   \n",
    "\n",
    "#     # Zoom \n",
    "#     if np.random.rand() < 0.30:\n",
    "#         zoom = iaa.Affine(scale=(1, 1.2))\n",
    "#         img = zoom.augment_image(img)\n",
    "\n",
    "#     # Brightness\n",
    "#     if np.random.rand() < 0.30:\n",
    "#         brightness = iaa.Multiply((0.2, 1.2))\n",
    "#         img = brightness.augment_image(img)\n",
    "    \n",
    "#     #Motion Blur\n",
    "#     if np.random.rand() < 0.30:\n",
    "#         motion_blur = iaa.MotionBlur(k=15, angle=[-60, 60])\n",
    "#         img = motion_blur.augment_image(img)\n",
    "        \n",
    "#     #Contrast  \n",
    "#     if np.random.rand() < 0.30:\n",
    "#         lin_contrast = iaa.LinearContrast((0.5, 1.9))\n",
    "#         img = lin_contrast.augment_image(img)\n",
    "    \n",
    "#     # Shear Operation\n",
    "#     if np.random.rand() < 0.30:\n",
    "#         shear_img = iaa.Affine(shear=(-8, 8))\n",
    "#         img = shear_img.augment_image(img)\n",
    "    \n",
    "#     # Noise\n",
    "#     if np.random.rand() < 0.30:\n",
    "#         noise = iaa.SaltAndPepper(0.05)\n",
    "#         img = noise.augment_image(img)\n",
    "    \n",
    "#     # Random Ereasing / Occlusion\n",
    "#     if np.random.rand() < 0.30:\n",
    "#         occlusion = iaa.Cutout(nb_iterations=(1, 5), size=0.2, squared=False)\n",
    "#         img = occlusion.augment_image(img)\n",
    "        \n",
    "#     # Flip\n",
    "#     if np.random.rand() < 0.30:\n",
    "#         img = cv2.flip(img, 1)\n",
    "\n",
    "#     return img #, steering"
   ]
  },
  {
   "cell_type": "code",
   "execution_count": 34,
   "id": "aaa0b8b8",
   "metadata": {
    "scrolled": false
   },
   "outputs": [],
   "source": [
    "def display_image():\n",
    "    \n",
    "    rand_integer = random.randint(0, len(x_val))\n",
    "    \n",
    "    selectx = x_val[rand_integer]\n",
    "    #img = augment_Image(pre_process(mpimg.imread(selectx), img_width=320, img_height=160, normalization=\"no\"))\n",
    "    img = mpimg.imread(selectx)\n",
    "    plt.imshow(img, cmap='gray')\n",
    "    plt.axis(\"off\")\n",
    "    plt.show()\n",
    "    \n",
    "    y_test_aux = y_val[rand_integer]\n",
    "    y_pred = steering_predict[rand_integer]\n",
    "    print(\"Predicted angle: \", round(y_pred[0], 5))\n",
    "    print(\"Real angle:      \", round(y_test_aux, 5))"
   ]
  },
  {
   "cell_type": "code",
   "execution_count": 35,
   "id": "2da9fe98",
   "metadata": {},
   "outputs": [
    {
     "data": {
<<<<<<< HEAD
      "image/png": "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",
=======
      "image/png": "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",
>>>>>>> 195d3fa48c5569da75b9e20ed00bf832520cecfc
      "text/plain": [
       "<Figure size 640x480 with 1 Axes>"
      ]
     },
     "metadata": {},
     "output_type": "display_data"
    },
    {
     "name": "stdout",
     "output_type": "stream",
     "text": [
<<<<<<< HEAD
      "Predicted angle:  -0.21684\n",
      "Real angle:       0.04886\n"
=======
      "Predicted angle:  1.14982\n",
      "Real angle:       -0.26\n"
>>>>>>> 195d3fa48c5569da75b9e20ed00bf832520cecfc
     ]
    },
    {
     "data": {
<<<<<<< HEAD
      "image/png": "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",
=======
      "image/png": "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",
>>>>>>> 195d3fa48c5569da75b9e20ed00bf832520cecfc
      "text/plain": [
       "<Figure size 640x480 with 1 Axes>"
      ]
     },
     "metadata": {},
     "output_type": "display_data"
    },
    {
     "name": "stdout",
     "output_type": "stream",
     "text": [
<<<<<<< HEAD
      "Predicted angle:  -0.03627\n",
      "Real angle:       -0.4445\n"
=======
      "Predicted angle:  0.00358\n",
      "Real angle:       0.076\n"
>>>>>>> 195d3fa48c5569da75b9e20ed00bf832520cecfc
     ]
    },
    {
     "data": {
<<<<<<< HEAD
      "image/png": "iVBORw0KGgoAAAANSUhEUgAAAV0AAAC1CAYAAAD86CzsAAAABHNCSVQICAgIfAhkiAAAAAlwSFlzAAALEgAACxIB0t1+/AAAADh0RVh0U29mdHdhcmUAbWF0cGxvdGxpYiB2ZXJzaW9uMy4xLjIsIGh0dHA6Ly9tYXRwbG90bGliLm9yZy8li6FKAAAgAElEQVR4nO2d2W9bZ3r/vyTP4aaF2qxdovZ9syVZtmMnzWxJ2ikKFGgL9GJuigGKAr3on9HL3nTQ9jLAFNMlgxl0mplmYjvzS+zEq2TL2mXtErUvFMWd/F0oz6uXrw4XybLi5fkAhiWRPOeQPOd7nvdZTfF4HAzDMMz5YP6uD4BhGOZtgkWXYRjmHGHRZRiGOUdYdBmGYc4RFl2GYZhzREv1oMlk4tQGhmGYExKPx03JHmNLl2EY5hxh0WUYhjlHWHQZhmHOERZdhmGYc4RFl2EY5hxh0WUYhjlHWHQZhmHOkYxEV9d1aJoGi8UCs9kMk+kwBU3TNPE7/U1s2GyGw+E4+yNmGIZ5jTGlau1os9ni4XAY6nM0TYPT6UQ4HIbf7z/amMkEs9mMaDT60g6YYRjmVSdVcURK0bVarfFwOJxy47quCys3FArBYrEgJycH0WgUXq/3lIfMMAzz+sIVaQzDMK8IKS1dufeCruuwWq0wmUwIh8OIRCKIRqMwm490OxaLvdyjZRiGeQ1IZemmbHgzODiI/f19LCwsYGxsDHNzc/B4PFhcXMTS0hIAYHt7Wzzf4XDAbDbD5/MBAGw2G4LB4Jm8CYZhmDeBlJZucXFxvLS0FNXV1aiqqkJdXR0aGxtRUlICm80mRHV5eRkAMDU1haWlJayurmJsbAzj4+PY29s7r/fCMAzzSnBqS3d9fR3r6+sYGRmB2WwGBdUcDgcqKirwzjvv4C/+4i/w0UcfAQAsFgt2d3cxNjaG//7v/8bm5iaLLsMwjERK0XU4HPD7/YhGo7BYLNB1HXl5efjggw/wZ3/2Z/iTP/kT2Gw2IcYPHjzAv//7v+OTTz7B4uIinE7nubwJhmGY14W0gTQqfKioqMCPfvQj/Pmf/zmuXr2K/Px8xONxfPHFF/jFL34BALh58ybm5+eFCMdisWM5vgzDMG86p87Ttdls8fLycvz4xz/GX/3VX6G/v1/4cYeGhvBP//RPmJ2dxejoKIDEoBrDMMzbyql9uj/96U/xN3/zN7h48SLC4TCCwSAGBwfx8ccf47PPPsPc3Nyx7AQqGaa0MoZhGOaIlJYugHg4HEYoFMLo6Cj+9V//Fb/73e+wsbGBg4MDaJqGeDwuXAhUBhyLxbgUmGGYt5ZTuxcWFhbim5ub+Pjjj/Hzn/8cOzs7AIBAICCCbKkwmUzs02UY5q3j1O6Ff/7nf8Z//Md/4Pnz53A4HAgEAuIxv99v2F0MOBRb6kgmv4ZhGOZtJ232gmzRZmdnw2QyJTSykUWXrVqGYZgz6jJ2EleB2WwWfXbTdSljGIZ50zi16MoNbxiGeXOxWCwwmUwJGUfqKlbX9WNGlGqMpVr5WiyWY7n7souS/i4/TgZcLBZLaKhlNpthsVgAAJFIJCGYn2zbctD/ZcOiyzBMRmiaJsSNRA0AotGo+DtlKZlMpmNiqHLSVa+8z5MUV2maBk3TUsaQ6DjOI7OKRZdhmLSYTCZompYgsDK6rhs+pmkarFaryNkn61IVZF3Xj6WYEupzLRYL4vF4gtDruo5QKCSsXLKy5RRVGhFGf4tGo99JrIlFl2GYlJCFmYkVKC/tkwk0Ic9WNEoxVV0L9Dez2ZwgunSMZKmeVEjJ1cCWLsMwrwQWiyVBjMgtABxZoepzLBYLNO0w65QEMh6PHxM4eo1RMN5IdNXH6XVGPmI6RtVnKx8DHdt5Dllg0WUYJmNIcE9axp+Xl4fKykpcvHgRfX19aGlpEY2xgsEggsEgvF4v1tbWAABLS0tYXFzEysoK1tfXsb+/Lxpm0b5l4QcAu92e4FJ4VafVsOgyDJMRZB2qYma320GTwc1mM7KysuB2u9HX14cbN26gtbUVHR0dsFqt0HUdwGFWwfLyMmZmZuDxeHDz5k1YrVbk5uYCAC5cuICysjKUlZWhoKAATqcTpaWl8Pl82NjYwPLyMpaWlrC8vIyNjQ3s7+/jyZMn8Hq92NjYwNbWFkKhkDhuq9UqrGrV8qYbidlsPpdpNjyYkmEY5hWBLV2GYQSy35WCZaWlpSgvL8eVK1fQ1taGgYEBNDU1ISsrS/hRzWYz1tfXMTMzg4cPH+LBgwcYGRnB3NwcNjY2EA6HoWmaocvCYrEI/6zT6YTL5UJJSQnKy8vFv5KSEuTm5qKlpQVZWVlwuVzQdR37+/tYWloS+5mZmQEA4cZYXl6Gx+PB5uYm9vf3z60R16ndC59++ml8YmIC9+7dw/DwMDweD7xer4hCqo51FaNkasODkJKY5WVNsio41flOfh85f1B24DPMq4Su6zCbzYhGo4hEIiL5n9A0TRQq0PIYMC42kK8RSveibVIal1psIF9r8mNutxutra1oaWlBX18fLl++DACorKwUk2No+z6fD4uLi3j06BG+/PJLjIyM4NmzZ4hGowiHw2mLKE4LaQW5KUpKSlBdXY2Kigrk5+ejuLgYwKHroqamBtXV1cjPzwdw2C8mEAhgYmIC29vbQpBXV1exsrKClZUVbG9vY2NjA8FgUHwn8meWTlOkAOLpRDcSicQpOkkHPTk5ieHhYczPz+OLL77A8vIyFhcXxeOU6uH3+xGPx2G1WoUvCDi6q5HPRZ69RgdN/Xjp+YBxonS6yCfti/w+DHPeOJ1OQxGScTgchv2nKd0qGAwmZBOkCnCpVV9msxm5ubk4ODhAJBIRQlJUVISLFy/i3XffRUdHB3p7e5Gbm4usrCxxXdExb29vY3NzE7dv38bk5KSwYqnrIOXQAkf5seo1qd5YTgvl+srZCHKmgs1mAwCEQiHxOVksFhQUFKCoqAg5OTno7OyE0+lEUVERysvLUVlZifLychQVFcHpdMJkMiX4lRcXF8XwXfItP3v2DAcHB9je3sb29jYODg7EMX7rEz+d6P71X/91vK6uDr29vejq6kJlZaV4U0Q4HIbH4wEAIcjDw8MYHR3F0tISZmZmYDabRe9d9eRzOp2IxWKIRCIJJ5PNZoPdbsfu7m7CmzEqO1Tv3mzhMq8adH6SdSpD1wTlv6rnsLpi1DRNXIeRSESkbfl8PvE4VYDpuo7c3Fxcu3YNbW1tuH79Ovr6+lBaWiq2FwqFYLVasbm5ienpaQwPD+Px48d48uQJgMPrem1tLUHQ5WOVjapU7/+sixTUzIZU+yaNkCvj6HOjm4Su67BaraioqEBeXh5KSkpQWlqK4uJi8XmVlJQgLy8Pra2tsNvtIptiZ2cHCwsLws3x93//96cTXafTGY9EIgiHw7BYLCguLkZbWxv6+vrQ0NCAq1evory8XJjvMvRlkJ/n/v37+OabbzAyMoLl5WX4fD5EIhFxcpFVmuoLzCSB+6zuqAzzMqCVYDoBouvBZDIhGAyKFWA8Hje0iIFDcS4tLcXFixdx5coV9Pb2oqOjQyy5iVgshs3NTYyNjeHx48eYmprCzZs3hdWWrIghTfzn3Cu/ZAuXRFXOZlCr1ox6N6g3ONllaiTquq5D13WxSrfZbMjLy0NFRQVqa2tRXV2NwsJC/MM//MOLpYxpmibETP3CCwsLUVFRAQCoq6vDpUuXcO3aNbS3tyM/Px82m00sa6xWKwBgb28Pk5OTmJ2dxdOnTzE1NYXBwUHMzMwkmOn0IST7wGnJRSexurQ5bb4hw5wVdP6rhoKc1E/XVjpRs9vtiEaj0HUdtbW1uHr1Krq7u9Hd3Q0AqKqqQlVVVYIbIhgMIhQKYXp6GqOjo7hz5w4ePXqEhYUF7O3twe/3Hyt8oKIHucMgzUakHgcUNwmFQoZG0MsSYRK8l7mapc8PQMY3SLV67tSBNE3T4urGaCe6rovmEqpv1Wq1wm63Q9M0vPPOO2hoaMDAwAB6enpQWVkJu90u3AlOpxORSASBQAA7OzuYn5/H06dP8fjxY8zMzODx48cADqdV+Hy+jL7ITJcdDHNe0DVCFlk8Hk+wqNRzlfJdLRYLenp6UFNTg76+PvT29qKhoQEFBQXHxmWZzWbs7+9jbGwMQ0NDePr0KQYHBzE5OYn19fWE/aoBa4vFIowT8s9m2pbVZrNB13Xh3pB5Wdav3EgHOLrW5eo3uWJNNshsNlvCZyAH32OxmKEL0yjQT4/Jx0F/C4VCp7d06eDlkwQ4skDJX0vIdz6r1SrMfTqxbDYbmpqacP36dXR3d6O9vR3l5eVwu90JQbNoNAqTySSE3ePxYHx8HM+ePcPY2BjGx8cxMzOD9fV1EaVVj49HwDOvAnQNATgWZCILU9d1EYlvbW3F5cuXcfnyZTQ0NCA7O1tcEySI+/v7GB4extTUFG7dugUAmJubw+joqAj6GEHXqrz6S9Z9S75R0IpRLvNVWy6mC2yfBbQPtWUjQatpOWhIkFYZBdZTWeZGLSLpcySNUV97akv3L//yL+NlZWVoaGiA2+1GcXEx8vPzkZ+fj6ysLOzv7+Prr7/G559/DgAirWxzcxNerxfhcFh8WeQDIQGXv3S73Y7S0lLU19ejs7MT/f396O3tRU1NTULgjrYBAMFgEFtbW9jb28OdO3cwNTWF+/fvY2RkBGtrawiHw+dyEjBMOtQWiSaTCRUVFejo6EB9fT1u3LiBmpoaNDc3Iy8vD8BRvwNN07Czs4O5uTk8fPgQ9+7dw5MnT4TBIQsxWaa6rif4N9XfiUz9y/L7MHKTZLKNs0wZM9oOWbVqJpS8siCBVF2W6vFncpzJ+kjQv0gkcjrRjUsPqhFX9aCBw+jp5OQkbt68iV/96lf45ptvTpWuJe+rv78fANDU1IQrV67g0qVLcLvdyM/PF23cgMQ7zt7eHii/eGxsDIODg1hYWIDH40E0Gk1YShGnDcCpX7Z8Jzb6zIx8UfLyhN6D/HrOxni5JFsVySu4ZA1Vkq2mKN2rsLAQnZ2dIue1s7MTHR0daGxsTNh+NBpFMBiE3++Hx+PB0NAQvvzySwwPD2NwcPCl578yZ8upLV0AceBQ0Px+P9bX1zE1NYWxsTEsLi5iZmYGKysrogpkdXX1TMbzyGIlp3WQKGZnZ8PtdqO5uRkVFRX44Q9/CLfbjYaGBjidTgCHbg4KAAKHwbvZ2VlMTExgfHwcIyMjAICRkRHMz89ja2srYf8U+SSLwyhNTfZ3yz0+ARhmYdDr6LjI4k8V6JNFnH3UZ4u8TFbdZ0akyvvOyspCaWkpmpqaRGFBfX09WlpaElZ2sjtufX0d8/PzGB4ehlyEtLa2lvBdW63Wl57/ypwtpxbdn/zkJ/GlpSVMTU1heXk5IdlYLmJQT1Y6OQGcujAhE9eApmnQdV0UZZSXl6OqqgqNjY3o6ekRqW05OTnIzs423EY4HMbu7i7Gx8exvLyMoaEh3Lt3D8+ePcPq6qqwjDVNO9Yog5ZtRlkddHzUiT9VhVyy7ROchfFyMLISaalOVWMHBwfifKcbqaZpaGtrQ3t7O9555x1UVlaiubkZbrc7YfUFHBoLBwcHWFpaAgAMDg7izp07ePjwIebm5uD1erG3t5fwGjk7IJMcVLZ0Xz1OLbpmszkuL6foDq1asySwtEx7WeKgWoh0bJTOQlBhRTweRygUEv6yvr4+dHZ2orGxEVVVVQCAnJwc8bpAIIBQKASHwwFd17G5uYlHjx5heHgYDx48gMfjwezsLFZXV3FwcJBwsqsRUeDogpDHn8gRVdXKlX1C8uvIGmM3w9mijqaR3UT0dyo1bW9vx5UrV3D9+nW0t7cjJydHxCpkoaUA18OHD/H8+XN89dVXWFlZEQVERkZIdna2KBySH1erM5nXhzMRXYPHxM9Gd2OLxQKr1WqYaH0S7HY7gMOTVRU0q9UKi8WCg4MDwyW//Fz5fWiaJhLGm5qaUFtbi8uXL6O9vR0XL14UVrHf74fNZhPvNRqNYmdnBx6PB9PT03jy5AkGBwcxNzeHBw8epKzRdjqdx3KQCUq4psdl5/9JAh3MyTGbzeLzLy4uRl9fHwDggw8+QH9/P8rKylBUVAQAIi+VRDYUCmF8fBxPnz7FH/7wBzx+/BjLy8vY39/HwcGBqPSShVTXdTgcDoRCIcN5XuncBWzZvh6cWnSpOILyBdUu8PQzWcCyDxRARtbZSTMM5FSVdK9xOBxwOBw4ODgQmRS6rh9LL8vKyhJ/03UdZWVl6OrqwpUrV0RucXNzc0KnfJl4PI7t7W2RYwxA+OmmpqYwPT0tbj7kL5YnmSb7jOThf3yhnT35+fnY3t4GcBiw/clPfoI//dM/BXBYaBCLxRAMBpGVlQUACc1nnj9/LgK1k5OT4uYbCATEeU9FB3LKGK2+CEpxMlohkqVrtHLk8+HV5tSia7FYRCDNCHlUB3C6KLscNDM6FvKxyc+RI/zyfqnxxrcpGxkfj3pik8VM2zSZTCgoKEBjYyOuXLmCvr4+NDU1oaysLCGLIhwOCzeHxWIRbo/V1VWsr6/j888/x8zMDIaGhjA+Pp7QMIT80/IN4SQ3GOZ0kEFBrgIS2OLiYhQWFqKnpwcNDQ1oa2tDZWUlCgsLRcNtADg4OBDfXSQSwebmJqampkTvkeHhYczMzGB8fBzAUX8Em80m0ifV1SC5OuRkfYCF9nXihS1d6XfDJbzcWvHbHWa8LE4nuumgdnayC4Ag4Ts4OIDNZhN17EBiErX8esC46oT+lx9zuVxoampCVVUVrl69ipaWFly8eBEARGl0JBI5ZulEo1EEAgF4PB4MDw/j/v37mJycxN27d7G/v4+9vT1xsbEv99VB13VRa19XV4fa2lq0tbWhuroaLS0tqKqqQnZ2tgh8kqjK5/jOzg6eP3+OkZERjIyMYGlpCaOjo9je3sb6+jq8Xq/IRz/P/FfmbDkz0WWSQzXhZJkXFhaiqakJvb29Ire4p6dHpAwZdZuKRqMiLW90dFT0KB0fH4fH4xHW+GlThIzKG9XEfRIJ+XnJBIAv+MTPQNM0FBUVob6+XljGnZ2dKCkpgdvtBnBoQaurt0gkImITs7OzGB0dxejoKKamprC6uorp6Wns7Oxge3tbFFdQb1vVYMj0e0pnPdMNn54Ti8Vgt9sTYiu0QlPTKuXXpst/fpUzcuTOZITsPjUqyJCMUhbd7xL68pxOJ2pqatDb24u+vj60t7ejtrYWpaWlojGK6jMOBoMiKPP1118DAGZnZzE4OIjh4WHRuIQuBqvVmuBakZsVRaNR2Gy2tClsyd4D3Sxk/7QMnaBvm2VOlq1RJytasZALyuVyoby8HC0tLejo6EBVVRU6OjpQUFCAgoICOByOYyIajUaxv7+PtbU1zM/PY2JiAiMjI5iYmIDH48Hk5CSAxGwYVVRppWfUitFiscDhcCScF0ZiSb/TuUBpdPSes7KyEAqFjmVbkAvHKHBIyOmf3zWUF53shqBWuQFHKYa0kmZL9xwgX7LRBWOU1E5kZ2ejtLQUBQUF+PDDD1FbW4uuri40NDSIAX50MdC25R4VW1tbeP78OUZHR7G4uIjbt29jZWUFc3Nz2N/fF/sxqq83qpiTXSjJavKZ41DzGfWzojJ2Oe4hN7qhdqZOp1NMPqirq0NHRwdaWlpQUlKCS5cuiTRII0gc1tfX8fz5c0xOTmJiYgITExOYnp4WY2sICghT6mW6bB+CGogbtZa0Wq3HsnPU7ZBlqFrQqa6P7xLVbQocpX1Sy1v570DC98yDKRmGYV4F2NI9B+juSHd01bLQNA0OhwNer1ekteXk5KCyshI9PT1iEGBvby+Ao4BOsl7D4XAY29vbWFpawvj4OO7du4e7d+9icnISXq/3WH8HOh6yYMgFIRegEGoeKVlrsvXyNo1HIotRXY5Ta0ajdoeZ+sLp+7FYLMjLy0N5eTlqamrQ2NiIlpYWkUFD/mLZt6wGhgOBAGZmZvDkyROMjIxgZmYGs7OzmJmZwerqakJD73g8npBzTsdLqy1yFwBHLg1Kj1PPb7KqzWZz0ubo8rG/CmTy/dBzjJ6bk5ODvb09di+8bGjZJC9JkgkX9SOm1LZ0FUdywAI4zCHt7OwUrTGbmppQU1ODgoKCY4131GDAwsICJiYmcPfuXdy/fx/T09NYX18HcNifQh1kCBxdxLQ0poyRV+lC+a5JFmx0OBwJLgX5ZkfPl/2C8rJfDmyqgS05aFVdXQ3gMHhbU1ODpqYmNDU1oaGhAVVVVcjPz4fdbj/mfwQOCzz8fr8I1lJvkunpaczNzQEAlpeXEQgE0g6iJYzEFzj0+UYiEXFTVoO1r0qpuzoeSf7syciQ/dNkAGVlZaG6uhrV1dX45JNPWHTPG1no6ORzOBwJU0ZVKI1NtkCNfG4qTqcThYWFcLlc+NGPfoS6ujr09PSgpaUFhYWFACAGH5KAywG7jY0NABA9Nu7cuYOFhQUxQtvr9aZ9v7K1+zaWrZJFKgdZgONlv/QcefqB3W5PGmRSS9xJAORAjlptSecOZTnYbDa43W7U1NSgs7MTzc3NqKqqQmlpKUpLS+FyuURWhGwh0/Ht7u7C5/NhaGhIpLhNTExgcXER6+vr2N3dTRoAk8839TnqzedVQf7+rFZrQqopPU4DRzVNQ2lpKTo7O/Huu+/i/fffR2dnJzRNY9F92Vit1qQZAUb5tnK6VjKrkV6nBtBoqZfOKrBYLCgvL0dPTw+uXbuG5uZmfP/73xfRZ3mZSMhLJr/fj62tLczNzYkpBDRiiSZ5JGvS87YgT0ExItV5YVT+TYE3+eac6YiaVIFPo17WVqsVpaWlKCoqQltbG0pKStDQ0ICmpiZUV1ejpKQEwFF/klAolFBNGY1Gxcjy3d1dPH36NEGUl5aWsL29nbD6Mkpde9WElz4nep+qEZGVlYWcnBz09vbio48+wvvvv4/W1taEYi2LxcKi+yqQ6gQjn5ps5WZyEtLFpF6UZDXL6UG0PCwsLERLSwu6urrQ2dmJzs5OAId9KIqLixOWrirU5nN5eRmjo6N4+vSpSF+iFpmvwhLxuyDd90vPUVPL1IpI2V+o67qwlsmKVV1WRuOpZIuYhFhO+ZIbR6mvIf8sNVSvrKxEcXExrly5ItpX1tXVoaSkRKTC0WvkcxgA1tbWMDU1hcXFRTx79gzLy8sYGxsDcLiyokbsRp/Dq4KmaSgrKwMAUZH64x//GJWVlSLDKBAIIB6Py71aWHSZRNRx2sBhR63s7GxcvnwZzc3NGBgYQHd3N8rKyhImeOzv7x9rlRmLxbC+vo6lpSWMjIyIAB4AjI2NYXNzE8FgUFxU8pKafNxGTY3of9XFkm6OV6pcS/lmolZZvirW1qsM3QxycnJQUVGBhoYGVFRUoK2tDRUVFWhsbERlZSWysrISPmtajsvBs83NTczMzGBqagoejwejo6NYWFjA+Pg4lpaWEAqFEr4j9Yam3nDklZuRXxlILu7kCqHjvHDhArq6uvD9738ff/RHfwQAaG5uFlWH9J7I8FE3l/TzY9F9+5AtGjWPkpLo5ST3/Px8tLW1obe3F/X19fjoo4+Qm5uLrKysY24KtewVOBr5PT4+jsePH+P58+e4ffs2NjY2sLa2lnG2A4mz7B8kXyTdROSLT82HJfEmqy9VYMio2uhthz6TZLm6FDOw2WzIysrChQsXUFdXh6amJpSXl+PKlSvIy8sTHf4KCgrEzZNcZvLsMZ/Ph+XlZUxMTIheFqOjo1hfX8fCwgI2NzfF/mXBVFGzdIDDc8LhcMBkMsHv94tmV+Q2uHLlCj744AN0d3cb9uL2+XxwOp0JcRsKNn7rB2bRZY5QrbtUzyOxkqPo1LKwublZNPPu6upCe3s7KioqRHUTbZt6Ccj+aeDQYp6bm8PExATGxsZE2fPc3Jzo/qUGIzMllaDKvRHoONX98DSG5KQSXyPoPIpEIrDZbHC5XACAoqIiVFZWoqmpCS0tLeJnl8uFoqIi4SKToXM2FAphd3cXCwsLYqTR7OwsZmdnARz2uNjY2Ego2CDDwG63J6Ty5eTkoK+vDz/84Q/R19eHa9euicZHsVgsYRs0+Zig80c9t8GWLqNCAioHN0ho0qWEUWCHfIbkN6ZmMF1dXWhsbBRzwS5duoTq6mrk5OSoJyaAo8wKShk6ODjA4uIiJicn8c0334iG4Ds7OwiFQglLTKOqIDkrIFnQUQ3qqJ8FuxlSI4sMrZiMcrrp8Uy3mZWVBafTiYKCApSVlaGmpgatra3CddHe3p6wTTlrBIAI7AaDQezu7sLj8YgGQ2QtDw0NIT8/H62trbhx4wauXbsmMn3sdjuCwaAwTIxaufr9/gRftuzDDgQC8Hq9uHDhAosuc4g6hFFOgld9ZrRUpBMvFAoda7qj5mQ6HA4RVJBxuVxobGxEd3c3amtr0dPTg+rqarjdbhGMkPH5fNB1PaHf7OzsLJ49e4bZ2VnRh2J5eRnPnz/HysqKEOB0jcAJSgdKlk+t5mu+7aTL1HC5XGL6Raq+BXLOK2DcS1iFRNDhcIgsi+bmZjQ0NKC+vh41NTUoKioSrgsZVRgBwOv1CvGUp8eo7rFQKCRGdsnHHI/HEyxe+Tl0yEnfC4vu24XcFSoZTqcz5YUjW4TkfjCarkwnZbL0ttzcXJSVlaGyshKNjY2iEVBNTY2InJPVmqr6zuv1Ynl5WUzzePjwoQjM0IRd2dWgJuIb+fyY1BjlJRuNeJfziZ1O57EBAoTRVG25WVO6KciapsHpdIo0t/LycrS2tqKlpQV1dXWoqqpCSUkJXC6X6IUsI/v5Q6FQQuCYVnVG0A2Dip2i0Si8Xi/y8vJYdJlD5AbtmZQ6yj5duXxYXt6dJMVNzU1VsdlscDgccLvdaGxsxMDAAPr7+9HQ0ICCggJhncqiT6gXx9LSksimePr0qWiXuLCwkLTCSm4mxC6Gk+F0OhMqzgh5Ygtw9BnLGSj0PVDLSqMboFEJuuoiSnbjJF8yVY1VVVWhu7sbHR0dCc3pqQRePqeNXAwAElaEwGFJ9MOHD/Hw4UP83d/9HYsuk4icbSCfPHLQDDguPvLjyQo6jBLgaV+EvHRPlv4lp7L/rzkAACAASURBVAlpmobq6mp0dXWhvr4eAwMDAIDa2lo0NDSI4IzsX6SSWnlpube3h5WVFWxubuLOnTuYnp7G4OAgpqenRfN4ABlN4n3bkF1R8nmhjqZP1uoSSF0UJGdAkNCpbh9qXWrUQpOOBUg9SEEVb5PJhKysLBQXF6OoqAg9PT1wu91oa2tDfX09SktLxcqLOq3Jn0MkEhFuML/fj9XVVdTU1LDoMm8muq7D5XKhuroaHR0d6O/vF3Ptampqjj1fzseVL2xyUTx79gwARDT87t278Hq92N7ePnahq1kgRo1e1LFRqk9dtrZPciMzQq46kwUt09czh8g3F+DQl01ui5qaGlH2W1VVhZaWFrjdbrhcLrU5PYsu83ZAifsWiwUXLlwQVnF/fz9aW1tRXl4urGKjnGIjqE8tpbUNDQ1heHgYS0tL4jlWq1WUessWuzoNWMWoF4OMHLih96cGhYyq2dR9cE/ks0HTNNjtdtGr2mQywW63o6CgAG63Gw0NDSgtLcU//uM/sugybxZkpdJSlnxwlFIGHO9ZYDKZUF5eLiqofvCDH6CiogL19fUoLy+Hw+EQr5VbHMqpdBQs8fl88Pl8wjXx4MEDPHnyBIuLi/D5fGKf8vEARxZwsowJWn4nq5BLlZlh5MYha5xF92TITaFSZWzINz9KMdM0Dfv7+yy6zJuPLMAAjrW5VMWPKqDy8vJQWlqK+vp6XLp0CQBw+fJl1NfXo7a2VrxeXXYSVCQQj8fFnLPHjx9jYmICg4ODWFtbw8LCAoDDjm6qH5NGNcmjb2ScTqewoFVfJDXUkY8llT+TORlyMBk4+nzVnG71e4vzuB7mTYPSfshiNCrmyMrKEnmjKmrAMNl1UFRUhIaGBgwMDKC3txeNjY0oKytDXl4eHA4HrFZr0gZBlE3h9/tFyeri4iImJiYwNDSEoaEhzM3NYWpqKuF1skWtiiz5DVP1lZADohwMPD/IyjWZTDg4OGDRZd4OZH+nGtiiXEqqgFODWrQUJ5KJVmFhoWjqcunSJdTX14vACuV3yo1dgCOrm6LztO9wOCzGst+/fx/37t3D6OgoVlZW4PV6EQ6HRcT+JB24jBqeM5lBWS9GgUg5VZL+N7rBsaXLvNGQWKpWK9X7J7P21DxPGfnvRr1ogaMUJ4vFguzsbOTl5aGyshLd3d24evUqWlpa0NzcDIfDkTTXk/rmUuMg4FCgPR4P5ubmsLa2hps3b2JpaUm0z6QgDjX/IfeCUSoVvRcW3rMlWT4x+XWDwSAPpmQYhnkVYEuXeS2RfZvpqsfkclS5WCJVRF/ujKX+Xd6Wmo5FVjFZQU6nE263Gx0dHQCArq4udHd3iwYu8lh1o3JTuQIwEAhgd3cX8/PzGBwcxDfffCNGrQMQJc9yAPG0XdreZpIVgQDHs0GSFYKwe4FhvkNkXzFdrA6HA2VlZSguLsb169fR3NyMvr4+1NXVwel0CrFV3RIkAvI2yd2wurqKsbExPHnyBE+fPsX4+DgWFxdFdzb5WFLlBidDbv5tNHxSXXK/zT0tWHQZ5jtEFkjZcqIuatTblVobVlVV4dKlS7hy5Qqam5vR2toKp9MJl8uVYAlT1obcCFy20qLRKDweDzY2NjA0NISpqSncv38fT58+xerqKiKRiPAly0Mj1UkIlA4nZ3yQNU/vJdWoHbp5JOvYJvvkX8VxPaeBRZdhXhHUzlsy1FULSJxtR2WoLS0t6OjoEA3jGxsbj7XFNJrqa+S22N7exsjIiOjI9s0332BzcxMrKyvHmhFpmgaLxZJyCCn10jCbzaIpEWWJEMlGs7+JsOgyzHdEsk5msgAZjQWSCz2MLERd11FQUICcnBzcuHEDANDa2oqBgQE0NzfD5XKJ/cg+R9lSjcfjQhizsrKwu7uLpaUlzMzMYGxsDI8fPwYAPHr0CDMzM8ISPUkzICrgsFgsQszldCt5eCZwfGT96wqLLsN8R6Qbn55pMxoST1nwKD1J9teS0BYUFKCrqwvvvvuumPrsdDqRk5OTELwj5NlxssUNHAphMBjEgwcPMD8/j6GhITx9+hRzc3PY2tqCz+dDIBBIGDdPgvq2tshk0WWY7xC5nSF1AJOhdoFyBJx60GqaljDPKx3U2yFu0FS8uLgYLS0taG9vR0tLC1pbW9HY2IjS0tIEIaZjkcufjfB6vVhaWhI9ir/88kvRTN7j8YiputSAiAJ+MuQ/JouXJkS/7rDoMsx3DAmXXKVGy2rZfWDUoEZ1UVB1nbo0DwQCCT5Uq9UqqvCMBI9cFC6XC/X19WhqasLVq1fR3d2NiooKUWptNOk52USPaDSKvb09eDweTE5O4tGjR2LG3draGsLhsAjavSmuBCNYdBnmO8Ko6bYKDUNUq+Ao3cqoVSMAQ5cFWblGj6n9f+V9yYNGTSYTcnNz0djYCADo7e1Fc3MzBgYGUFpaitLS0oRxNgDEhGg1p1Vmfn4eHo8Ho6OjACDcFNPT01hdXU06TeR1hEWXYZgXhsSYRqV3dnaip6cHbW1tKCsrQ1ZWVtJObMChMJPlTcRiMfh8Png8Hng8HjHNY2hoCDMzM/B6vWLGHvmb5dl2cgGL3PZSLWIxQp7BlixVjXzkhHoDNRpn9e37YtFlGOZsocwEu90Oq9WKy5cvo6amBj09Pejo6IDb7UZ+fr5h4C4V8XhcjDIny5hE+OHDh9jd3cXOzk5CWl2640z3PJPJBIfDAZvNhkAgcCzdTSZVU3ip2pFFl2GYF0MeWZ9J2lheXh5qa2vR1tYGt9uN69evo7y8HG63WzxOkK83Ozs7aeCO8Hg8GBsbw/DwMMbHx/H8+XMRvCOhlPsTG5Vuy77pZBooW7n0Xmkb8lRtufJOeh6LLsMwLwd1pD1lY8iWIi3js7OzceHCBQBAVVUVWltb0d/fj/7+ftTW1sJqtYplvzz6iDI5vF6vcGMQ8Xgcm5ubWF9fx9jYGABgbm4OQ0NDePbsGRYWFrCzs2OYGUGFH/IkD/JNJ0v1M7Kc1f4e7F5gGOaFkftAqA1eqMG6UdAw2cgguXKOUseamprQ3NyMa9euoa+vDzU1NcjPz4fT6TT0FVMpM6E2lI/H49ja2hIz7hYXF3H//n2R2raxsSFeq041TgVN/6W8ZIIq8vx+P4suwzAvD9X6o34LssVrtVqP+WGpMk7tgSxTV1eH9vZ2uN1u3LhxAxUVFXC73SgqKoLNZksoq5aDXvLSXyYajWJ/fx9bW1vweDx4/vw5BgcHce/ePUxNTWFzczNBTOWbA+1LbkZP25TfF7sXGIZ5YeRpGEZLb3USB1XMkWCpaXH0nGSNwIHj2QL0eGFhIaqrq9HS0oKLFy+ir68PjY2NwnUhd1MDjopSYrGYsFLJWifXAD0+Pz+P2dlZPHr0CI8ePcLExASWl5cBAJubm4hEIseOW23pyaLLMMy5QbnA6QRW7rwGpM4KMMpbVkus7XY7ysrKAAA1NTW4dOkS+vv70d7ejoqKCuTm5sJisSAcDosqOCBxLJM6hodYX18HAMzMzGBlZQVff/01ZmZmMDw8jLm5OZFjfOaBNNnMpuoU+UNyOBwJLeIIeoPyyGm1bpxhGOZFoTaXABL0prCwEE1NTaiursaNGzdQU1MjGsmT5WuEXIVHv1MLTeCwFHprawuLi4sYHh4W1Xe///3vTy+6suKrd69k+W+apsFutyMcDiMYDAozn+4ob2MDDIZhzhd5ugj9rus6vF4vLBYLcnNzUVJSgvr6ejHRo7q6Gm1tbaLXMfmcZQsYgNA1dQCpxNm6F2TLVfa/hEIhkXKRqsoj085KDMMwJ0EdTprsOUal1aRrVqs1IYOioaEBJSUlAID8/HxkZWUlWNTAUd8LXdepRJoHUzIMw7wKpLR0c3Nz4+FwGOFwWPTIVKs7kr3eZrMhGAymdI6nGvHBMAxzUsg/a5SaJgfu1CwL+jtwqF1UzUbk5+cDABobG1FZWYmenh7U1dWhs7MTtbW1yMnJUQ/ldO4FXdfjJIrkp6Wel+FwWIzooDdKgTQ5OEbVKfIMpJMMw2MYhjkp8lQKNZaUbmwQvY7iUKkMQ4fDgfz8fLjdbtEAqLa2Fh9++OHpRLewsDCek5ODyspKNDc3o7GxEcXFxWLq5+9//3vMzc2Jqg6v14v19XUhuqolS+LMGQsMw7xMKG82lWjKY5PkTAejbalWslExiOwXPjg4OJ3oTkxMxO12O3JycpCTk5OQsBwKheB0OhGNRsXAuu3tbTx+/Biff/45/u///g8jIyNwuVzY3d1NeKN010nlemAYhjkpcsN1o8GfmqaJAgajsmTq8UBu1WQYie6ZVKRFIpG4Ub213KUnEomINyqnU8zNzeHZs2f4l3/5F0xPT2N2djahDyZgXPLHMAxzVqSb1Sb3/zV6jtFkZaPtqKm1p254AyAOHNYVq418KT1CHddBByVPMp2dncUf/vAH/OY3v8FXX32FtbU1AEfuB8p1S2Xi0/Np/wTVc8sVK2qTYbamGYY5T05t6W5ubsZdLpcQx2AwKJKGpY0fa+Emm/iBQEAE4EKhEKanp3Hr1i388pe/xJ07d1KO6HA4HAnt2ORjNRpLYpSjx6LLMMx5c2rR/elPfxp/77338N5776GsrCzBoSz3uZSh0RrUpxI4tH5DoZDwqQDAzs4OVldX8atf/Qo3b97E//t//w8HBwdwOp2IxWLHel/S9qgAI1mjDNqfeINciMEwzDlzatF1uVzx3Nxc1NTU4PLly/jggw8wMDAAl8slLFhZIKkBMUFpZYTaxZ0aT2xvb2N8fBy3bt3Cr3/9a9y/fx8AkJWVJYJ0qXy/8kA9qYlwhh8PwzDM2fLCDW9sNhucTidyc3PR0tKCDz/8EO+++y5qamqQk5NzzNqlFm6UqUCPU8Ix1TQbHCi2trYwODiIX//617h9+zaePHmS8ByHw5Ewvyg3NxderzfZG0/63hiGYV4WpxbdvLy8OKV7yXlvLpcLxcXF+N73voeenh5cv34dAFBbWytSMlJ17gEOhXl/fx8FBQUADmuXQ6EQsrOzxX5WVlbw/PlzAMAvf/lL/Nd//Rfm5+czetNyNJGtXoZhzpMXtnQtFgs0TRNLfQDIzs6G3+9HXl4empubAQDvvvsuvv/976OzsxMulwvxeBwOhwPxeByhUAjRaFR0+iH8fj8cDofh/qPRqHBd6LqOnZ0dPHjwAL/5zW9w+/ZtzMzMwO/3w2q1Hmt2rKZ5MAzDnBenFl2z2RynNCzxAikwpc641zQNxcXFuHTpEt5//3309PSgq6srobACwDFxpAwIuT6akMuQ6bXhcBgejwe3bt3CzZs38b//+78IhUIIBoMiwJdu5j3DMMzL4qVOjpCFkvJsdV1HXl4ecnNz8f7772NgYADXr1+H2+2G1Wo9JtbAYWmwPPJYRd62/LdYLIaPP/4Yn3zyCT777DOEw2ERgOPCC4Zhvgte+rgeo/xYapBzcHCACxcuoKWlBf39/bh+/Tp6e3tRUVEhiifUQJzsKjDyDVPXM0ph0zQNP//5z/Fv//ZvePz4Mbxer3h9dnY2fD5f0mNXp4emex7DMEw6XqropgtYUScy4FCI3W43Ll68iIGBATQ1NWFgYABFRUXCwlWnbBLUFJ3qo799Y1hfX8fw8DBu376NTz/9FOPj4yKbgYRfLbBQaqTTvcUTPY9hGOalia5qHaoCTGMuLBaL6ExGHcaKi4vF8Liuri709PSgtLRUNNfRdR2RSCTB0g2FQvB6vfB6vZifn8edO3dw79493L9/H16vF/v7+8IFQZVoNN3i2w/CsA8wCyrDMGfJuU8DTlYFZrfbYTabEQgERP6u2WxGXl4eHA4HzGYzCgoK0NLSgoaGBrhcLmHV+nw+TE1N4cGDB5iZmUEwGBT9GkjIyd1AvmESebksOV3zdYZhmBflpYmuUSmuChUvyPtRLU+TySTye81mM80YQjgcFoJKBRXBYFB0OqM5bdTbgTIbqPJNHQWt/s8wDPMyeKmia7Azw9+pkxiV6JJY09TgZE1pyEqVH7daraKMOB0kvMmOL9V7keFcX4ZhMiWV6PJgSoZhmHNES/+U5JD1R8Ez2W1Afyc3gDwojrqNUZUaWbHkj41Go8LtoFrAZrM5YdyP3W5HKBQSx0I5wPQ62b0gB/pU2NJlGOY8eCmBtFcRXdcTGqWr3dAcDoe4CQCHjXWouY7P54PVahU+ZxrnQeJPk4+N0udk37LcZc2oLSULO8O8GZx79sKrBvmSKXUNOCov1nUdDocDmqbBarUiJycHJSUlaGhoQFNTE8rKyuBwOLCysoLx8XE8ffoUKysr8Pv9CAQC2NvbQzAYRFZW1rEiDHkenIqmaeJYZLFnGOb1J5XovpB74VVFtjhNJhNsNpsorACQUCzhdrvR3t6Ojz76CCUlJaiurkZFRQWKiooSrGHgUKj39vYQiUQQCATEFIyvv/4ad+/eTXiuw+GAyWQSkzEsFouwnKlEmcuUGebt442wdMkfS2Ir/wMgxvpYrVYUFBSgvLwcbW1tAID33nsP/f39aGxsFKlqBOX5hsNh5ObmAjgqUZaLNra3tzE9PY3PPvsMv/zlLwEAT548SejKJmOxWERnNJrvZrPZ4Pf7z/aDYRjmO+GNdy+kE10qIdZ1HdXV1bhx4wb++I//GMBhO8ri4mIRuAOOdzajv6mWL3Ao6H6/H6FQCDk5OcLF8ODBA/z2t7/Fl19+ifHxcWxtbYmJG0ZizLPcGObN4Y0XXRXVvQAc5vZSEUZtbS2+973vAQA+/PBDtLe3o7S0NGmHs2g0KnyzlG2h6/oxy1iGMirW19dx9+5dfPXVV/j1r3+NtbU14XKg1yeziBmGeT1560TXCF3XRdaB2WxGQ0MDAIjWkz/84Q+Rk5ODrKwsUXhBIp2qA1koFEIkEoHT6UyYzUZZC8TW1hZ8Ph/u3r2LTz/9FPfv38fc3Bz29/fF87lSjmHeDN560XU4HMJfSv0fSBxzcnJw4cIFNDc349KlS3jvvffQ3t6O/Pz8Y817aJAmZR1Eo9Fj4ipDWQlUpkz4fD4sLS3h7t27+M1vfoO7d+/C4/FwYI1h3hDeetFVkZuokyvCbDYjNzcX1dXV6O7uxpUrV9Db24v6+nq4XC5Eo9GEkmRVbGWfsIps/VKuMPmIg8EgpqamMDo6io8//hjj4+OYnp4GcOh+oAZBRt8TNYSX+wvHYjGYzWboup7gDmEY5vxg0VVQBVMuYCBBLSgoQHt7O65du4bW1la88847KCkpgdPpBHDkVlDHzpPAkdCqDdqNiMVi2NzcRF5eHp49e4bPP/8cv/vd73Dv3j3QYFC73S72I48lUt+X0+nEwcGBYYMhLr5gmPOBRVdBtkhlFwLl9JLlaLFYcOHCBRQWFqK9vR2tra24evUqurq6UFZWJraRrPE6QW4Gh8Mhmv3E43FR9kzIUzR8Ph9GR0dx+/Zt/Pa3v8WjR4+wvb2dsF3ZTWI2m8WkDuDQSqbJHHKZNQsvw7x8WHRPAFm9FNiSl+aFhYWoq6tDR0cHLl26hJ6eHjQ3N6OoqOiYa4GW9VQ2nAwK7Mk9fwOBAEwmE+x2OwBgfn4e09PT+P3vfw8AePToEe7du4etrS3oug6r1SpS1cjSJeTeFwzDnA9vvehmkhlgZAXStAvZJ0sN0nNzc9HS0oJ33nkHnZ2dGBgYQHZ2NvLy8gDgWDoZ+XxT+X5lvzFNRzZ67srKCu7fv4/f/va3uHXrFqanp0VfYfL/UsCPegzT39i/yzAvn7dedE+CpmmwWCyGQSjZCqaAFY0XunHjBhoaGtDf3w8A6O7uRnl5edKew2pwjX6WkcVSdSXQc7e3t/H111/jk08+wRdffIHNzU34fD7D3F85i4NhmJcHi24GkNAmG65pNpsThMyouXpBQQHq6+sBAK2trWL2W2dnJ4qLi49NPjayemOxmCi+SEUkEkE0GoWmaTCbzfD7/fB6vfj000/xxRdf4ObNm1haWhKCLbe/ZBjm5cKie0LIhZBsOoXqirDZbAiFQgkuDKvVipKSErS1teHixYuoq6vDe++9h5KSErhcrmPiSilkNEhTzjiIxWLQNC3B0jUiGAyKHg6Li4u4f/8+/ud//ge3b9/G6uoq93dgmHOCRfeckDMYSCzJ/5udnY3+/n40NTXh6tWr6OnpQXl5uQiyke84Wf8I2qa8L/mxeDwu+ksQoVAIW1tbGBkZwX/+53/iF7/4Bfb29oTvWM6iAA5vFHIHNoZhTgeL7jlhZKECh35im80Gn8+HoqIi1NXVobW1FZ2dnQnuBxUSYjW1jCC/s7xfNRsiFothZWUFX331FT7//HPcunUL8/PzCAaDosRZzS1mGObFYNE9J+Sii2T+YcJisQj3Q3d3N2pqavDhhx+KDAhKFwOOcohpUgX5mGk/srVKQqxmPuzv72NmZgY/+9nPcOvWLYyNjQk3ijz+iFwcDMOcHh5MyTAM84rwRk6O+K5QU8HUjAjKm6VUtOXlZaytreHx48fIzs7GZ599hpaWFly7dg0XL15ERUWFyD6IRqOGrSTJt0vDPCmbgdLaDg4OsL+/j5WVFczMzAA4KpgAEl0K5JZgS5dhXh7sXjgjjOahyZVtqriRKKqff3FxMerr69Hc3Iy2tjZ0dnaitbUVFRUVwl1Avl654xn9nYQeAPx+P54/f45Hjx7hyy+/xIMHD7CysoK1tTXEYrGEpjgAjh0LwzCng32654CmacLaTAYJJFm7MmrfB5PJhKKiIrS2tgqf74ULFwAcFjkUFhaisrISpaWlcDqdCIVC8Pv9WFlZwfz8PJaXl+HxeDAzM4PZ2VnMzMxgYWEhIQWOKtRIzMmiZhjmxWDRPQfkeWzJMLKGSWx1XYfX64XZbIbVahUWKxVByHPZXC4XKioq4Ha7UVpaKkbA+/1+RKNRTE5OYnZ2Ftvb2yJIRpMzqAmO7JIgrFarqIJjGOb0sOieI2qPXao6I3cCkaoCTob8r0Z5uerwTfpH1qzVak2wquPxOKxWqxBi7sXAMC8HFt3XGFlo1RJio/9ZRI9IVrlH0Gdm1OqToM8z2XNSjXKS9/Giz0lFumPI5PVpdED8bHR+GRkVbzssumeAmhcLJE6dyETs0l0c6kmrNsJRRUQVXKPnqGRygad7L5qmpd1OqkY+ycqr1dengl0g54/NZktYndG1wGJ7HBbdM+BtGhx51oJnJLpy/2Cj/8+CdE2D0lmxwPHSa/U5Z3G86W6U6UTN6PvK9LjoeamOgVdRJ4dF94wxSgVLNjVCJt2FoAbY5P9Psp2THMNptq/6l9XtqH0jjERXXjGoP8v/J9tPJp8BW2Bni/y9qt8hk0gq0eXiiAyhwgGbzQa73S7G4dCQScoseBGMLK5UVqfRY+msJnW7yUYXpUItMVa3pQb5jERXFU/54qUij1THm4kf06iYRCaTz1ttv6k+nu7zTvd4JqS7oavCl2rVkGplkW7VQeXo8W+nm+zt7WFnZwf7+/tcUHMCWHQzhC4+XdeRlZWF7OxskR1AUx7SkU4o1GGZ6mvSWZfqNlLtQ96+up1ML3KjbVAqWjrRlQUx3c3DaFuZiFm65XC6z1sm2feQ7rPK5DjTbSPd47KPlf5PJ7zq4/KNVrVg5Z/Jn39wcIC1tTWEw+GE8VBMelh0M4Qqt0Kh0LFhj1R6m46TXqCZCG4qITZCFUoj0U0X5CKrPp0bIZWQUdpaMuEOBoMpj/WsLN2T3tRO+nlncl68aPBTTVOk/9Wgb7LHACRUMiZzHdD5HwqFsLu7i93dXRwcHLCv94Sw6GaIPCkiGAyK4ZHU0DwT98JJAybyha5eQEb/y8eZah+p3ADxeDxtACrZqCHZPZFMjOg90HHKYipb4UaPy79n4ks8yQ0o2Wsyec6Lks6dk6nLiL7P0/hZM3lPuq4Lt8Lq6irW1tawv78vStJZfDODRTdDYjg8kSOxKA4CfkRiUfiDAeTn58OV54LP50toJAMc9dQ1Cv6ks6KM/pbMEpafky4Yl8mSOl3EPt02VOFPZZ0aLYnl58o+1ZOKY7r3kYklKx9nquNPto1kgct0boyTHKeRaKvPU10Q6uOyT1a+AQJHk62panJlZQWbm5sIBAJiuxy0zBwW3QyJx+NAPI642SxcDZFIRJTfUvMY9UI3sjzTWU2ZWB2ZWnGnffx12cdZbeNNxMjqlf8m/2z+9rw2yruNxw/7Ne/s7IjAGZWSZ9JzhEmERTdTpIADldaGQiH4fD7E43EUFBR8+7REyydBYKXzMp0lo/4scxLRPs3jZ72PV/k430SMhNVo5SD/TH1BZBeBnJ8bi8Xg8XiwsbGBvb09ETw26ifCpIZF95TIVVWxWAxOpxMWi0WkOsmWgxiZHkueI5tKpJItSU8jOJnu8zTbOI/jPMk+Tnoze10xcmeowkuPGf2sbkueIA0ctgj1+XxYXV3F/v6++Lt8jjOZw6J7QmTrNRaLidHmOzs7yMrKQk5ODoCjZjJkBRxaBNGMLn62ds/3ON8kkrkP6HcjZL86uQxMJpPw8+7s7GB9fR27u7tiJp/JdNhrgQwPdUI2kxwW3UwxmYSLgaC7fCQSwd7eHoCjdCqjPgmZWJuJu0x83lmIVjohfNFtnMdxZrqPk1rcryuy9Uq/J6voo+epFq+cW02us+3tbQDAxsYGNjY2hB+XimPk2XosupnDontCyKerDqAMhUI4ODgQ7oV4PA673S5+j8VisJiOR/3ln9NlN6i8LZYoW7uZkYmVm8q/S0Hfg4MDbGxswOPxAAA2Nzfh9/uFO8EoJZAFN3N4MCXDMMw5wpZuppDVIFXr0D+66weDQezv7wM4LJe02WzQNE34viyWxBJc9WcjMrHKXnQb57GPs9jGeR3n64xq4aZ6XH0uZSIEAgFsbm5ifX0dAESGjq7rCeOk5M+SLd3MeStEV66WId+TXP0kzwlLRhxxwJSYGq4ddQAABNdJREFUNC43fjGZTPAfHIjgg6ZpIgpMwhszJVZyqeIrV3oZXTjJKpPk52ZSQKG+Tt2XWlaqXqjq8lLdRybJ+kb5y8ncK0bHSW6bVNtI93f5GDL9LNTnpKveI+T3b/RzphgdQ7JiFBkK6CYr8dU0DYFAAPv7+6LabHd3V7xW13VEIhGYpGuAriP5vE137HIvZrru6HcS9Tedt0Z04/G4mBMmV9JkjOT7Ui1cEu5cl0s8fXd3F4FAAPF4HPn5+XA4HDAjUXhU8ZVLX+X/5feRjpNWQBkh7yfV65O9j0yOId17OQuLNF35bCafZ6bNZpKhpmapn5V8s32R40yH2njcSHyDwSD29vawsrKC9fV1cWPLyckR3fTS9WdIh1r5ZrPZEppGsei+IVCUNRAIHHvMarUm5NwmxWQSroXot8EEavdoMpkQCgZFoAE4PLl0XYfP54PZbEZubi7i0USLQL34TlImnAyjEt2TbsMo8p0qgJVs26l+f9F+A2fdvzgZ6Y4z05ae6md0Eis3mVV/EtSgGQXE6J/f78fi4iJWVlaEhUsNg2KxGHw+n+iqR/+M9pEKXdchZz3E4/GEa9Lo+nwTeStEl5Ytuq7DbDYjGAyKx+gumw6TyXTYfYHKgeNxxCWhtDsch9bAt+Kt6TqsViv8fj/C4TA0TUO+K09sy+h/dX/qz5mIRLq+BycR7mSim6x+3ygqbvR6eR+Zvo+TPp7JPs7CmpbTpjLB6HtIdxzy+WpEJucFfSfyd0Q9FWKxGLa2tjA3N4e9vT3oui7cCcDxz9pof+l8yQDENSgfg67rohKOplq/6bxVkyNoOaOWOkYikfR9aLWj6b10ApvNZvHP6XQiGo3C7/cDwLeBs8MKNYfDgZycHBTmFxw7HqNjTPZzJi4RdQRNOvFLRTrRTba9ZO6Fk+z/RUfYnGRfqTgLa1nG6JjS3fTT7SNTV1kq0d3b24PX6wWAhPMYAPLy8mA2m0VATS76oesgk/MzFosltEGlas03UWjjb/u4HqfTKZYu6omRcUu6VNfvt64Hi6aJijS/349gIACb3Y7s7Gx4vV7YrTblZYkbNfL/qY+nI1l7SPo5U6tIfX0y0T3JMZxEBDPxlb4omfS6TXccJ136n0Z0MwlQpUONQcjuhXg8jmAwiOzsbMRiMZFv7nQ6ARwu+0OhUMbnTyqSXW9kuFD2z+tOKtF9K9wL1Nne6XTCbDYnfLFHJbppLnKjj1BKIysuKcHa6ip8Ph8AIDs7G6FQSFgGoWAQ6W5hahT4NKKbzo97UtE12s5JBfE0rpJ0j5+FFZvJNtI9h77vl8lZvNdM9kGCCwAul0u4TsLhMPLy8kTVJZHqe062DxWn04l4PA6/3//GCG463grRBQC3240f/OAH6OzsFKOkgcM7bDgcTt+932QsgrSdpaUl/OxnP8Puzo7YrqZpCAWDhz6yJAEX+cRV07NkMr3w0rkXTpK1kczqPmnmh1GwMJ2onod7IZNtvKjvOZMb51lY7Zli5I83mRJbkDocDoRCIeFuuHDhAv72b/8WpaWlCa+l7RkFXo2g1DP5/QYCATx58gQ3b97E3NzcGbzDV5+U7gWGYRjmbOEyYIZhmHOERZdhGOYcYdFlGIY5R1h0GYZhzhEWXYZhmHOERZdhGOYc+f9RIYMyY9SB+AAAAABJRU5ErkJggg==",
=======
      "image/png": "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",
>>>>>>> 195d3fa48c5569da75b9e20ed00bf832520cecfc
      "text/plain": [
       "<Figure size 640x480 with 1 Axes>"
      ]
     },
     "metadata": {},
     "output_type": "display_data"
    },
    {
     "name": "stdout",
     "output_type": "stream",
     "text": [
<<<<<<< HEAD
      "Predicted angle:  0.14589\n",
      "Real angle:       0.11118\n"
=======
      "Predicted angle:  0.03769\n",
      "Real angle:       0.076\n"
>>>>>>> 195d3fa48c5569da75b9e20ed00bf832520cecfc
     ]
    },
    {
     "data": {
<<<<<<< HEAD
      "image/png": "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",
=======
      "image/png": "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",
>>>>>>> 195d3fa48c5569da75b9e20ed00bf832520cecfc
      "text/plain": [
       "<Figure size 640x480 with 1 Axes>"
      ]
     },
     "metadata": {},
     "output_type": "display_data"
    },
    {
     "name": "stdout",
     "output_type": "stream",
     "text": [
<<<<<<< HEAD
      "Predicted angle:  0.00855\n",
      "Real angle:       0.14673\n"
=======
      "Predicted angle:  0.06986\n",
      "Real angle:       0.188\n"
>>>>>>> 195d3fa48c5569da75b9e20ed00bf832520cecfc
     ]
    },
    {
     "data": {
<<<<<<< HEAD
      "image/png": "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",
=======
      "image/png": "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",
>>>>>>> 195d3fa48c5569da75b9e20ed00bf832520cecfc
      "text/plain": [
       "<Figure size 640x480 with 1 Axes>"
      ]
     },
     "metadata": {},
     "output_type": "display_data"
    },
    {
     "name": "stdout",
     "output_type": "stream",
     "text": [
<<<<<<< HEAD
      "Predicted angle:  0.02584\n",
      "Real angle:       0.04154\n"
=======
      "Predicted angle:  -0.7886\n",
      "Real angle:       -1.77\n"
>>>>>>> 195d3fa48c5569da75b9e20ed00bf832520cecfc
     ]
    }
   ],
   "source": [
    "display_image()\n",
    "display_image()\n",
    "display_image()\n",
    "display_image()\n",
    "display_image()"
   ]
  },
  {
   "cell_type": "markdown",
   "id": "cb9f30c4",
   "metadata": {},
   "source": [
    "## Save the model"
   ]
  },
  {
   "cell_type": "markdown",
   "id": "7bc1eb59",
   "metadata": {},
   "source": [
    "### Defining variables"
   ]
  },
  {
   "cell_type": "code",
   "execution_count": 36,
   "id": "71fb4f7b",
   "metadata": {},
   "outputs": [],
   "source": [
    "# Read YAML file\n",
    "with open(PATH + \"info.yaml\", 'r') as stream:\n",
    "    data_loaded = yaml.safe_load(stream)\n",
    "data_loaded['dataset']['name'] = PATH.split('/')[3]"
   ]
  },
  {
   "cell_type": "code",
   "execution_count": 37,
   "id": "39292c8c",
   "metadata": {},
   "outputs": [],
   "source": [
    "cnn_model_name = 'rota'\n",
    "val_loss = '0.01'\n",
    "test_loss = '0.02'\n",
    "model_evaluation = '5/10'\n",
    "ml_comments = 'correu mt bem... nao gostei'\n",
    "current_date = datetime.datetime.now().strftime(\"%d-%m-%Y-%Hh%Mm\")"
   ]
  },
  {
   "cell_type": "markdown",
   "id": "eb3b3675",
   "metadata": {},
   "source": [
    "### Model"
   ]
  },
  {
   "cell_type": "code",
   "execution_count": 38,
   "id": "e533477d",
   "metadata": {},
   "outputs": [],
   "source": [
    "modelname = cnn_model_name + '-' + current_date + '-' + val_loss\n",
    "model.save('../models/' + modelname + '.h5')"
   ]
  },
  {
   "cell_type": "markdown",
   "id": "3a23267d",
   "metadata": {},
   "source": [
    "### YAML"
   ]
  },
  {
   "cell_type": "code",
   "execution_count": 39,
   "id": "1369a1c0",
   "metadata": {},
   "outputs": [],
   "source": [
    "info_data = dict(\n",
    "    model = dict(\n",
    "        name = modelname,\n",
    "        developer = os.getenv('automec_developer') or os.getlogin(),\n",
    "        date = current_date,\n",
    "        ml_arch = {\"name\":cnn_model_name, \"epochs\":epochs, \n",
    "                   \"batch_size_train\":batch_size_train, \n",
    "                   \"batch_size_val\":batch_size_val, \"training_flag\":training_flag,\n",
    "                   \"validation_flag\":validation_flag, \"validation_steps\":validation_steps,\n",
    "                   \"val_loss\":val_loss, \"tes_loss\":test_loss},\n",
    "        model_eval = model_evaluation,\n",
    "        comments = ml_comments\n",
    "    ),\n",
    "    dataset = data_loaded['dataset']\n",
    ")"
   ]
  },
  {
   "cell_type": "code",
   "execution_count": 40,
   "id": "ee6ed749",
   "metadata": {},
   "outputs": [],
   "source": [
    "with open('../models'+'/' + modelname + '.yaml', 'w') as outfile: #info\n",
    "    yaml.dump(info_data, outfile, default_flow_style=False, sort_keys=False)"
   ]
  }
 ],
 "metadata": {
  "kernelspec": {
   "display_name": "Python 3.8.10 64-bit",
   "language": "python",
   "name": "python3"
  },
  "language_info": {
   "codemirror_mode": {
    "name": "ipython",
    "version": 3
   },
   "file_extension": ".py",
   "mimetype": "text/x-python",
   "name": "python",
   "nbconvert_exporter": "python",
   "pygments_lexer": "ipython3",
   "version": "3.8.10"
  },
  "vscode": {
   "interpreter": {
    "hash": "916dbcbb3f70747c44a77c7bcd40155683ae19c65e1c03b4aa3499c5328201f1"
   }
  }
 },
 "nbformat": 4,
 "nbformat_minor": 5
}
