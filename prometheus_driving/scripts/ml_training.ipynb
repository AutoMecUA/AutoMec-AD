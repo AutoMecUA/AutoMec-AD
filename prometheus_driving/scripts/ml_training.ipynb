{
 "cells": [
  {
   "cell_type": "markdown",
   "id": "e834d221",
   "metadata": {},
   "source": [
    "# AutoMecAD: ML Prototyping and Testing\n",
    "\n",
    "This notebook is used for the prototyping and evaluation of different ML models to be used for autonomous driving. </br>\n",
    "</br>\n",
    "<b> Attention: </b> You will <b> need </b> the Jupyter Notebook installed in order to run this notebook. We also recomend to install the conda enviroment with python 3.8 (Anaconda or miniconda) for an easier dependency management (install AutoMec-AD/requirements.txt)"
   ]
  },
  {
   "cell_type": "code",
   "execution_count": 1,
   "id": "eef99c2a",
   "metadata": {
    "scrolled": true
   },
   "outputs": [
    {
     "name": "stderr",
     "output_type": "stream",
     "text": [
      "2022-11-14 22:31:52.676079: W tensorflow/stream_executor/platform/default/dso_loader.cc:64] Could not load dynamic library 'libcudart.so.11.0'; dlerror: libcudart.so.11.0: cannot open shared object file: No such file or directory; LD_LIBRARY_PATH: /home/nel/.local/lib/python3.8/site-packages/cv2/../../lib64:/home/nel/catkin_ws/devel/lib:/opt/ros/noetic/lib:/opt/ros/noetic/lib/x86_64-linux-gnu\n",
      "2022-11-14 22:31:52.676113: I tensorflow/stream_executor/cuda/cudart_stub.cc:29] Ignore above cudart dlerror if you do not have a GPU set up on your machine.\n"
     ]
    }
   ],
   "source": [
    "# Visualization tools\n",
    "from matplotlib import pyplot as plt\n",
    "import matplotlib.image as mpimg\n",
    "import plotly.express as px\n",
    "\n",
    "# Data manipulation\n",
    "from imgaug import augmenters as iaa\n",
    "import pandas as pd\n",
    "import numpy as np\n",
    "import glob\n",
    "import cv2\n",
    "\n",
    "# ML Libraries\n",
    "from tensorflow.keras.layers import Convolution2D, Flatten, Dense, Dropout,  \\\n",
    "TimeDistributed, ConvLSTM2D, Input, BatchNormalization, MaxPooling2D\n",
    "from tensorflow.python.keras.engine.sequential import relax_input_shape\n",
    "from tensorflow.keras.models import Sequential, load_model\n",
    "from tensorflow.keras.callbacks import ModelCheckpoint\n",
    "from sklearn.model_selection import train_test_split\n",
    "from sklearn.metrics import mean_squared_error\n",
    "from tensorflow.keras.optimizers import Adam\n",
    "from sklearn.utils import shuffle\n",
    "\n",
    "# Other\n",
    "from PIL import Image\n",
    "import datetime\n",
    "import pprint\n",
    "import random\n",
    "import shutil \n",
    "import yaml\n",
    "import os\n",
    "\n",
    "pd.options.plotting.backend = \"plotly\""
   ]
  },
  {
   "cell_type": "markdown",
   "id": "a078ea6c",
   "metadata": {},
   "source": [
    "### Saving the original dataset\n",
    "If you want to store the augmented images in your disk, or join multiple datasets, you should clone the IMGs and logs to a new dataset and use it."
   ]
  },
  {
   "cell_type": "code",
   "execution_count": 2,
   "id": "845cd3d1",
   "metadata": {},
   "outputs": [],
   "source": [
    "# path to the folder, or to the new folder to be created \n",
    "PATH = \"../data/gazebo-14-11-22h28m35s/\""
   ]
  },
  {
   "cell_type": "markdown",
   "id": "065192b3",
   "metadata": {},
   "source": [
    "Uncomment if you want to create a new folder for a new dataset"
   ]
  },
  {
   "cell_type": "code",
   "execution_count": 3,
   "id": "db0eb88a",
   "metadata": {
    "scrolled": true
   },
   "outputs": [],
   "source": [
    "# # directory used to retrive images, steering angles and save new augmented images\n",
    "# try:\n",
    "#     shutil.rmtree(PATH)\n",
    "# except:\n",
    "#     print(\"tree not found\")\n",
    "#\n",
    "# os.mkdir(PATH)"
   ]
  },
  {
   "cell_type": "markdown",
   "id": "73750253",
   "metadata": {},
   "source": [
    "Uncomment the code below if you want to create the new 'driving_log.csv' <br>\n",
    "Change the variable <code> PATHS </code> to choose the datasets that you want to join"
   ]
  },
  {
   "cell_type": "code",
   "execution_count": 4,
   "id": "17bc0fdd",
   "metadata": {},
   "outputs": [],
   "source": [
    "# data = \"\"\n",
    "\n",
    "# # CHOOSE YOUR SETS, INSERT THE CORRESPONDED PATHS TO THOSE SETS\n",
    "# PATHS = [\"setX40/\", \"setX42/\"]\n",
    "\n",
    "# for i, path_log in enumerate(PATHS):\n",
    "#     file_data = ''\n",
    "#     with open(os.path.join(path_log, 'driving_log.csv')) as fp:\n",
    "#         file_data = fp.read()\n",
    "#     file_data = file_data + '\\n' if i < len(path_log)-1 else file_data # the last file read doesnt need the line break\n",
    "#     data = data + file_data\n",
    "\n",
    "# with open(PATH + 'driving_log.csv', 'w') as fp:\n",
    "#     fp.write(data)"
   ]
  },
  {
   "cell_type": "markdown",
   "id": "e68a9b1e",
   "metadata": {},
   "source": [
    "Using your file manager to copy all the images and paste in the new dataset is faster. </br>\n",
    "Use only this piece of code if you don't want to manually paste them."
   ]
  },
  {
   "cell_type": "code",
   "execution_count": 5,
   "id": "84d8be18",
   "metadata": {
    "scrolled": true
   },
   "outputs": [],
   "source": [
    "# DEMORA MUITO TEMPO\n",
    "\n",
    "# os.mkdir(os.path.join(PATH, 'IMG/'))\n",
    "\n",
    "# for path_img in PATHS:\n",
    "#     dir_ = os.listdir(os.path.join(path_img, 'IMG/'))\n",
    "#     for file in dir_:\n",
    "#         print(dir_)\n",
    "#         shutil.copy(os.path.join(path_img + 'IMG/', file), PATH + 'IMG/')\n",
    "\n",
    "# dir_ = os.listdir(PATH + 'IMG/')\n",
    "# print(len(dir_))"
   ]
  },
  {
   "cell_type": "markdown",
   "id": "00780539",
   "metadata": {},
   "source": [
    "### Configurations"
   ]
  },
  {
   "cell_type": "code",
   "execution_count": 6,
   "id": "94f3f4d9",
   "metadata": {},
   "outputs": [],
   "source": [
    "epochs = 20 \n",
    "steps_per_epoch = 100 \n",
    "batch_size_train = 20\n",
    "training_flag = 1\n",
    "batch_size_val = 25\n",
    "validation_flag = 0\n",
    "validation_steps = 50   \n",
    "\n",
    "image_width = 320\n",
    "image_height = 160"
   ]
  },
  {
   "cell_type": "markdown",
   "id": "368ac1bb",
   "metadata": {},
   "source": [
    "### Load data"
   ]
  },
  {
   "cell_type": "code",
   "execution_count": 7,
   "id": "ad2472a4",
   "metadata": {
    "scrolled": true
   },
   "outputs": [
    {
     "data": {
      "text/html": [
       "<div>\n",
       "<style scoped>\n",
       "    .dataframe tbody tr th:only-of-type {\n",
       "        vertical-align: middle;\n",
       "    }\n",
       "\n",
       "    .dataframe tbody tr th {\n",
       "        vertical-align: top;\n",
       "    }\n",
       "\n",
       "    .dataframe thead th {\n",
       "        text-align: right;\n",
       "    }\n",
       "</style>\n",
       "<table border=\"1\" class=\"dataframe\">\n",
       "  <thead>\n",
       "    <tr style=\"text-align: right;\">\n",
       "      <th></th>\n",
       "      <th>img_name</th>\n",
       "      <th>steering</th>\n",
       "    </tr>\n",
       "  </thead>\n",
       "  <tbody>\n",
       "    <tr>\n",
       "      <th>0</th>\n",
       "      <td>2022_11_14__22_28_38__890295.jpg</td>\n",
       "      <td>-0.027009</td>\n",
       "    </tr>\n",
       "    <tr>\n",
       "      <th>1</th>\n",
       "      <td>2022_11_14__22_28_38__918520.jpg</td>\n",
       "      <td>-0.027009</td>\n",
       "    </tr>\n",
       "    <tr>\n",
       "      <th>2</th>\n",
       "      <td>2022_11_14__22_28_38__951110.jpg</td>\n",
       "      <td>0.048250</td>\n",
       "    </tr>\n",
       "    <tr>\n",
       "      <th>3</th>\n",
       "      <td>2022_11_14__22_28_38__984169.jpg</td>\n",
       "      <td>0.078219</td>\n",
       "    </tr>\n",
       "    <tr>\n",
       "      <th>4</th>\n",
       "      <td>2022_11_14__22_28_39__19470.jpg</td>\n",
       "      <td>0.092135</td>\n",
       "    </tr>\n",
       "  </tbody>\n",
       "</table>\n",
       "</div>"
      ],
      "text/plain": [
       "                           img_name  steering\n",
       "0  2022_11_14__22_28_38__890295.jpg -0.027009\n",
       "1  2022_11_14__22_28_38__918520.jpg -0.027009\n",
       "2  2022_11_14__22_28_38__951110.jpg  0.048250\n",
       "3  2022_11_14__22_28_38__984169.jpg  0.078219\n",
       "4   2022_11_14__22_28_39__19470.jpg  0.092135"
      ]
     },
     "execution_count": 7,
     "metadata": {},
     "output_type": "execute_result"
    }
   ],
   "source": [
    "columns = ['img_name','steering', 'velocity'] \n",
    "df = pd.read_csv(os.path.join(PATH, 'driving_log.csv'), names = columns)\n",
    "\n",
    "del df[\"velocity\"] # not in use, currently\n",
    "\n",
    "df.head()"
   ]
  },
  {
   "cell_type": "markdown",
   "id": "e860939b",
   "metadata": {},
   "source": [
    "# Image Data  Visualization"
   ]
  },
  {
   "cell_type": "markdown",
   "id": "65b56456",
   "metadata": {},
   "source": [
    "In case you want to visualize the camera images"
   ]
  },
  {
   "cell_type": "code",
   "execution_count": 8,
   "id": "d057ea69",
   "metadata": {
    "scrolled": true
   },
   "outputs": [
    {
     "data": {
      "image/png": "[encoded data removed]",
      "text/plain": [
       "<Figure size 432x288 with 1 Axes>"
      ]
     },
     "metadata": {
      "needs_background": "light"
     },
     "output_type": "display_data"
    }
   ],
   "source": [
    "imgv_path = os.path.join(PATH, \"IMG/\")\n",
    "imgsv = os.listdir(imgv_path)\n",
    "rand_integer = random.randint(0, len(imgsv))\n",
    "imgv = cv2.imread(imgv_path + imgsv[rand_integer], cv2.IMREAD_COLOR)\n",
    "imgv_cropped = imgv[40:, :]\n",
    "plt.imshow(imgv_cropped)\n",
    "plt.axis(\"off\")\n",
    "plt.show()"
   ]
  },
  {
   "cell_type": "markdown",
   "id": "0ddfe4d3",
   "metadata": {},
   "source": [
    "## Data Annotation\n",
    "\n",
    "Annote Images with the Steering values (also known as labeling)"
   ]
  },
  {
   "cell_type": "code",
   "execution_count": 9,
   "id": "d5e16452",
   "metadata": {},
   "outputs": [],
   "source": [
    "img_names = [os.path.join(PATH, \"IMG\", df.iloc[i].img_name) for i in range(df.shape[0])]\n",
    "data  = np.column_stack((img_names, df.steering)) \n",
    "\n",
    "img_paths = data[:, 0] \n",
    "steerings = data[:, 1].astype(float)"
   ]
  },
  {
   "cell_type": "markdown",
   "id": "81718320",
   "metadata": {},
   "source": [
    "## 3-way Split"
   ]
  },
  {
   "cell_type": "code",
   "execution_count": 10,
   "id": "f3190b6a",
   "metadata": {},
   "outputs": [
    {
     "name": "stdout",
     "output_type": "stream",
     "text": [
      "Total Training Images:  2941\n",
      "Total Validation Images:  364\n",
      "Total Testing Images:  409\n"
     ]
    }
   ],
   "source": [
    "x_train, x_test, y_train, y_test = train_test_split(img_paths, steerings, test_size=0.11, random_state=5)\n",
    "x_train, x_val, y_train, y_val = train_test_split(x_train, y_train, test_size=0.11, random_state=5)\n",
    "\n",
    "print('Total Training Images: ', len(x_train))\n",
    "print('Total Validation Images: ', len(x_val))\n",
    "print('Total Testing Images: ', len(x_test)) "
   ]
  },
  {
   "cell_type": "markdown",
   "id": "85b96a59",
   "metadata": {},
   "source": [
    "### Histogram of the test set"
   ]
  },
  {
   "cell_type": "code",
   "execution_count": 11,
   "id": "3682ce14",
   "metadata": {},
   "outputs": [
    {
     "data": {
      "application/vnd.plotly.v1+json": {
       "config": {
        "plotlyServerURL": "https://plot.ly"
       },
       "data": [
        {
         "alignmentgroup": "True",
         "hovertemplate": "Steering Angle=%{x}<br>Frequency  (Log Scale)=%{y}<extra></extra>",
         "legendgroup": "",
         "marker": {
          "color": "#636efa",
          "pattern": {
           "shape": ""
          }
         },
         "name": "",
         "offsetgroup": "",
         "orientation": "v",
         "showlegend": false,
         "textposition": "auto",
         "type": "bar",
         "x": [
          -0.46978372719980055,
          -0.4389846440284483,
          -0.408185560857096,
          -0.37738647768574374,
          -0.34658739451439147,
          -0.3157883113430392,
          -0.284989228171687,
          -0.2541901450003347,
          -0.22339106182898244,
          -0.19259197865763017,
          -0.1617928954862779,
          -0.13099381231492566,
          -0.10019472914357341,
          -0.06939564597222114,
          -0.03859656280086887,
          -0.0077974796295166016,
          0.02300160354183567,
          0.05380068671318794,
          0.08459976988454021,
          0.11539885305589248,
          0.14619793622724475,
          0.17699701939859702,
          0.2077961025699493,
          0.2385951857413015,
          0.2693942689126537,
          0.300193352084006,
          0.33099243525535826,
          0.36179151842671053,
          0.3925906015980628,
          0.4233896847694151,
          0.45418876794076735
         ],
         "xaxis": "x",
         "y": [
          1,
          3,
          0,
          4,
          2,
          4,
          9,
          14,
          5,
          28,
          6,
          14,
          8,
          31,
          27,
          65,
          34,
          7,
          19,
          42,
          45,
          19,
          1,
          8,
          6,
          2,
          2,
          0,
          1,
          1,
          1
         ],
         "yaxis": "y"
        }
       ],
       "layout": {
        "barmode": "relative",
        "legend": {
         "tracegroupgap": 0
        },
        "template": {
         "data": {
          "bar": [
           {
            "error_x": {
             "color": "#f2f5fa"
            },
            "error_y": {
             "color": "#f2f5fa"
            },
            "marker": {
             "line": {
              "color": "rgb(17,17,17)",
              "width": 0.5
             },
             "pattern": {
              "fillmode": "overlay",
              "size": 10,
              "solidity": 0.2
             }
            },
            "type": "bar"
           }
          ],
          "barpolar": [
           {
            "marker": {
             "line": {
              "color": "rgb(17,17,17)",
              "width": 0.5
             },
             "pattern": {
              "fillmode": "overlay",
              "size": 10,
              "solidity": 0.2
             }
            },
            "type": "barpolar"
           }
          ],
          "carpet": [
           {
            "aaxis": {
             "endlinecolor": "#A2B1C6",
             "gridcolor": "#506784",
             "linecolor": "#506784",
             "minorgridcolor": "#506784",
             "startlinecolor": "#A2B1C6"
            },
            "baxis": {
             "endlinecolor": "#A2B1C6",
             "gridcolor": "#506784",
             "linecolor": "#506784",
             "minorgridcolor": "#506784",
             "startlinecolor": "#A2B1C6"
            },
            "type": "carpet"
           }
          ],
          "choropleth": [
           {
            "colorbar": {
             "outlinewidth": 0,
             "ticks": ""
            },
            "type": "choropleth"
           }
          ],
          "contour": [
           {
            "colorbar": {
             "outlinewidth": 0,
             "ticks": ""
            },
            "colorscale": [
             [
              0,
              "#0d0887"
             ],
             [
              0.1111111111111111,
              "#46039f"
             ],
             [
              0.2222222222222222,
              "#7201a8"
             ],
             [
              0.3333333333333333,
              "#9c179e"
             ],
             [
              0.4444444444444444,
              "#bd3786"
             ],
             [
              0.5555555555555556,
              "#d8576b"
             ],
             [
              0.6666666666666666,
              "#ed7953"
             ],
             [
              0.7777777777777778,
              "#fb9f3a"
             ],
             [
              0.8888888888888888,
              "#fdca26"
             ],
             [
              1,
              "#f0f921"
             ]
            ],
            "type": "contour"
           }
          ],
          "contourcarpet": [
           {
            "colorbar": {
             "outlinewidth": 0,
             "ticks": ""
            },
            "type": "contourcarpet"
           }
          ],
          "heatmap": [
           {
            "colorbar": {
             "outlinewidth": 0,
             "ticks": ""
            },
            "colorscale": [
             [
              0,
              "#0d0887"
             ],
             [
              0.1111111111111111,
              "#46039f"
             ],
             [
              0.2222222222222222,
              "#7201a8"
             ],
             [
              0.3333333333333333,
              "#9c179e"
             ],
             [
              0.4444444444444444,
              "#bd3786"
             ],
             [
              0.5555555555555556,
              "#d8576b"
             ],
             [
              0.6666666666666666,
              "#ed7953"
             ],
             [
              0.7777777777777778,
              "#fb9f3a"
             ],
             [
              0.8888888888888888,
              "#fdca26"
             ],
             [
              1,
              "#f0f921"
             ]
            ],
            "type": "heatmap"
           }
          ],
          "heatmapgl": [
           {
            "colorbar": {
             "outlinewidth": 0,
             "ticks": ""
            },
            "colorscale": [
             [
              0,
              "#0d0887"
             ],
             [
              0.1111111111111111,
              "#46039f"
             ],
             [
              0.2222222222222222,
              "#7201a8"
             ],
             [
              0.3333333333333333,
              "#9c179e"
             ],
             [
              0.4444444444444444,
              "#bd3786"
             ],
             [
              0.5555555555555556,
              "#d8576b"
             ],
             [
              0.6666666666666666,
              "#ed7953"
             ],
             [
              0.7777777777777778,
              "#fb9f3a"
             ],
             [
              0.8888888888888888,
              "#fdca26"
             ],
             [
              1,
              "#f0f921"
             ]
            ],
            "type": "heatmapgl"
           }
          ],
          "histogram": [
           {
            "marker": {
             "pattern": {
              "fillmode": "overlay",
              "size": 10,
              "solidity": 0.2
             }
            },
            "type": "histogram"
           }
          ],
          "histogram2d": [
           {
            "colorbar": {
             "outlinewidth": 0,
             "ticks": ""
            },
            "colorscale": [
             [
              0,
              "#0d0887"
             ],
             [
              0.1111111111111111,
              "#46039f"
             ],
             [
              0.2222222222222222,
              "#7201a8"
             ],
             [
              0.3333333333333333,
              "#9c179e"
             ],
             [
              0.4444444444444444,
              "#bd3786"
             ],
             [
              0.5555555555555556,
              "#d8576b"
             ],
             [
              0.6666666666666666,
              "#ed7953"
             ],
             [
              0.7777777777777778,
              "#fb9f3a"
             ],
             [
              0.8888888888888888,
              "#fdca26"
             ],
             [
              1,
              "#f0f921"
             ]
            ],
            "type": "histogram2d"
           }
          ],
          "histogram2dcontour": [
           {
            "colorbar": {
             "outlinewidth": 0,
             "ticks": ""
            },
            "colorscale": [
             [
              0,
              "#0d0887"
             ],
             [
              0.1111111111111111,
              "#46039f"
             ],
             [
              0.2222222222222222,
              "#7201a8"
             ],
             [
              0.3333333333333333,
              "#9c179e"
             ],
             [
              0.4444444444444444,
              "#bd3786"
             ],
             [
              0.5555555555555556,
              "#d8576b"
             ],
             [
              0.6666666666666666,
              "#ed7953"
             ],
             [
              0.7777777777777778,
              "#fb9f3a"
             ],
             [
              0.8888888888888888,
              "#fdca26"
             ],
             [
              1,
              "#f0f921"
             ]
            ],
            "type": "histogram2dcontour"
           }
          ],
          "mesh3d": [
           {
            "colorbar": {
             "outlinewidth": 0,
             "ticks": ""
            },
            "type": "mesh3d"
           }
          ],
          "parcoords": [
           {
            "line": {
             "colorbar": {
              "outlinewidth": 0,
              "ticks": ""
             }
            },
            "type": "parcoords"
           }
          ],
          "pie": [
           {
            "automargin": true,
            "type": "pie"
           }
          ],
          "scatter": [
           {
            "marker": {
             "line": {
              "color": "#283442"
             }
            },
            "type": "scatter"
           }
          ],
          "scatter3d": [
           {
            "line": {
             "colorbar": {
              "outlinewidth": 0,
              "ticks": ""
             }
            },
            "marker": {
             "colorbar": {
              "outlinewidth": 0,
              "ticks": ""
             }
            },
            "type": "scatter3d"
           }
          ],
          "scattercarpet": [
           {
            "marker": {
             "colorbar": {
              "outlinewidth": 0,
              "ticks": ""
             }
            },
            "type": "scattercarpet"
           }
          ],
          "scattergeo": [
           {
            "marker": {
             "colorbar": {
              "outlinewidth": 0,
              "ticks": ""
             }
            },
            "type": "scattergeo"
           }
          ],
          "scattergl": [
           {
            "marker": {
             "line": {
              "color": "#283442"
             }
            },
            "type": "scattergl"
           }
          ],
          "scattermapbox": [
           {
            "marker": {
             "colorbar": {
              "outlinewidth": 0,
              "ticks": ""
             }
            },
            "type": "scattermapbox"
           }
          ],
          "scatterpolar": [
           {
            "marker": {
             "colorbar": {
              "outlinewidth": 0,
              "ticks": ""
             }
            },
            "type": "scatterpolar"
           }
          ],
          "scatterpolargl": [
           {
            "marker": {
             "colorbar": {
              "outlinewidth": 0,
              "ticks": ""
             }
            },
            "type": "scatterpolargl"
           }
          ],
          "scatterternary": [
           {
            "marker": {
             "colorbar": {
              "outlinewidth": 0,
              "ticks": ""
             }
            },
            "type": "scatterternary"
           }
          ],
          "surface": [
           {
            "colorbar": {
             "outlinewidth": 0,
             "ticks": ""
            },
            "colorscale": [
             [
              0,
              "#0d0887"
             ],
             [
              0.1111111111111111,
              "#46039f"
             ],
             [
              0.2222222222222222,
              "#7201a8"
             ],
             [
              0.3333333333333333,
              "#9c179e"
             ],
             [
              0.4444444444444444,
              "#bd3786"
             ],
             [
              0.5555555555555556,
              "#d8576b"
             ],
             [
              0.6666666666666666,
              "#ed7953"
             ],
             [
              0.7777777777777778,
              "#fb9f3a"
             ],
             [
              0.8888888888888888,
              "#fdca26"
             ],
             [
              1,
              "#f0f921"
             ]
            ],
            "type": "surface"
           }
          ],
          "table": [
           {
            "cells": {
             "fill": {
              "color": "#506784"
             },
             "line": {
              "color": "rgb(17,17,17)"
             }
            },
            "header": {
             "fill": {
              "color": "#2a3f5f"
             },
             "line": {
              "color": "rgb(17,17,17)"
             }
            },
            "type": "table"
           }
          ]
         },
         "layout": {
          "annotationdefaults": {
           "arrowcolor": "#f2f5fa",
           "arrowhead": 0,
           "arrowwidth": 1
          },
          "autotypenumbers": "strict",
          "coloraxis": {
           "colorbar": {
            "outlinewidth": 0,
            "ticks": ""
           }
          },
          "colorscale": {
           "diverging": [
            [
             0,
             "#8e0152"
            ],
            [
             0.1,
             "#c51b7d"
            ],
            [
             0.2,
             "#de77ae"
            ],
            [
             0.3,
             "#f1b6da"
            ],
            [
             0.4,
             "#fde0ef"
            ],
            [
             0.5,
             "#f7f7f7"
            ],
            [
             0.6,
             "#e6f5d0"
            ],
            [
             0.7,
             "#b8e186"
            ],
            [
             0.8,
             "#7fbc41"
            ],
            [
             0.9,
             "#4d9221"
            ],
            [
             1,
             "#276419"
            ]
           ],
           "sequential": [
            [
             0,
             "#0d0887"
            ],
            [
             0.1111111111111111,
             "#46039f"
            ],
            [
             0.2222222222222222,
             "#7201a8"
            ],
            [
             0.3333333333333333,
             "#9c179e"
            ],
            [
             0.4444444444444444,
             "#bd3786"
            ],
            [
             0.5555555555555556,
             "#d8576b"
            ],
            [
             0.6666666666666666,
             "#ed7953"
            ],
            [
             0.7777777777777778,
             "#fb9f3a"
            ],
            [
             0.8888888888888888,
             "#fdca26"
            ],
            [
             1,
             "#f0f921"
            ]
           ],
           "sequentialminus": [
            [
             0,
             "#0d0887"
            ],
            [
             0.1111111111111111,
             "#46039f"
            ],
            [
             0.2222222222222222,
             "#7201a8"
            ],
            [
             0.3333333333333333,
             "#9c179e"
            ],
            [
             0.4444444444444444,
             "#bd3786"
            ],
            [
             0.5555555555555556,
             "#d8576b"
            ],
            [
             0.6666666666666666,
             "#ed7953"
            ],
            [
             0.7777777777777778,
             "#fb9f3a"
            ],
            [
             0.8888888888888888,
             "#fdca26"
            ],
            [
             1,
             "#f0f921"
            ]
           ]
          },
          "colorway": [
           "#636efa",
           "#EF553B",
           "#00cc96",
           "#ab63fa",
           "#FFA15A",
           "#19d3f3",
           "#FF6692",
           "#B6E880",
           "#FF97FF",
           "#FECB52"
          ],
          "font": {
           "color": "#f2f5fa"
          },
          "geo": {
           "bgcolor": "rgb(17,17,17)",
           "lakecolor": "rgb(17,17,17)",
           "landcolor": "rgb(17,17,17)",
           "showlakes": true,
           "showland": true,
           "subunitcolor": "#506784"
          },
          "hoverlabel": {
           "align": "left"
          },
          "hovermode": "closest",
          "mapbox": {
           "style": "dark"
          },
          "paper_bgcolor": "rgb(17,17,17)",
          "plot_bgcolor": "rgb(17,17,17)",
          "polar": {
           "angularaxis": {
            "gridcolor": "#506784",
            "linecolor": "#506784",
            "ticks": ""
           },
           "bgcolor": "rgb(17,17,17)",
           "radialaxis": {
            "gridcolor": "#506784",
            "linecolor": "#506784",
            "ticks": ""
           }
          },
          "scene": {
           "xaxis": {
            "backgroundcolor": "rgb(17,17,17)",
            "gridcolor": "#506784",
            "gridwidth": 2,
            "linecolor": "#506784",
            "showbackground": true,
            "ticks": "",
            "zerolinecolor": "#C8D4E3"
           },
           "yaxis": {
            "backgroundcolor": "rgb(17,17,17)",
            "gridcolor": "#506784",
            "gridwidth": 2,
            "linecolor": "#506784",
            "showbackground": true,
            "ticks": "",
            "zerolinecolor": "#C8D4E3"
           },
           "zaxis": {
            "backgroundcolor": "rgb(17,17,17)",
            "gridcolor": "#506784",
            "gridwidth": 2,
            "linecolor": "#506784",
            "showbackground": true,
            "ticks": "",
            "zerolinecolor": "#C8D4E3"
           }
          },
          "shapedefaults": {
           "line": {
            "color": "#f2f5fa"
           }
          },
          "sliderdefaults": {
           "bgcolor": "#C8D4E3",
           "bordercolor": "rgb(17,17,17)",
           "borderwidth": 1,
           "tickwidth": 0
          },
          "ternary": {
           "aaxis": {
            "gridcolor": "#506784",
            "linecolor": "#506784",
            "ticks": ""
           },
           "baxis": {
            "gridcolor": "#506784",
            "linecolor": "#506784",
            "ticks": ""
           },
           "bgcolor": "rgb(17,17,17)",
           "caxis": {
            "gridcolor": "#506784",
            "linecolor": "#506784",
            "ticks": ""
           }
          },
          "title": {
           "x": 0.05
          },
          "updatemenudefaults": {
           "bgcolor": "#506784",
           "borderwidth": 0
          },
          "xaxis": {
           "automargin": true,
           "gridcolor": "#283442",
           "linecolor": "#506784",
           "ticks": "",
           "title": {
            "standoff": 15
           },
           "zerolinecolor": "#283442",
           "zerolinewidth": 2
          },
          "yaxis": {
           "automargin": true,
           "gridcolor": "#283442",
           "linecolor": "#506784",
           "ticks": "",
           "title": {
            "standoff": 15
           },
           "zerolinecolor": "#283442",
           "zerolinewidth": 2
          }
         }
        },
        "title": {
         "text": "Steering Angle Distribuiton: TEST SET"
        },
        "xaxis": {
         "anchor": "y",
         "domain": [
          0,
          1
         ],
         "title": {
          "text": "Steering Angle"
         }
        },
        "yaxis": {
         "anchor": "x",
         "domain": [
          0,
          1
         ],
         "title": {
          "text": "Frequency  (Log Scale)"
         }
        }
       }
      }
     },
     "metadata": {},
     "output_type": "display_data"
    }
   ],
   "source": [
    "nbins_test              = 31 # Has to be an odd number so we have zero at the center\n",
    "freq_test, bins_test    = np.histogram(y_test, bins=nbins_test)\n",
    "\n",
    "\"\"\"\n",
    "Centered bins: \n",
    "    This creates a Bin with zero value for the center \n",
    "    (wich is what we expect from most of the driving input)\n",
    "\"\"\"\n",
    "cbins_test = (bins_test[:-1] + bins_test[1:])*0.5     \n",
    "\n",
    "fig = px.bar(x        = cbins_test, \n",
    "             y        = freq_test, \n",
    "             labels   = {'x' : 'Steering Angle', 'y' : 'Frequency  (Log Scale)'}, \n",
    "             title    = \"Steering Angle Distribuiton: TEST SET\",\n",
    "             template =\"plotly_dark\",\n",
    "             log_y    = False) #True\n",
    "\n",
    "fig.show()"
   ]
  },
  {
   "cell_type": "markdown",
   "id": "2ced1a95",
   "metadata": {},
   "source": [
    "### Histogram of the Validation Set"
   ]
  },
  {
   "cell_type": "code",
   "execution_count": 12,
   "id": "0afbedd7",
   "metadata": {
    "scrolled": false
   },
   "outputs": [
    {
     "data": {
      "application/vnd.plotly.v1+json": {
       "config": {
        "plotlyServerURL": "https://plot.ly"
       },
       "data": [
        {
         "alignmentgroup": "True",
         "hovertemplate": "Steering Angle=%{x}<br>Frequency  (Log Scale)=%{y}<extra></extra>",
         "legendgroup": "",
         "marker": {
          "color": "#636efa",
          "pattern": {
           "shape": ""
          }
         },
         "name": "",
         "offsetgroup": "",
         "orientation": "v",
         "showlegend": false,
         "textposition": "auto",
         "type": "bar",
         "x": [
          -0.4297586919799928,
          -0.40027190504535554,
          -0.3707851181107183,
          -0.341298331176081,
          -0.31181154424144375,
          -0.2823247573068065,
          -0.25283797037216926,
          -0.223351183437532,
          -0.19386439650289472,
          -0.16437760956825748,
          -0.13489082263362023,
          -0.10540403569898299,
          -0.07591724876434575,
          -0.046430461829708475,
          -0.016943674895071204,
          0.01254311203956604,
          0.04202989897420331,
          0.07151668590884058,
          0.10100347284347783,
          0.13049025977811507,
          0.1599770467127523,
          0.18946383364738956,
          0.2189506205820268,
          0.24843740751666404,
          0.2779241944513013,
          0.30741098138593853,
          0.33689776832057583,
          0.36638455525521313,
          0.3958713421898504,
          0.4253581291244876,
          0.45484491605912486
         ],
         "xaxis": "x",
         "y": [
          2,
          2,
          7,
          4,
          7,
          7,
          10,
          3,
          32,
          0,
          8,
          2,
          22,
          9,
          33,
          50,
          16,
          19,
          21,
          59,
          22,
          12,
          4,
          7,
          2,
          0,
          2,
          0,
          1,
          0,
          1
         ],
         "yaxis": "y"
        }
       ],
       "layout": {
        "barmode": "relative",
        "legend": {
         "tracegroupgap": 0
        },
        "template": {
         "data": {
          "bar": [
           {
            "error_x": {
             "color": "#f2f5fa"
            },
            "error_y": {
             "color": "#f2f5fa"
            },
            "marker": {
             "line": {
              "color": "rgb(17,17,17)",
              "width": 0.5
             },
             "pattern": {
              "fillmode": "overlay",
              "size": 10,
              "solidity": 0.2
             }
            },
            "type": "bar"
           }
          ],
          "barpolar": [
           {
            "marker": {
             "line": {
              "color": "rgb(17,17,17)",
              "width": 0.5
             },
             "pattern": {
              "fillmode": "overlay",
              "size": 10,
              "solidity": 0.2
             }
            },
            "type": "barpolar"
           }
          ],
          "carpet": [
           {
            "aaxis": {
             "endlinecolor": "#A2B1C6",
             "gridcolor": "#506784",
             "linecolor": "#506784",
             "minorgridcolor": "#506784",
             "startlinecolor": "#A2B1C6"
            },
            "baxis": {
             "endlinecolor": "#A2B1C6",
             "gridcolor": "#506784",
             "linecolor": "#506784",
             "minorgridcolor": "#506784",
             "startlinecolor": "#A2B1C6"
            },
            "type": "carpet"
           }
          ],
          "choropleth": [
           {
            "colorbar": {
             "outlinewidth": 0,
             "ticks": ""
            },
            "type": "choropleth"
           }
          ],
          "contour": [
           {
            "colorbar": {
             "outlinewidth": 0,
             "ticks": ""
            },
            "colorscale": [
             [
              0,
              "#0d0887"
             ],
             [
              0.1111111111111111,
              "#46039f"
             ],
             [
              0.2222222222222222,
              "#7201a8"
             ],
             [
              0.3333333333333333,
              "#9c179e"
             ],
             [
              0.4444444444444444,
              "#bd3786"
             ],
             [
              0.5555555555555556,
              "#d8576b"
             ],
             [
              0.6666666666666666,
              "#ed7953"
             ],
             [
              0.7777777777777778,
              "#fb9f3a"
             ],
             [
              0.8888888888888888,
              "#fdca26"
             ],
             [
              1,
              "#f0f921"
             ]
            ],
            "type": "contour"
           }
          ],
          "contourcarpet": [
           {
            "colorbar": {
             "outlinewidth": 0,
             "ticks": ""
            },
            "type": "contourcarpet"
           }
          ],
          "heatmap": [
           {
            "colorbar": {
             "outlinewidth": 0,
             "ticks": ""
            },
            "colorscale": [
             [
              0,
              "#0d0887"
             ],
             [
              0.1111111111111111,
              "#46039f"
             ],
             [
              0.2222222222222222,
              "#7201a8"
             ],
             [
              0.3333333333333333,
              "#9c179e"
             ],
             [
              0.4444444444444444,
              "#bd3786"
             ],
             [
              0.5555555555555556,
              "#d8576b"
             ],
             [
              0.6666666666666666,
              "#ed7953"
             ],
             [
              0.7777777777777778,
              "#fb9f3a"
             ],
             [
              0.8888888888888888,
              "#fdca26"
             ],
             [
              1,
              "#f0f921"
             ]
            ],
            "type": "heatmap"
           }
          ],
          "heatmapgl": [
           {
            "colorbar": {
             "outlinewidth": 0,
             "ticks": ""
            },
            "colorscale": [
             [
              0,
              "#0d0887"
             ],
             [
              0.1111111111111111,
              "#46039f"
             ],
             [
              0.2222222222222222,
              "#7201a8"
             ],
             [
              0.3333333333333333,
              "#9c179e"
             ],
             [
              0.4444444444444444,
              "#bd3786"
             ],
             [
              0.5555555555555556,
              "#d8576b"
             ],
             [
              0.6666666666666666,
              "#ed7953"
             ],
             [
              0.7777777777777778,
              "#fb9f3a"
             ],
             [
              0.8888888888888888,
              "#fdca26"
             ],
             [
              1,
              "#f0f921"
             ]
            ],
            "type": "heatmapgl"
           }
          ],
          "histogram": [
           {
            "marker": {
             "pattern": {
              "fillmode": "overlay",
              "size": 10,
              "solidity": 0.2
             }
            },
            "type": "histogram"
           }
          ],
          "histogram2d": [
           {
            "colorbar": {
             "outlinewidth": 0,
             "ticks": ""
            },
            "colorscale": [
             [
              0,
              "#0d0887"
             ],
             [
              0.1111111111111111,
              "#46039f"
             ],
             [
              0.2222222222222222,
              "#7201a8"
             ],
             [
              0.3333333333333333,
              "#9c179e"
             ],
             [
              0.4444444444444444,
              "#bd3786"
             ],
             [
              0.5555555555555556,
              "#d8576b"
             ],
             [
              0.6666666666666666,
              "#ed7953"
             ],
             [
              0.7777777777777778,
              "#fb9f3a"
             ],
             [
              0.8888888888888888,
              "#fdca26"
             ],
             [
              1,
              "#f0f921"
             ]
            ],
            "type": "histogram2d"
           }
          ],
          "histogram2dcontour": [
           {
            "colorbar": {
             "outlinewidth": 0,
             "ticks": ""
            },
            "colorscale": [
             [
              0,
              "#0d0887"
             ],
             [
              0.1111111111111111,
              "#46039f"
             ],
             [
              0.2222222222222222,
              "#7201a8"
             ],
             [
              0.3333333333333333,
              "#9c179e"
             ],
             [
              0.4444444444444444,
              "#bd3786"
             ],
             [
              0.5555555555555556,
              "#d8576b"
             ],
             [
              0.6666666666666666,
              "#ed7953"
             ],
             [
              0.7777777777777778,
              "#fb9f3a"
             ],
             [
              0.8888888888888888,
              "#fdca26"
             ],
             [
              1,
              "#f0f921"
             ]
            ],
            "type": "histogram2dcontour"
           }
          ],
          "mesh3d": [
           {
            "colorbar": {
             "outlinewidth": 0,
             "ticks": ""
            },
            "type": "mesh3d"
           }
          ],
          "parcoords": [
           {
            "line": {
             "colorbar": {
              "outlinewidth": 0,
              "ticks": ""
             }
            },
            "type": "parcoords"
           }
          ],
          "pie": [
           {
            "automargin": true,
            "type": "pie"
           }
          ],
          "scatter": [
           {
            "marker": {
             "line": {
              "color": "#283442"
             }
            },
            "type": "scatter"
           }
          ],
          "scatter3d": [
           {
            "line": {
             "colorbar": {
              "outlinewidth": 0,
              "ticks": ""
             }
            },
            "marker": {
             "colorbar": {
              "outlinewidth": 0,
              "ticks": ""
             }
            },
            "type": "scatter3d"
           }
          ],
          "scattercarpet": [
           {
            "marker": {
             "colorbar": {
              "outlinewidth": 0,
              "ticks": ""
             }
            },
            "type": "scattercarpet"
           }
          ],
          "scattergeo": [
           {
            "marker": {
             "colorbar": {
              "outlinewidth": 0,
              "ticks": ""
             }
            },
            "type": "scattergeo"
           }
          ],
          "scattergl": [
           {
            "marker": {
             "line": {
              "color": "#283442"
             }
            },
            "type": "scattergl"
           }
          ],
          "scattermapbox": [
           {
            "marker": {
             "colorbar": {
              "outlinewidth": 0,
              "ticks": ""
             }
            },
            "type": "scattermapbox"
           }
          ],
          "scatterpolar": [
           {
            "marker": {
             "colorbar": {
              "outlinewidth": 0,
              "ticks": ""
             }
            },
            "type": "scatterpolar"
           }
          ],
          "scatterpolargl": [
           {
            "marker": {
             "colorbar": {
              "outlinewidth": 0,
              "ticks": ""
             }
            },
            "type": "scatterpolargl"
           }
          ],
          "scatterternary": [
           {
            "marker": {
             "colorbar": {
              "outlinewidth": 0,
              "ticks": ""
             }
            },
            "type": "scatterternary"
           }
          ],
          "surface": [
           {
            "colorbar": {
             "outlinewidth": 0,
             "ticks": ""
            },
            "colorscale": [
             [
              0,
              "#0d0887"
             ],
             [
              0.1111111111111111,
              "#46039f"
             ],
             [
              0.2222222222222222,
              "#7201a8"
             ],
             [
              0.3333333333333333,
              "#9c179e"
             ],
             [
              0.4444444444444444,
              "#bd3786"
             ],
             [
              0.5555555555555556,
              "#d8576b"
             ],
             [
              0.6666666666666666,
              "#ed7953"
             ],
             [
              0.7777777777777778,
              "#fb9f3a"
             ],
             [
              0.8888888888888888,
              "#fdca26"
             ],
             [
              1,
              "#f0f921"
             ]
            ],
            "type": "surface"
           }
          ],
          "table": [
           {
            "cells": {
             "fill": {
              "color": "#506784"
             },
             "line": {
              "color": "rgb(17,17,17)"
             }
            },
            "header": {
             "fill": {
              "color": "#2a3f5f"
             },
             "line": {
              "color": "rgb(17,17,17)"
             }
            },
            "type": "table"
           }
          ]
         },
         "layout": {
          "annotationdefaults": {
           "arrowcolor": "#f2f5fa",
           "arrowhead": 0,
           "arrowwidth": 1
          },
          "autotypenumbers": "strict",
          "coloraxis": {
           "colorbar": {
            "outlinewidth": 0,
            "ticks": ""
           }
          },
          "colorscale": {
           "diverging": [
            [
             0,
             "#8e0152"
            ],
            [
             0.1,
             "#c51b7d"
            ],
            [
             0.2,
             "#de77ae"
            ],
            [
             0.3,
             "#f1b6da"
            ],
            [
             0.4,
             "#fde0ef"
            ],
            [
             0.5,
             "#f7f7f7"
            ],
            [
             0.6,
             "#e6f5d0"
            ],
            [
             0.7,
             "#b8e186"
            ],
            [
             0.8,
             "#7fbc41"
            ],
            [
             0.9,
             "#4d9221"
            ],
            [
             1,
             "#276419"
            ]
           ],
           "sequential": [
            [
             0,
             "#0d0887"
            ],
            [
             0.1111111111111111,
             "#46039f"
            ],
            [
             0.2222222222222222,
             "#7201a8"
            ],
            [
             0.3333333333333333,
             "#9c179e"
            ],
            [
             0.4444444444444444,
             "#bd3786"
            ],
            [
             0.5555555555555556,
             "#d8576b"
            ],
            [
             0.6666666666666666,
             "#ed7953"
            ],
            [
             0.7777777777777778,
             "#fb9f3a"
            ],
            [
             0.8888888888888888,
             "#fdca26"
            ],
            [
             1,
             "#f0f921"
            ]
           ],
           "sequentialminus": [
            [
             0,
             "#0d0887"
            ],
            [
             0.1111111111111111,
             "#46039f"
            ],
            [
             0.2222222222222222,
             "#7201a8"
            ],
            [
             0.3333333333333333,
             "#9c179e"
            ],
            [
             0.4444444444444444,
             "#bd3786"
            ],
            [
             0.5555555555555556,
             "#d8576b"
            ],
            [
             0.6666666666666666,
             "#ed7953"
            ],
            [
             0.7777777777777778,
             "#fb9f3a"
            ],
            [
             0.8888888888888888,
             "#fdca26"
            ],
            [
             1,
             "#f0f921"
            ]
           ]
          },
          "colorway": [
           "#636efa",
           "#EF553B",
           "#00cc96",
           "#ab63fa",
           "#FFA15A",
           "#19d3f3",
           "#FF6692",
           "#B6E880",
           "#FF97FF",
           "#FECB52"
          ],
          "font": {
           "color": "#f2f5fa"
          },
          "geo": {
           "bgcolor": "rgb(17,17,17)",
           "lakecolor": "rgb(17,17,17)",
           "landcolor": "rgb(17,17,17)",
           "showlakes": true,
           "showland": true,
           "subunitcolor": "#506784"
          },
          "hoverlabel": {
           "align": "left"
          },
          "hovermode": "closest",
          "mapbox": {
           "style": "dark"
          },
          "paper_bgcolor": "rgb(17,17,17)",
          "plot_bgcolor": "rgb(17,17,17)",
          "polar": {
           "angularaxis": {
            "gridcolor": "#506784",
            "linecolor": "#506784",
            "ticks": ""
           },
           "bgcolor": "rgb(17,17,17)",
           "radialaxis": {
            "gridcolor": "#506784",
            "linecolor": "#506784",
            "ticks": ""
           }
          },
          "scene": {
           "xaxis": {
            "backgroundcolor": "rgb(17,17,17)",
            "gridcolor": "#506784",
            "gridwidth": 2,
            "linecolor": "#506784",
            "showbackground": true,
            "ticks": "",
            "zerolinecolor": "#C8D4E3"
           },
           "yaxis": {
            "backgroundcolor": "rgb(17,17,17)",
            "gridcolor": "#506784",
            "gridwidth": 2,
            "linecolor": "#506784",
            "showbackground": true,
            "ticks": "",
            "zerolinecolor": "#C8D4E3"
           },
           "zaxis": {
            "backgroundcolor": "rgb(17,17,17)",
            "gridcolor": "#506784",
            "gridwidth": 2,
            "linecolor": "#506784",
            "showbackground": true,
            "ticks": "",
            "zerolinecolor": "#C8D4E3"
           }
          },
          "shapedefaults": {
           "line": {
            "color": "#f2f5fa"
           }
          },
          "sliderdefaults": {
           "bgcolor": "#C8D4E3",
           "bordercolor": "rgb(17,17,17)",
           "borderwidth": 1,
           "tickwidth": 0
          },
          "ternary": {
           "aaxis": {
            "gridcolor": "#506784",
            "linecolor": "#506784",
            "ticks": ""
           },
           "baxis": {
            "gridcolor": "#506784",
            "linecolor": "#506784",
            "ticks": ""
           },
           "bgcolor": "rgb(17,17,17)",
           "caxis": {
            "gridcolor": "#506784",
            "linecolor": "#506784",
            "ticks": ""
           }
          },
          "title": {
           "x": 0.05
          },
          "updatemenudefaults": {
           "bgcolor": "#506784",
           "borderwidth": 0
          },
          "xaxis": {
           "automargin": true,
           "gridcolor": "#283442",
           "linecolor": "#506784",
           "ticks": "",
           "title": {
            "standoff": 15
           },
           "zerolinecolor": "#283442",
           "zerolinewidth": 2
          },
          "yaxis": {
           "automargin": true,
           "gridcolor": "#283442",
           "linecolor": "#506784",
           "ticks": "",
           "title": {
            "standoff": 15
           },
           "zerolinecolor": "#283442",
           "zerolinewidth": 2
          }
         }
        },
        "title": {
         "text": "Steering Angle Distribuiton: VALIDATION SET"
        },
        "xaxis": {
         "anchor": "y",
         "domain": [
          0,
          1
         ],
         "title": {
          "text": "Steering Angle"
         }
        },
        "yaxis": {
         "anchor": "x",
         "domain": [
          0,
          1
         ],
         "title": {
          "text": "Frequency  (Log Scale)"
         }
        }
       }
      }
     },
     "metadata": {},
     "output_type": "display_data"
    }
   ],
   "source": [
    "nbins_val              = 31        # Has to be an odd number so we have zero at the center\n",
    "freq_val, bins_val    = np.histogram(y_val, bins=nbins_val)\n",
    "\n",
    "\"\"\"\n",
    "Centered bins: \n",
    "    This creates a Bin with zero value for the center \n",
    "    (wich is what we expect from most of the driving input)\n",
    "\"\"\"\n",
    "cbins_val = (bins_val[:-1] + bins_val[1:])*0.5     \n",
    "\n",
    "fig = px.bar(x        = cbins_val, \n",
    "             y        = freq_val, \n",
    "             labels   = {'x' : 'Steering Angle', 'y' : 'Frequency  (Log Scale)'}, \n",
    "             title    = \"Steering Angle Distribuiton: VALIDATION SET\",\n",
    "             template =\"plotly_dark\",\n",
    "             log_y    = False) #True\n",
    "\n",
    "fig.show()"
   ]
  },
  {
   "cell_type": "markdown",
   "id": "ed87ff3a",
   "metadata": {},
   "source": [
    "### Balance Validation Set"
   ]
  },
  {
   "cell_type": "code",
   "execution_count": 13,
   "id": "234aa71f",
   "metadata": {},
   "outputs": [
    {
     "name": "stdout",
     "output_type": "stream",
     "text": [
      "Total val Images:  364\n"
     ]
    }
   ],
   "source": [
    "keep_nsamples_val = 500\n",
    "\n",
    "for i in range(nbins_val): \n",
    "    \n",
    "    idx_rm = shuffle([ idx for idx, steering_value in enumerate(y_val)\n",
    "                               if steering_value >= bins_val[i] and steering_value <= bins_val[i+1] ])\n",
    "    \n",
    "    y_val = np.delete(y_val, idx_rm[keep_nsamples_val:]) \n",
    "    x_val = np.delete(x_val, idx_rm[keep_nsamples_val:]) \n",
    "\n",
    "print('Total val Images: ', len(x_val))"
   ]
  },
  {
   "cell_type": "markdown",
   "id": "04621a91",
   "metadata": {},
   "source": [
    "### Balanced Histogram of the Validation Set"
   ]
  },
  {
   "cell_type": "code",
   "execution_count": 14,
   "id": "0816317e",
   "metadata": {},
   "outputs": [
    {
     "data": {
      "application/vnd.plotly.v1+json": {
       "config": {
        "plotlyServerURL": "https://plot.ly"
       },
       "data": [
        {
         "alignmentgroup": "True",
         "hovertemplate": "Steering Angle=%{x}<br>Frequency=%{y}<extra></extra>",
         "legendgroup": "",
         "marker": {
          "color": "#636efa",
          "pattern": {
           "shape": ""
          }
         },
         "name": "",
         "offsetgroup": "",
         "orientation": "v",
         "showlegend": false,
         "textposition": "auto",
         "type": "bar",
         "x": [
          -0.4297586919799928,
          -0.40027190504535554,
          -0.3707851181107183,
          -0.341298331176081,
          -0.31181154424144375,
          -0.2823247573068065,
          -0.25283797037216926,
          -0.223351183437532,
          -0.19386439650289472,
          -0.16437760956825748,
          -0.13489082263362023,
          -0.10540403569898299,
          -0.07591724876434575,
          -0.046430461829708475,
          -0.016943674895071204,
          0.01254311203956604,
          0.04202989897420331,
          0.07151668590884058,
          0.10100347284347783,
          0.13049025977811507,
          0.1599770467127523,
          0.18946383364738956,
          0.2189506205820268,
          0.24843740751666404,
          0.2779241944513013,
          0.30741098138593853,
          0.33689776832057583,
          0.36638455525521313,
          0.3958713421898504,
          0.4253581291244876,
          0.45484491605912486
         ],
         "xaxis": "x",
         "y": [
          2,
          2,
          7,
          4,
          7,
          7,
          10,
          3,
          32,
          0,
          8,
          2,
          22,
          9,
          33,
          50,
          16,
          19,
          21,
          59,
          22,
          12,
          4,
          7,
          2,
          0,
          2,
          0,
          1,
          0,
          1
         ],
         "yaxis": "y"
        }
       ],
       "layout": {
        "barmode": "relative",
        "legend": {
         "tracegroupgap": 0
        },
        "template": {
         "data": {
          "bar": [
           {
            "error_x": {
             "color": "#f2f5fa"
            },
            "error_y": {
             "color": "#f2f5fa"
            },
            "marker": {
             "line": {
              "color": "rgb(17,17,17)",
              "width": 0.5
             },
             "pattern": {
              "fillmode": "overlay",
              "size": 10,
              "solidity": 0.2
             }
            },
            "type": "bar"
           }
          ],
          "barpolar": [
           {
            "marker": {
             "line": {
              "color": "rgb(17,17,17)",
              "width": 0.5
             },
             "pattern": {
              "fillmode": "overlay",
              "size": 10,
              "solidity": 0.2
             }
            },
            "type": "barpolar"
           }
          ],
          "carpet": [
           {
            "aaxis": {
             "endlinecolor": "#A2B1C6",
             "gridcolor": "#506784",
             "linecolor": "#506784",
             "minorgridcolor": "#506784",
             "startlinecolor": "#A2B1C6"
            },
            "baxis": {
             "endlinecolor": "#A2B1C6",
             "gridcolor": "#506784",
             "linecolor": "#506784",
             "minorgridcolor": "#506784",
             "startlinecolor": "#A2B1C6"
            },
            "type": "carpet"
           }
          ],
          "choropleth": [
           {
            "colorbar": {
             "outlinewidth": 0,
             "ticks": ""
            },
            "type": "choropleth"
           }
          ],
          "contour": [
           {
            "colorbar": {
             "outlinewidth": 0,
             "ticks": ""
            },
            "colorscale": [
             [
              0,
              "#0d0887"
             ],
             [
              0.1111111111111111,
              "#46039f"
             ],
             [
              0.2222222222222222,
              "#7201a8"
             ],
             [
              0.3333333333333333,
              "#9c179e"
             ],
             [
              0.4444444444444444,
              "#bd3786"
             ],
             [
              0.5555555555555556,
              "#d8576b"
             ],
             [
              0.6666666666666666,
              "#ed7953"
             ],
             [
              0.7777777777777778,
              "#fb9f3a"
             ],
             [
              0.8888888888888888,
              "#fdca26"
             ],
             [
              1,
              "#f0f921"
             ]
            ],
            "type": "contour"
           }
          ],
          "contourcarpet": [
           {
            "colorbar": {
             "outlinewidth": 0,
             "ticks": ""
            },
            "type": "contourcarpet"
           }
          ],
          "heatmap": [
           {
            "colorbar": {
             "outlinewidth": 0,
             "ticks": ""
            },
            "colorscale": [
             [
              0,
              "#0d0887"
             ],
             [
              0.1111111111111111,
              "#46039f"
             ],
             [
              0.2222222222222222,
              "#7201a8"
             ],
             [
              0.3333333333333333,
              "#9c179e"
             ],
             [
              0.4444444444444444,
              "#bd3786"
             ],
             [
              0.5555555555555556,
              "#d8576b"
             ],
             [
              0.6666666666666666,
              "#ed7953"
             ],
             [
              0.7777777777777778,
              "#fb9f3a"
             ],
             [
              0.8888888888888888,
              "#fdca26"
             ],
             [
              1,
              "#f0f921"
             ]
            ],
            "type": "heatmap"
           }
          ],
          "heatmapgl": [
           {
            "colorbar": {
             "outlinewidth": 0,
             "ticks": ""
            },
            "colorscale": [
             [
              0,
              "#0d0887"
             ],
             [
              0.1111111111111111,
              "#46039f"
             ],
             [
              0.2222222222222222,
              "#7201a8"
             ],
             [
              0.3333333333333333,
              "#9c179e"
             ],
             [
              0.4444444444444444,
              "#bd3786"
             ],
             [
              0.5555555555555556,
              "#d8576b"
             ],
             [
              0.6666666666666666,
              "#ed7953"
             ],
             [
              0.7777777777777778,
              "#fb9f3a"
             ],
             [
              0.8888888888888888,
              "#fdca26"
             ],
             [
              1,
              "#f0f921"
             ]
            ],
            "type": "heatmapgl"
           }
          ],
          "histogram": [
           {
            "marker": {
             "pattern": {
              "fillmode": "overlay",
              "size": 10,
              "solidity": 0.2
             }
            },
            "type": "histogram"
           }
          ],
          "histogram2d": [
           {
            "colorbar": {
             "outlinewidth": 0,
             "ticks": ""
            },
            "colorscale": [
             [
              0,
              "#0d0887"
             ],
             [
              0.1111111111111111,
              "#46039f"
             ],
             [
              0.2222222222222222,
              "#7201a8"
             ],
             [
              0.3333333333333333,
              "#9c179e"
             ],
             [
              0.4444444444444444,
              "#bd3786"
             ],
             [
              0.5555555555555556,
              "#d8576b"
             ],
             [
              0.6666666666666666,
              "#ed7953"
             ],
             [
              0.7777777777777778,
              "#fb9f3a"
             ],
             [
              0.8888888888888888,
              "#fdca26"
             ],
             [
              1,
              "#f0f921"
             ]
            ],
            "type": "histogram2d"
           }
          ],
          "histogram2dcontour": [
           {
            "colorbar": {
             "outlinewidth": 0,
             "ticks": ""
            },
            "colorscale": [
             [
              0,
              "#0d0887"
             ],
             [
              0.1111111111111111,
              "#46039f"
             ],
             [
              0.2222222222222222,
              "#7201a8"
             ],
             [
              0.3333333333333333,
              "#9c179e"
             ],
             [
              0.4444444444444444,
              "#bd3786"
             ],
             [
              0.5555555555555556,
              "#d8576b"
             ],
             [
              0.6666666666666666,
              "#ed7953"
             ],
             [
              0.7777777777777778,
              "#fb9f3a"
             ],
             [
              0.8888888888888888,
              "#fdca26"
             ],
             [
              1,
              "#f0f921"
             ]
            ],
            "type": "histogram2dcontour"
           }
          ],
          "mesh3d": [
           {
            "colorbar": {
             "outlinewidth": 0,
             "ticks": ""
            },
            "type": "mesh3d"
           }
          ],
          "parcoords": [
           {
            "line": {
             "colorbar": {
              "outlinewidth": 0,
              "ticks": ""
             }
            },
            "type": "parcoords"
           }
          ],
          "pie": [
           {
            "automargin": true,
            "type": "pie"
           }
          ],
          "scatter": [
           {
            "marker": {
             "line": {
              "color": "#283442"
             }
            },
            "type": "scatter"
           }
          ],
          "scatter3d": [
           {
            "line": {
             "colorbar": {
              "outlinewidth": 0,
              "ticks": ""
             }
            },
            "marker": {
             "colorbar": {
              "outlinewidth": 0,
              "ticks": ""
             }
            },
            "type": "scatter3d"
           }
          ],
          "scattercarpet": [
           {
            "marker": {
             "colorbar": {
              "outlinewidth": 0,
              "ticks": ""
             }
            },
            "type": "scattercarpet"
           }
          ],
          "scattergeo": [
           {
            "marker": {
             "colorbar": {
              "outlinewidth": 0,
              "ticks": ""
             }
            },
            "type": "scattergeo"
           }
          ],
          "scattergl": [
           {
            "marker": {
             "line": {
              "color": "#283442"
             }
            },
            "type": "scattergl"
           }
          ],
          "scattermapbox": [
           {
            "marker": {
             "colorbar": {
              "outlinewidth": 0,
              "ticks": ""
             }
            },
            "type": "scattermapbox"
           }
          ],
          "scatterpolar": [
           {
            "marker": {
             "colorbar": {
              "outlinewidth": 0,
              "ticks": ""
             }
            },
            "type": "scatterpolar"
           }
          ],
          "scatterpolargl": [
           {
            "marker": {
             "colorbar": {
              "outlinewidth": 0,
              "ticks": ""
             }
            },
            "type": "scatterpolargl"
           }
          ],
          "scatterternary": [
           {
            "marker": {
             "colorbar": {
              "outlinewidth": 0,
              "ticks": ""
             }
            },
            "type": "scatterternary"
           }
          ],
          "surface": [
           {
            "colorbar": {
             "outlinewidth": 0,
             "ticks": ""
            },
            "colorscale": [
             [
              0,
              "#0d0887"
             ],
             [
              0.1111111111111111,
              "#46039f"
             ],
             [
              0.2222222222222222,
              "#7201a8"
             ],
             [
              0.3333333333333333,
              "#9c179e"
             ],
             [
              0.4444444444444444,
              "#bd3786"
             ],
             [
              0.5555555555555556,
              "#d8576b"
             ],
             [
              0.6666666666666666,
              "#ed7953"
             ],
             [
              0.7777777777777778,
              "#fb9f3a"
             ],
             [
              0.8888888888888888,
              "#fdca26"
             ],
             [
              1,
              "#f0f921"
             ]
            ],
            "type": "surface"
           }
          ],
          "table": [
           {
            "cells": {
             "fill": {
              "color": "#506784"
             },
             "line": {
              "color": "rgb(17,17,17)"
             }
            },
            "header": {
             "fill": {
              "color": "#2a3f5f"
             },
             "line": {
              "color": "rgb(17,17,17)"
             }
            },
            "type": "table"
           }
          ]
         },
         "layout": {
          "annotationdefaults": {
           "arrowcolor": "#f2f5fa",
           "arrowhead": 0,
           "arrowwidth": 1
          },
          "autotypenumbers": "strict",
          "coloraxis": {
           "colorbar": {
            "outlinewidth": 0,
            "ticks": ""
           }
          },
          "colorscale": {
           "diverging": [
            [
             0,
             "#8e0152"
            ],
            [
             0.1,
             "#c51b7d"
            ],
            [
             0.2,
             "#de77ae"
            ],
            [
             0.3,
             "#f1b6da"
            ],
            [
             0.4,
             "#fde0ef"
            ],
            [
             0.5,
             "#f7f7f7"
            ],
            [
             0.6,
             "#e6f5d0"
            ],
            [
             0.7,
             "#b8e186"
            ],
            [
             0.8,
             "#7fbc41"
            ],
            [
             0.9,
             "#4d9221"
            ],
            [
             1,
             "#276419"
            ]
           ],
           "sequential": [
            [
             0,
             "#0d0887"
            ],
            [
             0.1111111111111111,
             "#46039f"
            ],
            [
             0.2222222222222222,
             "#7201a8"
            ],
            [
             0.3333333333333333,
             "#9c179e"
            ],
            [
             0.4444444444444444,
             "#bd3786"
            ],
            [
             0.5555555555555556,
             "#d8576b"
            ],
            [
             0.6666666666666666,
             "#ed7953"
            ],
            [
             0.7777777777777778,
             "#fb9f3a"
            ],
            [
             0.8888888888888888,
             "#fdca26"
            ],
            [
             1,
             "#f0f921"
            ]
           ],
           "sequentialminus": [
            [
             0,
             "#0d0887"
            ],
            [
             0.1111111111111111,
             "#46039f"
            ],
            [
             0.2222222222222222,
             "#7201a8"
            ],
            [
             0.3333333333333333,
             "#9c179e"
            ],
            [
             0.4444444444444444,
             "#bd3786"
            ],
            [
             0.5555555555555556,
             "#d8576b"
            ],
            [
             0.6666666666666666,
             "#ed7953"
            ],
            [
             0.7777777777777778,
             "#fb9f3a"
            ],
            [
             0.8888888888888888,
             "#fdca26"
            ],
            [
             1,
             "#f0f921"
            ]
           ]
          },
          "colorway": [
           "#636efa",
           "#EF553B",
           "#00cc96",
           "#ab63fa",
           "#FFA15A",
           "#19d3f3",
           "#FF6692",
           "#B6E880",
           "#FF97FF",
           "#FECB52"
          ],
          "font": {
           "color": "#f2f5fa"
          },
          "geo": {
           "bgcolor": "rgb(17,17,17)",
           "lakecolor": "rgb(17,17,17)",
           "landcolor": "rgb(17,17,17)",
           "showlakes": true,
           "showland": true,
           "subunitcolor": "#506784"
          },
          "hoverlabel": {
           "align": "left"
          },
          "hovermode": "closest",
          "mapbox": {
           "style": "dark"
          },
          "paper_bgcolor": "rgb(17,17,17)",
          "plot_bgcolor": "rgb(17,17,17)",
          "polar": {
           "angularaxis": {
            "gridcolor": "#506784",
            "linecolor": "#506784",
            "ticks": ""
           },
           "bgcolor": "rgb(17,17,17)",
           "radialaxis": {
            "gridcolor": "#506784",
            "linecolor": "#506784",
            "ticks": ""
           }
          },
          "scene": {
           "xaxis": {
            "backgroundcolor": "rgb(17,17,17)",
            "gridcolor": "#506784",
            "gridwidth": 2,
            "linecolor": "#506784",
            "showbackground": true,
            "ticks": "",
            "zerolinecolor": "#C8D4E3"
           },
           "yaxis": {
            "backgroundcolor": "rgb(17,17,17)",
            "gridcolor": "#506784",
            "gridwidth": 2,
            "linecolor": "#506784",
            "showbackground": true,
            "ticks": "",
            "zerolinecolor": "#C8D4E3"
           },
           "zaxis": {
            "backgroundcolor": "rgb(17,17,17)",
            "gridcolor": "#506784",
            "gridwidth": 2,
            "linecolor": "#506784",
            "showbackground": true,
            "ticks": "",
            "zerolinecolor": "#C8D4E3"
           }
          },
          "shapedefaults": {
           "line": {
            "color": "#f2f5fa"
           }
          },
          "sliderdefaults": {
           "bgcolor": "#C8D4E3",
           "bordercolor": "rgb(17,17,17)",
           "borderwidth": 1,
           "tickwidth": 0
          },
          "ternary": {
           "aaxis": {
            "gridcolor": "#506784",
            "linecolor": "#506784",
            "ticks": ""
           },
           "baxis": {
            "gridcolor": "#506784",
            "linecolor": "#506784",
            "ticks": ""
           },
           "bgcolor": "rgb(17,17,17)",
           "caxis": {
            "gridcolor": "#506784",
            "linecolor": "#506784",
            "ticks": ""
           }
          },
          "title": {
           "x": 0.05
          },
          "updatemenudefaults": {
           "bgcolor": "#506784",
           "borderwidth": 0
          },
          "xaxis": {
           "automargin": true,
           "gridcolor": "#283442",
           "linecolor": "#506784",
           "ticks": "",
           "title": {
            "standoff": 15
           },
           "zerolinecolor": "#283442",
           "zerolinewidth": 2
          },
          "yaxis": {
           "automargin": true,
           "gridcolor": "#283442",
           "linecolor": "#506784",
           "ticks": "",
           "title": {
            "standoff": 15
           },
           "zerolinecolor": "#283442",
           "zerolinewidth": 2
          }
         }
        },
        "title": {
         "text": "Steering Angle Distribuiton: VALIDATION SET (Trimmed)"
        },
        "xaxis": {
         "anchor": "y",
         "domain": [
          0,
          1
         ],
         "title": {
          "text": "Steering Angle"
         }
        },
        "yaxis": {
         "anchor": "x",
         "domain": [
          0,
          1
         ],
         "title": {
          "text": "Frequency"
         }
        }
       }
      }
     },
     "metadata": {},
     "output_type": "display_data"
    }
   ],
   "source": [
    "freq_val, _ = np.histogram(y_val, nbins_val) # we already have our bins created...  steerings steerings\n",
    "\n",
    "fig = px.bar(x        = cbins_val, \n",
    "             y        = freq_val, \n",
    "             labels   = {'x' : 'Steering Angle', 'y' : 'Frequency'}, \n",
    "             title    = \"Steering Angle Distribuiton: VALIDATION SET (Trimmed)\",\n",
    "             template =\"plotly_dark\")\n",
    "\n",
    "fig.show()  "
   ]
  },
  {
   "cell_type": "markdown",
   "id": "85cf8f8b",
   "metadata": {},
   "source": [
    "## Balancing the Training Dataset  "
   ]
  },
  {
   "cell_type": "markdown",
   "id": "ee60cd2e",
   "metadata": {},
   "source": [
    "###  Histogram"
   ]
  },
  {
   "cell_type": "code",
   "execution_count": 15,
   "id": "e0271e21",
   "metadata": {
    "scrolled": false
   },
   "outputs": [
    {
     "data": {
      "application/vnd.plotly.v1+json": {
       "config": {
        "plotlyServerURL": "https://plot.ly"
       },
       "data": [
        {
         "alignmentgroup": "True",
         "hovertemplate": "Steering Angle=%{x}<br>Frequency =%{y}<extra></extra>",
         "legendgroup": "",
         "marker": {
          "color": "#636efa",
          "pattern": {
           "shape": ""
          }
         },
         "name": "",
         "offsetgroup": "",
         "orientation": "v",
         "showlegend": false,
         "textposition": "auto",
         "type": "bar",
         "x": [
          -0.5704421285660036,
          -0.5351430427643561,
          -0.49984395696270856,
          -0.4645448711610609,
          -0.4292457853594134,
          -0.39394669955776584,
          -0.3586476137561183,
          -0.3233485279544708,
          -0.2880494421528232,
          -0.2527503563511756,
          -0.21745127054952806,
          -0.18215218474788053,
          -0.14685309894623297,
          -0.1115540131445854,
          -0.07625492734293784,
          -0.04095584154129028,
          -0.005656755739642749,
          0.029642330062004785,
          0.06494141586365237,
          0.10024050166529996,
          0.1355395874669475,
          0.17083867326859503,
          0.20613775907024257,
          0.2414368448718901,
          0.2767359306735377,
          0.3120350164751853,
          0.3473341022768328,
          0.38263318807848035,
          0.41793227388012794,
          0.4532313596817755,
          0.48853044548342306
         ],
         "xaxis": "x",
         "y": [
          2,
          6,
          4,
          8,
          9,
          17,
          29,
          55,
          71,
          87,
          147,
          138,
          82,
          55,
          237,
          142,
          416,
          240,
          191,
          235,
          449,
          144,
          33,
          60,
          39,
          11,
          18,
          2,
          6,
          2,
          6
         ],
         "yaxis": "y"
        }
       ],
       "layout": {
        "barmode": "relative",
        "legend": {
         "tracegroupgap": 0
        },
        "template": {
         "data": {
          "bar": [
           {
            "error_x": {
             "color": "#f2f5fa"
            },
            "error_y": {
             "color": "#f2f5fa"
            },
            "marker": {
             "line": {
              "color": "rgb(17,17,17)",
              "width": 0.5
             },
             "pattern": {
              "fillmode": "overlay",
              "size": 10,
              "solidity": 0.2
             }
            },
            "type": "bar"
           }
          ],
          "barpolar": [
           {
            "marker": {
             "line": {
              "color": "rgb(17,17,17)",
              "width": 0.5
             },
             "pattern": {
              "fillmode": "overlay",
              "size": 10,
              "solidity": 0.2
             }
            },
            "type": "barpolar"
           }
          ],
          "carpet": [
           {
            "aaxis": {
             "endlinecolor": "#A2B1C6",
             "gridcolor": "#506784",
             "linecolor": "#506784",
             "minorgridcolor": "#506784",
             "startlinecolor": "#A2B1C6"
            },
            "baxis": {
             "endlinecolor": "#A2B1C6",
             "gridcolor": "#506784",
             "linecolor": "#506784",
             "minorgridcolor": "#506784",
             "startlinecolor": "#A2B1C6"
            },
            "type": "carpet"
           }
          ],
          "choropleth": [
           {
            "colorbar": {
             "outlinewidth": 0,
             "ticks": ""
            },
            "type": "choropleth"
           }
          ],
          "contour": [
           {
            "colorbar": {
             "outlinewidth": 0,
             "ticks": ""
            },
            "colorscale": [
             [
              0,
              "#0d0887"
             ],
             [
              0.1111111111111111,
              "#46039f"
             ],
             [
              0.2222222222222222,
              "#7201a8"
             ],
             [
              0.3333333333333333,
              "#9c179e"
             ],
             [
              0.4444444444444444,
              "#bd3786"
             ],
             [
              0.5555555555555556,
              "#d8576b"
             ],
             [
              0.6666666666666666,
              "#ed7953"
             ],
             [
              0.7777777777777778,
              "#fb9f3a"
             ],
             [
              0.8888888888888888,
              "#fdca26"
             ],
             [
              1,
              "#f0f921"
             ]
            ],
            "type": "contour"
           }
          ],
          "contourcarpet": [
           {
            "colorbar": {
             "outlinewidth": 0,
             "ticks": ""
            },
            "type": "contourcarpet"
           }
          ],
          "heatmap": [
           {
            "colorbar": {
             "outlinewidth": 0,
             "ticks": ""
            },
            "colorscale": [
             [
              0,
              "#0d0887"
             ],
             [
              0.1111111111111111,
              "#46039f"
             ],
             [
              0.2222222222222222,
              "#7201a8"
             ],
             [
              0.3333333333333333,
              "#9c179e"
             ],
             [
              0.4444444444444444,
              "#bd3786"
             ],
             [
              0.5555555555555556,
              "#d8576b"
             ],
             [
              0.6666666666666666,
              "#ed7953"
             ],
             [
              0.7777777777777778,
              "#fb9f3a"
             ],
             [
              0.8888888888888888,
              "#fdca26"
             ],
             [
              1,
              "#f0f921"
             ]
            ],
            "type": "heatmap"
           }
          ],
          "heatmapgl": [
           {
            "colorbar": {
             "outlinewidth": 0,
             "ticks": ""
            },
            "colorscale": [
             [
              0,
              "#0d0887"
             ],
             [
              0.1111111111111111,
              "#46039f"
             ],
             [
              0.2222222222222222,
              "#7201a8"
             ],
             [
              0.3333333333333333,
              "#9c179e"
             ],
             [
              0.4444444444444444,
              "#bd3786"
             ],
             [
              0.5555555555555556,
              "#d8576b"
             ],
             [
              0.6666666666666666,
              "#ed7953"
             ],
             [
              0.7777777777777778,
              "#fb9f3a"
             ],
             [
              0.8888888888888888,
              "#fdca26"
             ],
             [
              1,
              "#f0f921"
             ]
            ],
            "type": "heatmapgl"
           }
          ],
          "histogram": [
           {
            "marker": {
             "pattern": {
              "fillmode": "overlay",
              "size": 10,
              "solidity": 0.2
             }
            },
            "type": "histogram"
           }
          ],
          "histogram2d": [
           {
            "colorbar": {
             "outlinewidth": 0,
             "ticks": ""
            },
            "colorscale": [
             [
              0,
              "#0d0887"
             ],
             [
              0.1111111111111111,
              "#46039f"
             ],
             [
              0.2222222222222222,
              "#7201a8"
             ],
             [
              0.3333333333333333,
              "#9c179e"
             ],
             [
              0.4444444444444444,
              "#bd3786"
             ],
             [
              0.5555555555555556,
              "#d8576b"
             ],
             [
              0.6666666666666666,
              "#ed7953"
             ],
             [
              0.7777777777777778,
              "#fb9f3a"
             ],
             [
              0.8888888888888888,
              "#fdca26"
             ],
             [
              1,
              "#f0f921"
             ]
            ],
            "type": "histogram2d"
           }
          ],
          "histogram2dcontour": [
           {
            "colorbar": {
             "outlinewidth": 0,
             "ticks": ""
            },
            "colorscale": [
             [
              0,
              "#0d0887"
             ],
             [
              0.1111111111111111,
              "#46039f"
             ],
             [
              0.2222222222222222,
              "#7201a8"
             ],
             [
              0.3333333333333333,
              "#9c179e"
             ],
             [
              0.4444444444444444,
              "#bd3786"
             ],
             [
              0.5555555555555556,
              "#d8576b"
             ],
             [
              0.6666666666666666,
              "#ed7953"
             ],
             [
              0.7777777777777778,
              "#fb9f3a"
             ],
             [
              0.8888888888888888,
              "#fdca26"
             ],
             [
              1,
              "#f0f921"
             ]
            ],
            "type": "histogram2dcontour"
           }
          ],
          "mesh3d": [
           {
            "colorbar": {
             "outlinewidth": 0,
             "ticks": ""
            },
            "type": "mesh3d"
           }
          ],
          "parcoords": [
           {
            "line": {
             "colorbar": {
              "outlinewidth": 0,
              "ticks": ""
             }
            },
            "type": "parcoords"
           }
          ],
          "pie": [
           {
            "automargin": true,
            "type": "pie"
           }
          ],
          "scatter": [
           {
            "marker": {
             "line": {
              "color": "#283442"
             }
            },
            "type": "scatter"
           }
          ],
          "scatter3d": [
           {
            "line": {
             "colorbar": {
              "outlinewidth": 0,
              "ticks": ""
             }
            },
            "marker": {
             "colorbar": {
              "outlinewidth": 0,
              "ticks": ""
             }
            },
            "type": "scatter3d"
           }
          ],
          "scattercarpet": [
           {
            "marker": {
             "colorbar": {
              "outlinewidth": 0,
              "ticks": ""
             }
            },
            "type": "scattercarpet"
           }
          ],
          "scattergeo": [
           {
            "marker": {
             "colorbar": {
              "outlinewidth": 0,
              "ticks": ""
             }
            },
            "type": "scattergeo"
           }
          ],
          "scattergl": [
           {
            "marker": {
             "line": {
              "color": "#283442"
             }
            },
            "type": "scattergl"
           }
          ],
          "scattermapbox": [
           {
            "marker": {
             "colorbar": {
              "outlinewidth": 0,
              "ticks": ""
             }
            },
            "type": "scattermapbox"
           }
          ],
          "scatterpolar": [
           {
            "marker": {
             "colorbar": {
              "outlinewidth": 0,
              "ticks": ""
             }
            },
            "type": "scatterpolar"
           }
          ],
          "scatterpolargl": [
           {
            "marker": {
             "colorbar": {
              "outlinewidth": 0,
              "ticks": ""
             }
            },
            "type": "scatterpolargl"
           }
          ],
          "scatterternary": [
           {
            "marker": {
             "colorbar": {
              "outlinewidth": 0,
              "ticks": ""
             }
            },
            "type": "scatterternary"
           }
          ],
          "surface": [
           {
            "colorbar": {
             "outlinewidth": 0,
             "ticks": ""
            },
            "colorscale": [
             [
              0,
              "#0d0887"
             ],
             [
              0.1111111111111111,
              "#46039f"
             ],
             [
              0.2222222222222222,
              "#7201a8"
             ],
             [
              0.3333333333333333,
              "#9c179e"
             ],
             [
              0.4444444444444444,
              "#bd3786"
             ],
             [
              0.5555555555555556,
              "#d8576b"
             ],
             [
              0.6666666666666666,
              "#ed7953"
             ],
             [
              0.7777777777777778,
              "#fb9f3a"
             ],
             [
              0.8888888888888888,
              "#fdca26"
             ],
             [
              1,
              "#f0f921"
             ]
            ],
            "type": "surface"
           }
          ],
          "table": [
           {
            "cells": {
             "fill": {
              "color": "#506784"
             },
             "line": {
              "color": "rgb(17,17,17)"
             }
            },
            "header": {
             "fill": {
              "color": "#2a3f5f"
             },
             "line": {
              "color": "rgb(17,17,17)"
             }
            },
            "type": "table"
           }
          ]
         },
         "layout": {
          "annotationdefaults": {
           "arrowcolor": "#f2f5fa",
           "arrowhead": 0,
           "arrowwidth": 1
          },
          "autotypenumbers": "strict",
          "coloraxis": {
           "colorbar": {
            "outlinewidth": 0,
            "ticks": ""
           }
          },
          "colorscale": {
           "diverging": [
            [
             0,
             "#8e0152"
            ],
            [
             0.1,
             "#c51b7d"
            ],
            [
             0.2,
             "#de77ae"
            ],
            [
             0.3,
             "#f1b6da"
            ],
            [
             0.4,
             "#fde0ef"
            ],
            [
             0.5,
             "#f7f7f7"
            ],
            [
             0.6,
             "#e6f5d0"
            ],
            [
             0.7,
             "#b8e186"
            ],
            [
             0.8,
             "#7fbc41"
            ],
            [
             0.9,
             "#4d9221"
            ],
            [
             1,
             "#276419"
            ]
           ],
           "sequential": [
            [
             0,
             "#0d0887"
            ],
            [
             0.1111111111111111,
             "#46039f"
            ],
            [
             0.2222222222222222,
             "#7201a8"
            ],
            [
             0.3333333333333333,
             "#9c179e"
            ],
            [
             0.4444444444444444,
             "#bd3786"
            ],
            [
             0.5555555555555556,
             "#d8576b"
            ],
            [
             0.6666666666666666,
             "#ed7953"
            ],
            [
             0.7777777777777778,
             "#fb9f3a"
            ],
            [
             0.8888888888888888,
             "#fdca26"
            ],
            [
             1,
             "#f0f921"
            ]
           ],
           "sequentialminus": [
            [
             0,
             "#0d0887"
            ],
            [
             0.1111111111111111,
             "#46039f"
            ],
            [
             0.2222222222222222,
             "#7201a8"
            ],
            [
             0.3333333333333333,
             "#9c179e"
            ],
            [
             0.4444444444444444,
             "#bd3786"
            ],
            [
             0.5555555555555556,
             "#d8576b"
            ],
            [
             0.6666666666666666,
             "#ed7953"
            ],
            [
             0.7777777777777778,
             "#fb9f3a"
            ],
            [
             0.8888888888888888,
             "#fdca26"
            ],
            [
             1,
             "#f0f921"
            ]
           ]
          },
          "colorway": [
           "#636efa",
           "#EF553B",
           "#00cc96",
           "#ab63fa",
           "#FFA15A",
           "#19d3f3",
           "#FF6692",
           "#B6E880",
           "#FF97FF",
           "#FECB52"
          ],
          "font": {
           "color": "#f2f5fa"
          },
          "geo": {
           "bgcolor": "rgb(17,17,17)",
           "lakecolor": "rgb(17,17,17)",
           "landcolor": "rgb(17,17,17)",
           "showlakes": true,
           "showland": true,
           "subunitcolor": "#506784"
          },
          "hoverlabel": {
           "align": "left"
          },
          "hovermode": "closest",
          "mapbox": {
           "style": "dark"
          },
          "paper_bgcolor": "rgb(17,17,17)",
          "plot_bgcolor": "rgb(17,17,17)",
          "polar": {
           "angularaxis": {
            "gridcolor": "#506784",
            "linecolor": "#506784",
            "ticks": ""
           },
           "bgcolor": "rgb(17,17,17)",
           "radialaxis": {
            "gridcolor": "#506784",
            "linecolor": "#506784",
            "ticks": ""
           }
          },
          "scene": {
           "xaxis": {
            "backgroundcolor": "rgb(17,17,17)",
            "gridcolor": "#506784",
            "gridwidth": 2,
            "linecolor": "#506784",
            "showbackground": true,
            "ticks": "",
            "zerolinecolor": "#C8D4E3"
           },
           "yaxis": {
            "backgroundcolor": "rgb(17,17,17)",
            "gridcolor": "#506784",
            "gridwidth": 2,
            "linecolor": "#506784",
            "showbackground": true,
            "ticks": "",
            "zerolinecolor": "#C8D4E3"
           },
           "zaxis": {
            "backgroundcolor": "rgb(17,17,17)",
            "gridcolor": "#506784",
            "gridwidth": 2,
            "linecolor": "#506784",
            "showbackground": true,
            "ticks": "",
            "zerolinecolor": "#C8D4E3"
           }
          },
          "shapedefaults": {
           "line": {
            "color": "#f2f5fa"
           }
          },
          "sliderdefaults": {
           "bgcolor": "#C8D4E3",
           "bordercolor": "rgb(17,17,17)",
           "borderwidth": 1,
           "tickwidth": 0
          },
          "ternary": {
           "aaxis": {
            "gridcolor": "#506784",
            "linecolor": "#506784",
            "ticks": ""
           },
           "baxis": {
            "gridcolor": "#506784",
            "linecolor": "#506784",
            "ticks": ""
           },
           "bgcolor": "rgb(17,17,17)",
           "caxis": {
            "gridcolor": "#506784",
            "linecolor": "#506784",
            "ticks": ""
           }
          },
          "title": {
           "x": 0.05
          },
          "updatemenudefaults": {
           "bgcolor": "#506784",
           "borderwidth": 0
          },
          "xaxis": {
           "automargin": true,
           "gridcolor": "#283442",
           "linecolor": "#506784",
           "ticks": "",
           "title": {
            "standoff": 15
           },
           "zerolinecolor": "#283442",
           "zerolinewidth": 2
          },
          "yaxis": {
           "automargin": true,
           "gridcolor": "#283442",
           "linecolor": "#506784",
           "ticks": "",
           "title": {
            "standoff": 15
           },
           "zerolinecolor": "#283442",
           "zerolinewidth": 2
          }
         }
        },
        "title": {
         "text": "Steering Angle Distribuiton (in Log Scale)"
        },
        "xaxis": {
         "anchor": "y",
         "domain": [
          0,
          1
         ],
         "title": {
          "text": "Steering Angle"
         }
        },
        "yaxis": {
         "anchor": "x",
         "domain": [
          0,
          1
         ],
         "title": {
          "text": "Frequency "
         }
        }
       }
      }
     },
     "metadata": {},
     "output_type": "display_data"
    }
   ],
   "source": [
    "nbins         = 31        # Has to be an odd number so we have zero at the center\n",
    "freq, bins    = np.histogram(y_train, bins=nbins)\n",
    "\n",
    "\"\"\"\n",
    "Centered bins: \n",
    "    This creates a Bin with zero value for the center \n",
    "    (wich is what we expect from most of the driving input)\n",
    "\"\"\"\n",
    "cbins = (bins[:-1] + bins[1:])*0.5     \n",
    "\n",
    "fig = px.bar(x        = cbins, \n",
    "             y        = freq, \n",
    "             labels   = {'x' : 'Steering Angle', 'y' : 'Frequency '}, \n",
    "             title    = \"Steering Angle Distribuiton (in Log Scale)\",\n",
    "             template =\"plotly_dark\",\n",
    "             log_y    = False) #True\n",
    "\n",
    "fig.show()"
   ]
  },
  {
   "cell_type": "markdown",
   "id": "fae384e6",
   "metadata": {},
   "source": [
    "### Minority class OverSampling\n",
    "\n"
   ]
  },
  {
   "cell_type": "markdown",
   "id": "f7a0d29e",
   "metadata": {},
   "source": [
    "The objective of this code was to oversampling the minority classes to be in equal frequency as the others... <br> Commented because it didn't gave much gain in performance to the CNN models."
   ]
  },
  {
   "cell_type": "code",
   "execution_count": 16,
   "id": "08467639",
   "metadata": {
    "scrolled": true
   },
   "outputs": [],
   "source": [
    "# #Set threshold for the minority class\n",
    "# threshold_frequency = 100 # look the histogram to seek for the minority classes...\n",
    "\n",
    "# threshed_bins = np.array([[cb, f] for cb,f in zip(cbins, freq) if f < threshold_frequency])\n",
    "\n",
    "# mid_idx = int((len(threshed_bins)-1)/2)\n",
    "\n",
    "# far_pos_bin = threshed_bins[-1][0]\n",
    "# center_pos_bin = threshed_bins[mid_idx+1][0]\n",
    "# center_neg_bin = threshed_bins[mid_idx][0]\n",
    "# far_neg_bin = threshed_bins[0][0]"
   ]
  },
  {
   "cell_type": "markdown",
   "id": "acec8a78",
   "metadata": {},
   "source": [
    "Augmented Image pipeline for the minority classes"
   ]
  },
  {
   "cell_type": "code",
   "execution_count": 17,
   "id": "f7a99bcc",
   "metadata": {},
   "outputs": [],
   "source": [
    "# # AUGMENTED IMAGRE PIPELINE GENERATOR ,,,,\n",
    "# seq = iaa.Sequential([\n",
    "#     iaa.Sometimes(0.30, iaa.MotionBlur(k=15, angle=[-60, 60])), \n",
    "#     iaa.Sometimes(0.50, iaa.LinearContrast((0.5, 1.9))),\n",
    "#     iaa.Sometimes(0.20, iaa.Affine(shear=(-8, 8))),\n",
    "#     iaa.Sometimes(0.10, iaa.SaltAndPepper(0.05))\n",
    "# ])  "
   ]
  },
  {
   "cell_type": "code",
   "execution_count": 18,
   "id": "32ea9eb4",
   "metadata": {},
   "outputs": [],
   "source": [
    "# counter = 0\n",
    "# for img_path, steer in zip(x_train, y_train): #img_paths steerings\n",
    "#     # if img is undersampled...\n",
    "#     if (steer <= center_neg_bin and steer >= far_neg_bin) or (steer >= center_pos_bin and steer <= far_pos_bin): \n",
    "        \n",
    "#         nimg = img_path.split(\".\")\n",
    "#         #create 8 augmented images  \n",
    "#         imgs = np.array( \n",
    "#             [ seq(images=[cv2.imread(img_path, cv2.IMREAD_COLOR)])[0] for i in range(3) ]  #530 8\n",
    "#         )\n",
    "#         for i,img in enumerate(imgs): \n",
    "#             # create a file name...\n",
    "#             name_file = nimg[0]+\"_{}.\".format(i)+nimg[1]\n",
    "#             # save new images... \n",
    "#             Image.fromarray(img).save(name_file)\n",
    "#             #update \n",
    "#             #new_row = np.array([name_file, steer])\n",
    "#             #data = np.vstack((data, new_row.reshape(-1, 2)))\n",
    "#             #img_paths = data[:, 0]\n",
    "#             #steerings = data[:, 1].astype(float)\n",
    "#             x_train = np.append(x_train, name_file)\n",
    "#             y_train = np.append(y_train, steer)\n",
    "#             #df.append(pd.DataFrame(new_row.reshape(1,-1), columns=list(df)), ignore_index=True) # dont work...\n",
    "#             print(counter)\n",
    "#             counter = counter + 1"
   ]
  },
  {
   "cell_type": "markdown",
   "id": "6048621a",
   "metadata": {},
   "source": [
    "###  Undersampling\n",
    "</br>\n",
    "<!-- <font size=\"3\"> -->\n",
    "Iterates trough the bins... </br> </br>\n",
    "Checks if a given steering angle fits in the bin, which it means that is a part of a bin to crop</br> </br>\n",
    "Shuffles data fitted into a bin and keep only <code> keep_nsamples </code> \n",
    "<!-- </font> -->"
   ]
  },
  {
   "cell_type": "code",
   "execution_count": 19,
   "id": "5bd39b86",
   "metadata": {
    "scrolled": true
   },
   "outputs": [],
   "source": [
    "keep_nsamples = 1900\n",
    "\n",
    "for i in range(nbins):   \n",
    "    \n",
    "    idx_rm = shuffle([ idx for idx, steering_value in enumerate(y_train)\n",
    "                               if steering_value >= bins[i] and steering_value <= bins[i+1] ]) # shuffle data\n",
    "    \n",
    "    x_train = np.delete(x_train, idx_rm[keep_nsamples:])\n",
    "    y_train = np.delete(y_train, idx_rm[keep_nsamples:])"
   ]
  },
  {
   "cell_type": "markdown",
   "id": "1a34135a",
   "metadata": {},
   "source": [
    "### Histogram with data balanced"
   ]
  },
  {
   "cell_type": "code",
   "execution_count": 20,
   "id": "67062645",
   "metadata": {
    "scrolled": false
   },
   "outputs": [
    {
     "data": {
      "application/vnd.plotly.v1+json": {
       "config": {
        "plotlyServerURL": "https://plot.ly"
       },
       "data": [
        {
         "alignmentgroup": "True",
         "hovertemplate": "Steering Angle=%{x}<br>Frequency=%{y}<extra></extra>",
         "legendgroup": "",
         "marker": {
          "color": "#636efa",
          "pattern": {
           "shape": ""
          }
         },
         "name": "",
         "offsetgroup": "",
         "orientation": "v",
         "showlegend": false,
         "textposition": "auto",
         "type": "bar",
         "x": [
          -0.5704421285660036,
          -0.5351430427643561,
          -0.49984395696270856,
          -0.4645448711610609,
          -0.4292457853594134,
          -0.39394669955776584,
          -0.3586476137561183,
          -0.3233485279544708,
          -0.2880494421528232,
          -0.2527503563511756,
          -0.21745127054952806,
          -0.18215218474788053,
          -0.14685309894623297,
          -0.1115540131445854,
          -0.07625492734293784,
          -0.04095584154129028,
          -0.005656755739642749,
          0.029642330062004785,
          0.06494141586365237,
          0.10024050166529996,
          0.1355395874669475,
          0.17083867326859503,
          0.20613775907024257,
          0.2414368448718901,
          0.2767359306735377,
          0.3120350164751853,
          0.3473341022768328,
          0.38263318807848035,
          0.41793227388012794,
          0.4532313596817755,
          0.48853044548342306
         ],
         "xaxis": "x",
         "y": [
          2,
          6,
          4,
          8,
          9,
          17,
          29,
          55,
          71,
          87,
          147,
          138,
          82,
          55,
          237,
          142,
          416,
          240,
          191,
          235,
          449,
          144,
          33,
          60,
          39,
          11,
          18,
          2,
          6,
          2,
          6
         ],
         "yaxis": "y"
        }
       ],
       "layout": {
        "barmode": "relative",
        "legend": {
         "tracegroupgap": 0
        },
        "template": {
         "data": {
          "bar": [
           {
            "error_x": {
             "color": "#f2f5fa"
            },
            "error_y": {
             "color": "#f2f5fa"
            },
            "marker": {
             "line": {
              "color": "rgb(17,17,17)",
              "width": 0.5
             },
             "pattern": {
              "fillmode": "overlay",
              "size": 10,
              "solidity": 0.2
             }
            },
            "type": "bar"
           }
          ],
          "barpolar": [
           {
            "marker": {
             "line": {
              "color": "rgb(17,17,17)",
              "width": 0.5
             },
             "pattern": {
              "fillmode": "overlay",
              "size": 10,
              "solidity": 0.2
             }
            },
            "type": "barpolar"
           }
          ],
          "carpet": [
           {
            "aaxis": {
             "endlinecolor": "#A2B1C6",
             "gridcolor": "#506784",
             "linecolor": "#506784",
             "minorgridcolor": "#506784",
             "startlinecolor": "#A2B1C6"
            },
            "baxis": {
             "endlinecolor": "#A2B1C6",
             "gridcolor": "#506784",
             "linecolor": "#506784",
             "minorgridcolor": "#506784",
             "startlinecolor": "#A2B1C6"
            },
            "type": "carpet"
           }
          ],
          "choropleth": [
           {
            "colorbar": {
             "outlinewidth": 0,
             "ticks": ""
            },
            "type": "choropleth"
           }
          ],
          "contour": [
           {
            "colorbar": {
             "outlinewidth": 0,
             "ticks": ""
            },
            "colorscale": [
             [
              0,
              "#0d0887"
             ],
             [
              0.1111111111111111,
              "#46039f"
             ],
             [
              0.2222222222222222,
              "#7201a8"
             ],
             [
              0.3333333333333333,
              "#9c179e"
             ],
             [
              0.4444444444444444,
              "#bd3786"
             ],
             [
              0.5555555555555556,
              "#d8576b"
             ],
             [
              0.6666666666666666,
              "#ed7953"
             ],
             [
              0.7777777777777778,
              "#fb9f3a"
             ],
             [
              0.8888888888888888,
              "#fdca26"
             ],
             [
              1,
              "#f0f921"
             ]
            ],
            "type": "contour"
           }
          ],
          "contourcarpet": [
           {
            "colorbar": {
             "outlinewidth": 0,
             "ticks": ""
            },
            "type": "contourcarpet"
           }
          ],
          "heatmap": [
           {
            "colorbar": {
             "outlinewidth": 0,
             "ticks": ""
            },
            "colorscale": [
             [
              0,
              "#0d0887"
             ],
             [
              0.1111111111111111,
              "#46039f"
             ],
             [
              0.2222222222222222,
              "#7201a8"
             ],
             [
              0.3333333333333333,
              "#9c179e"
             ],
             [
              0.4444444444444444,
              "#bd3786"
             ],
             [
              0.5555555555555556,
              "#d8576b"
             ],
             [
              0.6666666666666666,
              "#ed7953"
             ],
             [
              0.7777777777777778,
              "#fb9f3a"
             ],
             [
              0.8888888888888888,
              "#fdca26"
             ],
             [
              1,
              "#f0f921"
             ]
            ],
            "type": "heatmap"
           }
          ],
          "heatmapgl": [
           {
            "colorbar": {
             "outlinewidth": 0,
             "ticks": ""
            },
            "colorscale": [
             [
              0,
              "#0d0887"
             ],
             [
              0.1111111111111111,
              "#46039f"
             ],
             [
              0.2222222222222222,
              "#7201a8"
             ],
             [
              0.3333333333333333,
              "#9c179e"
             ],
             [
              0.4444444444444444,
              "#bd3786"
             ],
             [
              0.5555555555555556,
              "#d8576b"
             ],
             [
              0.6666666666666666,
              "#ed7953"
             ],
             [
              0.7777777777777778,
              "#fb9f3a"
             ],
             [
              0.8888888888888888,
              "#fdca26"
             ],
             [
              1,
              "#f0f921"
             ]
            ],
            "type": "heatmapgl"
           }
          ],
          "histogram": [
           {
            "marker": {
             "pattern": {
              "fillmode": "overlay",
              "size": 10,
              "solidity": 0.2
             }
            },
            "type": "histogram"
           }
          ],
          "histogram2d": [
           {
            "colorbar": {
             "outlinewidth": 0,
             "ticks": ""
            },
            "colorscale": [
             [
              0,
              "#0d0887"
             ],
             [
              0.1111111111111111,
              "#46039f"
             ],
             [
              0.2222222222222222,
              "#7201a8"
             ],
             [
              0.3333333333333333,
              "#9c179e"
             ],
             [
              0.4444444444444444,
              "#bd3786"
             ],
             [
              0.5555555555555556,
              "#d8576b"
             ],
             [
              0.6666666666666666,
              "#ed7953"
             ],
             [
              0.7777777777777778,
              "#fb9f3a"
             ],
             [
              0.8888888888888888,
              "#fdca26"
             ],
             [
              1,
              "#f0f921"
             ]
            ],
            "type": "histogram2d"
           }
          ],
          "histogram2dcontour": [
           {
            "colorbar": {
             "outlinewidth": 0,
             "ticks": ""
            },
            "colorscale": [
             [
              0,
              "#0d0887"
             ],
             [
              0.1111111111111111,
              "#46039f"
             ],
             [
              0.2222222222222222,
              "#7201a8"
             ],
             [
              0.3333333333333333,
              "#9c179e"
             ],
             [
              0.4444444444444444,
              "#bd3786"
             ],
             [
              0.5555555555555556,
              "#d8576b"
             ],
             [
              0.6666666666666666,
              "#ed7953"
             ],
             [
              0.7777777777777778,
              "#fb9f3a"
             ],
             [
              0.8888888888888888,
              "#fdca26"
             ],
             [
              1,
              "#f0f921"
             ]
            ],
            "type": "histogram2dcontour"
           }
          ],
          "mesh3d": [
           {
            "colorbar": {
             "outlinewidth": 0,
             "ticks": ""
            },
            "type": "mesh3d"
           }
          ],
          "parcoords": [
           {
            "line": {
             "colorbar": {
              "outlinewidth": 0,
              "ticks": ""
             }
            },
            "type": "parcoords"
           }
          ],
          "pie": [
           {
            "automargin": true,
            "type": "pie"
           }
          ],
          "scatter": [
           {
            "marker": {
             "line": {
              "color": "#283442"
             }
            },
            "type": "scatter"
           }
          ],
          "scatter3d": [
           {
            "line": {
             "colorbar": {
              "outlinewidth": 0,
              "ticks": ""
             }
            },
            "marker": {
             "colorbar": {
              "outlinewidth": 0,
              "ticks": ""
             }
            },
            "type": "scatter3d"
           }
          ],
          "scattercarpet": [
           {
            "marker": {
             "colorbar": {
              "outlinewidth": 0,
              "ticks": ""
             }
            },
            "type": "scattercarpet"
           }
          ],
          "scattergeo": [
           {
            "marker": {
             "colorbar": {
              "outlinewidth": 0,
              "ticks": ""
             }
            },
            "type": "scattergeo"
           }
          ],
          "scattergl": [
           {
            "marker": {
             "line": {
              "color": "#283442"
             }
            },
            "type": "scattergl"
           }
          ],
          "scattermapbox": [
           {
            "marker": {
             "colorbar": {
              "outlinewidth": 0,
              "ticks": ""
             }
            },
            "type": "scattermapbox"
           }
          ],
          "scatterpolar": [
           {
            "marker": {
             "colorbar": {
              "outlinewidth": 0,
              "ticks": ""
             }
            },
            "type": "scatterpolar"
           }
          ],
          "scatterpolargl": [
           {
            "marker": {
             "colorbar": {
              "outlinewidth": 0,
              "ticks": ""
             }
            },
            "type": "scatterpolargl"
           }
          ],
          "scatterternary": [
           {
            "marker": {
             "colorbar": {
              "outlinewidth": 0,
              "ticks": ""
             }
            },
            "type": "scatterternary"
           }
          ],
          "surface": [
           {
            "colorbar": {
             "outlinewidth": 0,
             "ticks": ""
            },
            "colorscale": [
             [
              0,
              "#0d0887"
             ],
             [
              0.1111111111111111,
              "#46039f"
             ],
             [
              0.2222222222222222,
              "#7201a8"
             ],
             [
              0.3333333333333333,
              "#9c179e"
             ],
             [
              0.4444444444444444,
              "#bd3786"
             ],
             [
              0.5555555555555556,
              "#d8576b"
             ],
             [
              0.6666666666666666,
              "#ed7953"
             ],
             [
              0.7777777777777778,
              "#fb9f3a"
             ],
             [
              0.8888888888888888,
              "#fdca26"
             ],
             [
              1,
              "#f0f921"
             ]
            ],
            "type": "surface"
           }
          ],
          "table": [
           {
            "cells": {
             "fill": {
              "color": "#506784"
             },
             "line": {
              "color": "rgb(17,17,17)"
             }
            },
            "header": {
             "fill": {
              "color": "#2a3f5f"
             },
             "line": {
              "color": "rgb(17,17,17)"
             }
            },
            "type": "table"
           }
          ]
         },
         "layout": {
          "annotationdefaults": {
           "arrowcolor": "#f2f5fa",
           "arrowhead": 0,
           "arrowwidth": 1
          },
          "autotypenumbers": "strict",
          "coloraxis": {
           "colorbar": {
            "outlinewidth": 0,
            "ticks": ""
           }
          },
          "colorscale": {
           "diverging": [
            [
             0,
             "#8e0152"
            ],
            [
             0.1,
             "#c51b7d"
            ],
            [
             0.2,
             "#de77ae"
            ],
            [
             0.3,
             "#f1b6da"
            ],
            [
             0.4,
             "#fde0ef"
            ],
            [
             0.5,
             "#f7f7f7"
            ],
            [
             0.6,
             "#e6f5d0"
            ],
            [
             0.7,
             "#b8e186"
            ],
            [
             0.8,
             "#7fbc41"
            ],
            [
             0.9,
             "#4d9221"
            ],
            [
             1,
             "#276419"
            ]
           ],
           "sequential": [
            [
             0,
             "#0d0887"
            ],
            [
             0.1111111111111111,
             "#46039f"
            ],
            [
             0.2222222222222222,
             "#7201a8"
            ],
            [
             0.3333333333333333,
             "#9c179e"
            ],
            [
             0.4444444444444444,
             "#bd3786"
            ],
            [
             0.5555555555555556,
             "#d8576b"
            ],
            [
             0.6666666666666666,
             "#ed7953"
            ],
            [
             0.7777777777777778,
             "#fb9f3a"
            ],
            [
             0.8888888888888888,
             "#fdca26"
            ],
            [
             1,
             "#f0f921"
            ]
           ],
           "sequentialminus": [
            [
             0,
             "#0d0887"
            ],
            [
             0.1111111111111111,
             "#46039f"
            ],
            [
             0.2222222222222222,
             "#7201a8"
            ],
            [
             0.3333333333333333,
             "#9c179e"
            ],
            [
             0.4444444444444444,
             "#bd3786"
            ],
            [
             0.5555555555555556,
             "#d8576b"
            ],
            [
             0.6666666666666666,
             "#ed7953"
            ],
            [
             0.7777777777777778,
             "#fb9f3a"
            ],
            [
             0.8888888888888888,
             "#fdca26"
            ],
            [
             1,
             "#f0f921"
            ]
           ]
          },
          "colorway": [
           "#636efa",
           "#EF553B",
           "#00cc96",
           "#ab63fa",
           "#FFA15A",
           "#19d3f3",
           "#FF6692",
           "#B6E880",
           "#FF97FF",
           "#FECB52"
          ],
          "font": {
           "color": "#f2f5fa"
          },
          "geo": {
           "bgcolor": "rgb(17,17,17)",
           "lakecolor": "rgb(17,17,17)",
           "landcolor": "rgb(17,17,17)",
           "showlakes": true,
           "showland": true,
           "subunitcolor": "#506784"
          },
          "hoverlabel": {
           "align": "left"
          },
          "hovermode": "closest",
          "mapbox": {
           "style": "dark"
          },
          "paper_bgcolor": "rgb(17,17,17)",
          "plot_bgcolor": "rgb(17,17,17)",
          "polar": {
           "angularaxis": {
            "gridcolor": "#506784",
            "linecolor": "#506784",
            "ticks": ""
           },
           "bgcolor": "rgb(17,17,17)",
           "radialaxis": {
            "gridcolor": "#506784",
            "linecolor": "#506784",
            "ticks": ""
           }
          },
          "scene": {
           "xaxis": {
            "backgroundcolor": "rgb(17,17,17)",
            "gridcolor": "#506784",
            "gridwidth": 2,
            "linecolor": "#506784",
            "showbackground": true,
            "ticks": "",
            "zerolinecolor": "#C8D4E3"
           },
           "yaxis": {
            "backgroundcolor": "rgb(17,17,17)",
            "gridcolor": "#506784",
            "gridwidth": 2,
            "linecolor": "#506784",
            "showbackground": true,
            "ticks": "",
            "zerolinecolor": "#C8D4E3"
           },
           "zaxis": {
            "backgroundcolor": "rgb(17,17,17)",
            "gridcolor": "#506784",
            "gridwidth": 2,
            "linecolor": "#506784",
            "showbackground": true,
            "ticks": "",
            "zerolinecolor": "#C8D4E3"
           }
          },
          "shapedefaults": {
           "line": {
            "color": "#f2f5fa"
           }
          },
          "sliderdefaults": {
           "bgcolor": "#C8D4E3",
           "bordercolor": "rgb(17,17,17)",
           "borderwidth": 1,
           "tickwidth": 0
          },
          "ternary": {
           "aaxis": {
            "gridcolor": "#506784",
            "linecolor": "#506784",
            "ticks": ""
           },
           "baxis": {
            "gridcolor": "#506784",
            "linecolor": "#506784",
            "ticks": ""
           },
           "bgcolor": "rgb(17,17,17)",
           "caxis": {
            "gridcolor": "#506784",
            "linecolor": "#506784",
            "ticks": ""
           }
          },
          "title": {
           "x": 0.05
          },
          "updatemenudefaults": {
           "bgcolor": "#506784",
           "borderwidth": 0
          },
          "xaxis": {
           "automargin": true,
           "gridcolor": "#283442",
           "linecolor": "#506784",
           "ticks": "",
           "title": {
            "standoff": 15
           },
           "zerolinecolor": "#283442",
           "zerolinewidth": 2
          },
          "yaxis": {
           "automargin": true,
           "gridcolor": "#283442",
           "linecolor": "#506784",
           "ticks": "",
           "title": {
            "standoff": 15
           },
           "zerolinecolor": "#283442",
           "zerolinewidth": 2
          }
         }
        },
        "title": {
         "text": "Steering Angle Distribuiton (Trimmed)"
        },
        "xaxis": {
         "anchor": "y",
         "domain": [
          0,
          1
         ],
         "title": {
          "text": "Steering Angle"
         }
        },
        "yaxis": {
         "anchor": "x",
         "domain": [
          0,
          1
         ],
         "title": {
          "text": "Frequency"
         }
        }
       }
      }
     },
     "metadata": {},
     "output_type": "display_data"
    },
    {
     "name": "stdout",
     "output_type": "stream",
     "text": [
      "Total Training Images:  2941\n"
     ]
    }
   ],
   "source": [
    "freq, _ = np.histogram(y_train, nbins) # we already have our bins created...\n",
    "\n",
    "fig = px.bar(x        = cbins, \n",
    "             y        = freq, \n",
    "             labels   = {'x' : 'Steering Angle', 'y' : 'Frequency'}, \n",
    "             title    = \"Steering Angle Distribuiton (Trimmed)\",\n",
    "             template =\"plotly_dark\",\n",
    "             log_y    = False)\n",
    "\n",
    "fig.show()  \n",
    "\n",
    "print(\"Total Training Images: \", len(x_train))"
   ]
  },
  {
   "cell_type": "markdown",
   "id": "e5a52bd5",
   "metadata": {},
   "source": [
    "## Data Augmentation"
   ]
  },
  {
   "cell_type": "markdown",
   "id": "b3455cb7",
   "metadata": {},
   "source": [
    "### Image Pre-Processing"
   ]
  },
  {
   "cell_type": "code",
   "execution_count": 21,
   "id": "1a704b76",
   "metadata": {},
   "outputs": [],
   "source": [
    "def pre_processing(img, img_width=320, img_height=160, normalization=\"yes\"):\n",
    "    # Cropping Region of intrest, Ajust with Gazebo and use Andre Code in the Future\n",
    "    img = cv2.cvtColor(img, cv2.COLOR_BGR2YUV) # For better jornalization \n",
    "    \n",
    "    img = cv2.GaussianBlur(img, (3, 3), 0) \n",
    "    \n",
    "    img = cv2.resize(img, (img_width, img_height))  # NIVIDA uses 200x66\n",
    "\n",
    "    if normalization == \"yes\":\n",
    "        img = img/255\n",
    "\n",
    "    return img "
   ]
  },
  {
   "cell_type": "code",
   "execution_count": 22,
   "id": "5c0c3510",
   "metadata": {},
   "outputs": [],
   "source": [
    "def augmentImage(imgPath, steering):\n",
    "    # Function: Add randomness to the data set by applying random \"filters\"\n",
    "\n",
    "    img = mpimg.imread(imgPath)\n",
    "\n",
    "    # Translation... PAN\n",
    "    if np.random.rand() < 0.30:\n",
    "        pan = iaa.Affine(translate_percent = {'x': (-0.1, 0.1) , 'y': (-0.1, 0.1)} )\n",
    "        img = pan.augment_image(img)  # Add a pan to img 5555 5   \n",
    "\n",
    "    # Zoom \n",
    "    if np.random.rand() < 0.30:\n",
    "        zoom = iaa.Affine(scale=(1, 1.2))\n",
    "        img = zoom.augment_image(img)\n",
    "\n",
    "    # Brightness\n",
    "    if np.random.rand() < 0.30:\n",
    "        brightness = iaa.Multiply((0.2, 1.2))\n",
    "        img = brightness.augment_image(img)\n",
    "    \n",
    "    #Motion Blur\n",
    "    if np.random.rand() < 0.30:\n",
    "        motion_blur = iaa.MotionBlur(k=15, angle=[-60, 60])\n",
    "        img = motion_blur.augment_image(img)\n",
    "        \n",
    "    #Contrast  \n",
    "    if np.random.rand() < 0.30:\n",
    "        lin_contrast = iaa.LinearContrast((0.5, 1.9))\n",
    "        img = lin_contrast.augment_image(img)\n",
    "    \n",
    "    # Shear Operation\n",
    "    if np.random.rand() < 0.30:\n",
    "        shear_img = iaa.Affine(shear=(-8, 8))\n",
    "        img = shear_img.augment_image(img)\n",
    "    \n",
    "    # Noise\n",
    "    if np.random.rand() < 0.30:\n",
    "        noise = iaa.SaltAndPepper(0.05)\n",
    "        img = noise.augment_image(img)\n",
    "    \n",
    "    # Random Ereasing / Occlusion\n",
    "    if np.random.rand() < 0.30:\n",
    "        occlusion = iaa.Cutout(nb_iterations=(1, 5), size=0.2, squared=False)\n",
    "        img = occlusion.augment_image(img)\n",
    "        \n",
    "    # Flip\n",
    "    if np.random.rand() < 0.30:\n",
    "        img = cv2.flip(img, 1)  \n",
    "        steering = - steering\n",
    "\n",
    "    return img, steering"
   ]
  },
  {
   "cell_type": "code",
   "execution_count": 23,
   "id": "5ab677ea",
   "metadata": {},
   "outputs": [],
   "source": [
    "def batchGen(imagesPath, steeringList, batchSize, trainFlag, imgwidth, imgheight):\n",
    "    # Creates a batch and applies augmentation\n",
    "    while True:\n",
    "        imgBatch = [] \n",
    "        steeringBatch = []   \n",
    "\n",
    "        for i in range(batchSize):\n",
    "            # Gets a random image and augments it\n",
    "            index = random.randint(0, len(imagesPath) - 1)\n",
    "            if trainFlag:\n",
    "                img, steering = augmentImage(imagesPath[index], steeringList[index])\n",
    "            else:\n",
    "                img = mpimg.imread(imagesPath[index])\n",
    "                steering = steeringList[index]\n",
    "            img = pre_processing(img, imgwidth, imgheight)\n",
    "\n",
    "            imgBatch.append(img)\n",
    "            steeringBatch.append(steering)\n",
    "\n",
    "        yield (np.asarray(imgBatch), np.asarray(steeringBatch)) "
   ]
  },
  {
   "cell_type": "markdown",
   "id": "b0c1310e",
   "metadata": {},
   "source": [
    "## CNN Models"
   ]
  },
  {
   "cell_type": "code",
   "execution_count": 24,
   "id": "daa7e8ae",
   "metadata": {},
   "outputs": [],
   "source": [
    "def cnn_nvidia(imgwidth, imgheight, nchannels): \n",
    "    \n",
    "    model = Sequential()\n",
    "    model.add(Convolution2D(24, (5, 5), (2, 2), input_shape=(imgheight, imgwidth, nchannels), activation='relu'))\n",
    "    model.add(Convolution2D(36, (5, 5), (2, 2), activation='relu'))\n",
    "    model.add(Convolution2D(48, (5, 5), (2, 2), activation='relu'))\n",
    "    model.add(Convolution2D(64, (3, 3), activation='relu'))\n",
    "    model.add(Convolution2D(64, (3, 3), activation='relu'))\n",
    "\n",
    "    model.add(Flatten())\n",
    "    \n",
    "    model.add(Dense(100, activation='relu'))  \n",
    "    \n",
    "    model.add(Dense(50, activation='elu'))\n",
    "    \n",
    "    model.add(Dense(10, activation='elu'))\n",
    "   \n",
    "    model.add(Dense(1)) \n",
    "\n",
    "    model.compile(Adam(learning_rate=0.0001), loss='mse')\n",
    "    \n",
    "    return model"
   ]
  },
  {
   "cell_type": "code",
   "execution_count": 25,
   "id": "c507ddea",
   "metadata": {},
   "outputs": [],
   "source": [
    "#steps_per_epoch=32\n",
    "#epochs=25\n",
    "def cnn_rota(imgwidth, imgheight):\n",
    "    \n",
    "    model = Sequential()\n",
    "    \n",
    "    model.add(Convolution2D(8, (5, 5), (2, 2), input_shape=(imgheight, imgwidth, 3), activation='relu'))\n",
    "    model.add(Convolution2D(16, (5, 5), (2, 2), activation='relu'))\n",
    "    model.add(Convolution2D(32, (5, 5), (2, 2), activation='relu'))\n",
    "    model.add(Convolution2D(32, (5, 5), (1, 1), activation='relu'))\n",
    "    \n",
    "    model.add(Flatten())\n",
    "    \n",
    "    model.add(Dense(375, activation='relu'))\n",
    "    #model.add(Dropout(rate=0.20)) #probability\n",
    "    model.add(Dense(125, activation='relu'))\n",
    "    #model.add(Dropout(rate=0.10)) #probability\n",
    "    model.add(Dense(25, activation='relu'))\n",
    "    model.add(Dense(1, activation='tanh'))\n",
    "    \n",
    "    model.compile(Adam(learning_rate=0.0001), loss='mse')\n",
    "    \n",
    "    return model"
   ]
  },
  {
   "cell_type": "markdown",
   "id": "65a3beaa",
   "metadata": {},
   "source": [
    "## RNN Model"
   ]
  },
  {
   "cell_type": "markdown",
   "id": "1ab06186",
   "metadata": {},
   "source": [
    "RNN model currently doesn't work, but it is interesting to see in the future"
   ]
  },
  {
   "cell_type": "code",
   "execution_count": 26,
   "id": "1ec74945",
   "metadata": {},
   "outputs": [],
   "source": [
    "# import toolz\n",
    "# from toolz.itertoolz import sliding_window\n",
    "\n",
    "# seq_len = 41\n",
    "\n",
    "# def create_sequences(size, data):\n",
    "#     sequence = list(sliding_window(size, data))\n",
    "#     sequence = np.array(sequence)\n",
    "#     return sequence\n",
    "\n",
    "# metax = create_sequences(seq_len, img_paths)\n",
    "# metay = create_sequences(seq_len, steerings)\n",
    "\n",
    "# x_train_lstm, x_test_lstm, y_train_lstm, y_test_lstm = train_test_split(metax, metay, test_size=0.10, random_state=5)\n",
    "# x_train_lstm, x_val_lstm, y_train_lstm, y_val_lstm = train_test_split(x_train_lstm, y_train_lstm, test_size=0.10, random_state=5)\n",
    "\n",
    "\n",
    "# print(x_train_lstm.shape)\n",
    "\n",
    "# def batchGen_lstm(imagesPath, steeringList, batchSize, trainFlag, imgwidth, imgheight):\n",
    "#     # Creates a batch and applies augmentation\n",
    "#     while True:\n",
    "#         imgBatch = [] \n",
    "#         steeringBatch = []   \n",
    "\n",
    "#         for i in range(batchSize):\n",
    "#             img_seqs = []\n",
    "#             steer_seqs = []\n",
    "#             for j in range(seq_len):\n",
    "#                 img = mpimg.imread(imagesPath[i][j])\n",
    "#                 steering = steeringList[i][j]\n",
    "#                 img = pre_processing(img, imgwidth, imgheight)\n",
    "#                 img_seqs.append( img)\n",
    "#                 steer_seqs.append( steering)\n",
    "                \n",
    "#             imgBatch.append(np.array(img_seqs))\n",
    "#             steeringBatch.append(np.array(steer_seqs))\n",
    "        \n",
    "#         imgBatch = shuffle(imgBatch)\n",
    "#         steeringBatch = shuffle(steeringBatch)\n",
    "        \n",
    "#         print(np.array(steeringBatch).shape)\n",
    "        \n",
    "#         yield (np.asarray(imgBatch), np.asarray(steeringBatch)) \n",
    "        \n",
    "\n",
    "# def cnn_lstm(imgwidth=320, imgheight=160):     \n",
    "#     model = Sequential()##########\n",
    "    \n",
    "#     model.add(ConvLSTM2D(filters = 24, \n",
    "#                          kernel_size = (5, 5), \n",
    "#                          strides=(2, 2),\n",
    "#                          activation = 'tanh',\n",
    "#                          data_format = \"channels_last\",\n",
    "#                          recurrent_dropout=0.2, \n",
    "#                          return_sequences=True, \n",
    "#                          input_shape = (seq_len, imgwidth, imgheight, 3))) \n",
    "#     model.add(TimeDistributed(Dropout(0.2)))\n",
    "    \n",
    "#     model.add(ConvLSTM2D(filters = 36, \n",
    "#                          kernel_size = (5, 5), \n",
    "#                          strides=(2, 2),\n",
    "#                          activation = 'tanh',\n",
    "#                          data_format = \"channels_last\",\n",
    "#                          recurrent_dropout=0.2, \n",
    "#                          return_sequences=True, \n",
    "#                          input_shape = (seq_len, imgwidth, imgheight, 3))) \n",
    "#     model.add(TimeDistributed(Dropout(0.2)))\n",
    "    \n",
    "#     model.add(ConvLSTM2D(filters = 48, \n",
    "#                          kernel_size = (5, 5), \n",
    "#                          strides=(2, 2),\n",
    "#                          activation = 'tanh',\n",
    "#                          data_format = \"channels_last\",\n",
    "#                          recurrent_dropout=0.2, \n",
    "#                          return_sequences=True, \n",
    "#                          input_shape = (seq_len, imgwidth, imgheight, 3))) \n",
    "#     model.add(TimeDistributed(Dropout(0.2)))\n",
    "    \n",
    "#     model.add(ConvLSTM2D(filters = 64, \n",
    "#                          kernel_size = (3, 3),\n",
    "#                          activation = 'tanh',\n",
    "#                          data_format = \"channels_last\",\n",
    "#                          recurrent_dropout=0.2, \n",
    "#                          return_sequences=True, \n",
    "#                          input_shape = (seq_len, imgwidth, imgheight, 3))) \n",
    "#     model.add(TimeDistributed(Dropout(0.2)))\n",
    "    \n",
    "#     model.add(ConvLSTM2D(filters = 64, \n",
    "#                          kernel_size = (3, 3),\n",
    "#                          activation = 'tanh',\n",
    "#                          data_format = \"channels_last\",\n",
    "#                          recurrent_dropout=0.2, \n",
    "#                          return_sequences=True, \n",
    "#                          input_shape = (seq_len, imgwidth, imgheight, 3))) \n",
    "#     model.add(TimeDistributed(Dropout(0.2)))\n",
    "    \n",
    "#     model.add(Flatten()) \n",
    "    \n",
    "#     #model.add(Dense(375, activation='relu'))\n",
    "#     #model.add(Dropout(rate=0.20)) #probability\n",
    "#     #model.summary()\n",
    "#     ##model.compile(Adam(learning_rate=np.exp(-5)), loss='mse')\n",
    "#     model.add(Dense(125, activation='relu'))\n",
    "#     model.add(Dense(25, activation='relu'))\n",
    "#     model.add(Dense(1, activation='tanh'))\n",
    "    \n",
    "#     model.compile(Adam(learning_rate=0.0001), loss='mse')\n",
    "    \n",
    "#     return model"
   ]
  },
  {
   "cell_type": "markdown",
   "id": "c196e4fe",
   "metadata": {},
   "source": [
    "## CNN Training"
   ]
  },
  {
   "cell_type": "code",
   "execution_count": 27,
   "id": "60f8cf1a",
   "metadata": {
    "scrolled": true
   },
   "outputs": [
    {
     "name": "stderr",
     "output_type": "stream",
     "text": [
      "2022-11-14 22:31:57.012642: E tensorflow/stream_executor/cuda/cuda_driver.cc:271] failed call to cuInit: CUDA_ERROR_NO_DEVICE: no CUDA-capable device is detected\n",
      "2022-11-14 22:31:57.012680: I tensorflow/stream_executor/cuda/cuda_diagnostics.cc:156] kernel driver does not appear to be running on this host (shedinja): /proc/driver/nvidia/version does not exist\n",
      "2022-11-14 22:31:57.013096: I tensorflow/core/platform/cpu_feature_guard.cc:151] This TensorFlow binary is optimized with oneAPI Deep Neural Network Library (oneDNN) to use the following CPU instructions in performance-critical operations:  AVX2 FMA\n",
      "To enable them in other operations, rebuild TensorFlow with the appropriate compiler flags.\n"
     ]
    },
    {
     "name": "stdout",
     "output_type": "stream",
     "text": [
      "Model: \"sequential\"\n",
      "_________________________________________________________________\n",
      " Layer (type)                Output Shape              Param #   \n",
      "=================================================================\n",
      " conv2d (Conv2D)             (None, 78, 158, 24)       1824      \n",
      "                                                                 \n",
      " conv2d_1 (Conv2D)           (None, 37, 77, 36)        21636     \n",
      "                                                                 \n",
      " conv2d_2 (Conv2D)           (None, 17, 37, 48)        43248     \n",
      "                                                                 \n",
      " conv2d_3 (Conv2D)           (None, 15, 35, 64)        27712     \n",
      "                                                                 \n",
      " conv2d_4 (Conv2D)           (None, 13, 33, 64)        36928     \n",
      "                                                                 \n",
      " flatten (Flatten)           (None, 27456)             0         \n",
      "                                                                 \n",
      " dense (Dense)               (None, 100)               2745700   \n",
      "                                                                 \n",
      " dense_1 (Dense)             (None, 50)                5050      \n",
      "                                                                 \n",
      " dense_2 (Dense)             (None, 10)                510       \n",
      "                                                                 \n",
      " dense_3 (Dense)             (None, 1)                 11        \n",
      "                                                                 \n",
      "=================================================================\n",
      "Total params: 2,882,619\n",
      "Trainable params: 2,882,619\n",
      "Non-trainable params: 0\n",
      "_________________________________________________________________\n"
     ]
    }
   ],
   "source": [
    "model = cnn_nvidia(imgwidth=320, imgheight=160, nchannels=3)\n",
    "#model = load_model('cnn_40_42_1200epochs_0015.h5') # you can also load a pre-trained model...\n",
    "model.summary()   "
   ]
  },
  {
   "cell_type": "code",
   "execution_count": 28,
   "id": "61af796b",
   "metadata": {
    "scrolled": false
   },
   "outputs": [
    {
     "name": "stdout",
     "output_type": "stream",
     "text": [
      "Epoch 1/20\n"
     ]
    },
    {
     "name": "stderr",
     "output_type": "stream",
     "text": [
      "2022-11-14 22:31:58.011695: W tensorflow/core/framework/cpu_allocator_impl.cc:82] Allocation of 23662080 exceeds 10% of free system memory.\n",
      "2022-11-14 22:31:58.116606: W tensorflow/core/framework/cpu_allocator_impl.cc:82] Allocation of 25698816 exceeds 10% of free system memory.\n",
      "2022-11-14 22:31:58.116674: W tensorflow/core/framework/cpu_allocator_impl.cc:82] Allocation of 25698816 exceeds 10% of free system memory.\n",
      "2022-11-14 22:31:58.125714: W tensorflow/core/framework/cpu_allocator_impl.cc:82] Allocation of 25401600 exceeds 10% of free system memory.\n",
      "2022-11-14 22:31:58.125772: W tensorflow/core/framework/cpu_allocator_impl.cc:82] Allocation of 25401600 exceeds 10% of free system memory.\n"
     ]
    },
    {
     "name": "stdout",
     "output_type": "stream",
     "text": [
      "100/100 [==============================] - ETA: 0s - loss: 0.0192\n",
      "Epoch 00001: saving model to ../../models/callbacks/cp.ckpt\n",
      "100/100 [==============================] - 27s 267ms/step - loss: 0.0192 - val_loss: 0.0099\n",
      "Epoch 2/20\n",
      "100/100 [==============================] - ETA: 0s - loss: 0.0142\n",
      "Epoch 00002: saving model to ../../models/callbacks/cp.ckpt\n",
      "100/100 [==============================] - 29s 288ms/step - loss: 0.0142 - val_loss: 0.0081\n",
      "Epoch 3/20\n",
      "100/100 [==============================] - ETA: 0s - loss: 0.0115\n",
      "Epoch 00003: saving model to ../../models/callbacks/cp.ckpt\n",
      "100/100 [==============================] - 22s 224ms/step - loss: 0.0115 - val_loss: 0.0090\n",
      "Epoch 4/20\n",
      "100/100 [==============================] - ETA: 0s - loss: 0.0110\n",
      "Epoch 00004: saving model to ../../models/callbacks/cp.ckpt\n",
      "100/100 [==============================] - 22s 222ms/step - loss: 0.0110 - val_loss: 0.0076\n",
      "Epoch 5/20\n",
      "100/100 [==============================] - ETA: 0s - loss: 0.0110\n",
      "Epoch 00005: saving model to ../../models/callbacks/cp.ckpt\n",
      "100/100 [==============================] - 23s 228ms/step - loss: 0.0110 - val_loss: 0.0079\n",
      "Epoch 6/20\n",
      "100/100 [==============================] - ETA: 0s - loss: 0.0099\n",
      "Epoch 00006: saving model to ../../models/callbacks/cp.ckpt\n",
      "100/100 [==============================] - 23s 229ms/step - loss: 0.0099 - val_loss: 0.0083\n",
      "Epoch 7/20\n",
      "100/100 [==============================] - ETA: 0s - loss: 0.0099\n",
      "Epoch 00007: saving model to ../../models/callbacks/cp.ckpt\n",
      "100/100 [==============================] - 24s 245ms/step - loss: 0.0099 - val_loss: 0.0080\n",
      "Epoch 8/20\n",
      "100/100 [==============================] - ETA: 0s - loss: 0.0101\n",
      "Epoch 00008: saving model to ../../models/callbacks/cp.ckpt\n",
      "100/100 [==============================] - 23s 232ms/step - loss: 0.0101 - val_loss: 0.0075\n",
      "Epoch 9/20\n",
      "100/100 [==============================] - ETA: 0s - loss: 0.0091\n",
      "Epoch 00009: saving model to ../../models/callbacks/cp.ckpt\n",
      "100/100 [==============================] - 24s 244ms/step - loss: 0.0091 - val_loss: 0.0089\n",
      "Epoch 10/20\n",
      "100/100 [==============================] - ETA: 0s - loss: 0.0094\n",
      "Epoch 00010: saving model to ../../models/callbacks/cp.ckpt\n",
      "100/100 [==============================] - 24s 241ms/step - loss: 0.0094 - val_loss: 0.0079\n",
      "Epoch 11/20\n",
      "100/100 [==============================] - ETA: 0s - loss: 0.0092\n",
      "Epoch 00011: saving model to ../../models/callbacks/cp.ckpt\n",
      "100/100 [==============================] - 23s 230ms/step - loss: 0.0092 - val_loss: 0.0091\n",
      "Epoch 12/20\n",
      "100/100 [==============================] - ETA: 0s - loss: 0.0090\n",
      "Epoch 00012: saving model to ../../models/callbacks/cp.ckpt\n",
      "100/100 [==============================] - 23s 231ms/step - loss: 0.0090 - val_loss: 0.0072\n",
      "Epoch 13/20\n",
      "100/100 [==============================] - ETA: 0s - loss: 0.0090\n",
      "Epoch 00013: saving model to ../../models/callbacks/cp.ckpt\n",
      "100/100 [==============================] - 22s 223ms/step - loss: 0.0090 - val_loss: 0.0070\n",
      "Epoch 14/20\n",
      "100/100 [==============================] - ETA: 0s - loss: 0.0096\n",
      "Epoch 00014: saving model to ../../models/callbacks/cp.ckpt\n",
      "100/100 [==============================] - 23s 229ms/step - loss: 0.0096 - val_loss: 0.0071\n",
      "Epoch 15/20\n",
      "100/100 [==============================] - ETA: 0s - loss: 0.0090\n",
      "Epoch 00015: saving model to ../../models/callbacks/cp.ckpt\n",
      "100/100 [==============================] - 23s 233ms/step - loss: 0.0090 - val_loss: 0.0073\n",
      "Epoch 16/20\n",
      "100/100 [==============================] - ETA: 0s - loss: 0.0087\n",
      "Epoch 00016: saving model to ../../models/callbacks/cp.ckpt\n",
      "100/100 [==============================] - 23s 232ms/step - loss: 0.0087 - val_loss: 0.0072\n",
      "Epoch 17/20\n",
      "100/100 [==============================] - ETA: 0s - loss: 0.0084\n",
      "Epoch 00017: saving model to ../../models/callbacks/cp.ckpt\n",
      "100/100 [==============================] - 23s 226ms/step - loss: 0.0084 - val_loss: 0.0077\n",
      "Epoch 18/20\n",
      "100/100 [==============================] - ETA: 0s - loss: 0.0085\n",
      "Epoch 00018: saving model to ../../models/callbacks/cp.ckpt\n",
      "100/100 [==============================] - 23s 228ms/step - loss: 0.0085 - val_loss: 0.0075\n",
      "Epoch 19/20\n",
      "100/100 [==============================] - ETA: 0s - loss: 0.0092\n",
      "Epoch 00019: saving model to ../../models/callbacks/cp.ckpt\n",
      "100/100 [==============================] - 23s 231ms/step - loss: 0.0092 - val_loss: 0.0069\n",
      "Epoch 20/20\n",
      "100/100 [==============================] - ETA: 0s - loss: 0.0086\n",
      "Epoch 00020: saving model to ../../models/callbacks/cp.ckpt\n",
      "100/100 [==============================] - 23s 228ms/step - loss: 0.0086 - val_loss: 0.0071\n"
     ]
    }
   ],
   "source": [
    "cp_callback = ModelCheckpoint(filepath=\"../../models/callbacks/cp.ckpt\", save_weights_only=True, verbose=1)\n",
    "\n",
    "history = model.fit(\n",
    "    batchGen(x_train, y_train, batch_size_train, training_flag, image_width, image_height),\n",
    "    steps_per_epoch  = steps_per_epoch,\n",
    "    epochs           = epochs,\n",
    "    validation_data  = batchGen(x_val, y_val, batch_size_val, validation_flag, image_width, image_height),\n",
    "    validation_steps = validation_steps,\n",
    "    callbacks        = [cp_callback])"
   ]
  },
  {
   "cell_type": "code",
   "execution_count": 29,
   "id": "5a390e2a",
   "metadata": {},
   "outputs": [
    {
     "data": {
      "application/vnd.plotly.v1+json": {
       "config": {
        "plotlyServerURL": "https://plot.ly"
       },
       "data": [
        {
         "hovertemplate": "variable=loss<br>index=%{x}<br>value=%{y}<extra></extra>",
         "legendgroup": "loss",
         "line": {
          "color": "#636efa",
          "dash": "solid"
         },
         "marker": {
          "symbol": "circle"
         },
         "mode": "lines",
         "name": "loss",
         "orientation": "v",
         "showlegend": true,
         "type": "scatter",
         "x": [
          0,
          1,
          2,
          3,
          4,
          5,
          6,
          7,
          8,
          9,
          10,
          11,
          12,
          13,
          14,
          15,
          16,
          17,
          18,
          19
         ],
         "xaxis": "x",
         "y": [
          0.01922116056084633,
          0.014206001535058022,
          0.011476264335215092,
          0.010969876311719418,
          0.010963738895952702,
          0.00985356792807579,
          0.009860658086836338,
          0.010106061585247517,
          0.009100855328142643,
          0.009446762502193451,
          0.009227540343999863,
          0.009015517309308052,
          0.008955569937825203,
          0.00959989707916975,
          0.009011439047753811,
          0.008710158057510853,
          0.008438225835561752,
          0.008493844419717789,
          0.0091891223564744,
          0.008625440299510956
         ],
         "yaxis": "y"
        },
        {
         "hovertemplate": "variable=val_loss<br>index=%{x}<br>value=%{y}<extra></extra>",
         "legendgroup": "val_loss",
         "line": {
          "color": "#EF553B",
          "dash": "solid"
         },
         "marker": {
          "symbol": "circle"
         },
         "mode": "lines",
         "name": "val_loss",
         "orientation": "v",
         "showlegend": true,
         "type": "scatter",
         "x": [
          0,
          1,
          2,
          3,
          4,
          5,
          6,
          7,
          8,
          9,
          10,
          11,
          12,
          13,
          14,
          15,
          16,
          17,
          18,
          19
         ],
         "xaxis": "x",
         "y": [
          0.009886943735182285,
          0.008067780174314976,
          0.009047856554389,
          0.007607671897858381,
          0.007903599180281162,
          0.008270026184618473,
          0.008019259199500084,
          0.0074930861592292786,
          0.008934861049056053,
          0.00785780604928732,
          0.009068113751709461,
          0.007227761205285788,
          0.0070251403376460075,
          0.007053683511912823,
          0.007336883340030909,
          0.007243954576551914,
          0.007723621558398008,
          0.007462625857442617,
          0.006923499517142773,
          0.007088376674801111
         ],
         "yaxis": "y"
        }
       ],
       "layout": {
        "legend": {
         "title": {
          "text": "variable"
         },
         "tracegroupgap": 0
        },
        "template": {
         "data": {
          "bar": [
           {
            "error_x": {
             "color": "#f2f5fa"
            },
            "error_y": {
             "color": "#f2f5fa"
            },
            "marker": {
             "line": {
              "color": "rgb(17,17,17)",
              "width": 0.5
             },
             "pattern": {
              "fillmode": "overlay",
              "size": 10,
              "solidity": 0.2
             }
            },
            "type": "bar"
           }
          ],
          "barpolar": [
           {
            "marker": {
             "line": {
              "color": "rgb(17,17,17)",
              "width": 0.5
             },
             "pattern": {
              "fillmode": "overlay",
              "size": 10,
              "solidity": 0.2
             }
            },
            "type": "barpolar"
           }
          ],
          "carpet": [
           {
            "aaxis": {
             "endlinecolor": "#A2B1C6",
             "gridcolor": "#506784",
             "linecolor": "#506784",
             "minorgridcolor": "#506784",
             "startlinecolor": "#A2B1C6"
            },
            "baxis": {
             "endlinecolor": "#A2B1C6",
             "gridcolor": "#506784",
             "linecolor": "#506784",
             "minorgridcolor": "#506784",
             "startlinecolor": "#A2B1C6"
            },
            "type": "carpet"
           }
          ],
          "choropleth": [
           {
            "colorbar": {
             "outlinewidth": 0,
             "ticks": ""
            },
            "type": "choropleth"
           }
          ],
          "contour": [
           {
            "colorbar": {
             "outlinewidth": 0,
             "ticks": ""
            },
            "colorscale": [
             [
              0,
              "#0d0887"
             ],
             [
              0.1111111111111111,
              "#46039f"
             ],
             [
              0.2222222222222222,
              "#7201a8"
             ],
             [
              0.3333333333333333,
              "#9c179e"
             ],
             [
              0.4444444444444444,
              "#bd3786"
             ],
             [
              0.5555555555555556,
              "#d8576b"
             ],
             [
              0.6666666666666666,
              "#ed7953"
             ],
             [
              0.7777777777777778,
              "#fb9f3a"
             ],
             [
              0.8888888888888888,
              "#fdca26"
             ],
             [
              1,
              "#f0f921"
             ]
            ],
            "type": "contour"
           }
          ],
          "contourcarpet": [
           {
            "colorbar": {
             "outlinewidth": 0,
             "ticks": ""
            },
            "type": "contourcarpet"
           }
          ],
          "heatmap": [
           {
            "colorbar": {
             "outlinewidth": 0,
             "ticks": ""
            },
            "colorscale": [
             [
              0,
              "#0d0887"
             ],
             [
              0.1111111111111111,
              "#46039f"
             ],
             [
              0.2222222222222222,
              "#7201a8"
             ],
             [
              0.3333333333333333,
              "#9c179e"
             ],
             [
              0.4444444444444444,
              "#bd3786"
             ],
             [
              0.5555555555555556,
              "#d8576b"
             ],
             [
              0.6666666666666666,
              "#ed7953"
             ],
             [
              0.7777777777777778,
              "#fb9f3a"
             ],
             [
              0.8888888888888888,
              "#fdca26"
             ],
             [
              1,
              "#f0f921"
             ]
            ],
            "type": "heatmap"
           }
          ],
          "heatmapgl": [
           {
            "colorbar": {
             "outlinewidth": 0,
             "ticks": ""
            },
            "colorscale": [
             [
              0,
              "#0d0887"
             ],
             [
              0.1111111111111111,
              "#46039f"
             ],
             [
              0.2222222222222222,
              "#7201a8"
             ],
             [
              0.3333333333333333,
              "#9c179e"
             ],
             [
              0.4444444444444444,
              "#bd3786"
             ],
             [
              0.5555555555555556,
              "#d8576b"
             ],
             [
              0.6666666666666666,
              "#ed7953"
             ],
             [
              0.7777777777777778,
              "#fb9f3a"
             ],
             [
              0.8888888888888888,
              "#fdca26"
             ],
             [
              1,
              "#f0f921"
             ]
            ],
            "type": "heatmapgl"
           }
          ],
          "histogram": [
           {
            "marker": {
             "pattern": {
              "fillmode": "overlay",
              "size": 10,
              "solidity": 0.2
             }
            },
            "type": "histogram"
           }
          ],
          "histogram2d": [
           {
            "colorbar": {
             "outlinewidth": 0,
             "ticks": ""
            },
            "colorscale": [
             [
              0,
              "#0d0887"
             ],
             [
              0.1111111111111111,
              "#46039f"
             ],
             [
              0.2222222222222222,
              "#7201a8"
             ],
             [
              0.3333333333333333,
              "#9c179e"
             ],
             [
              0.4444444444444444,
              "#bd3786"
             ],
             [
              0.5555555555555556,
              "#d8576b"
             ],
             [
              0.6666666666666666,
              "#ed7953"
             ],
             [
              0.7777777777777778,
              "#fb9f3a"
             ],
             [
              0.8888888888888888,
              "#fdca26"
             ],
             [
              1,
              "#f0f921"
             ]
            ],
            "type": "histogram2d"
           }
          ],
          "histogram2dcontour": [
           {
            "colorbar": {
             "outlinewidth": 0,
             "ticks": ""
            },
            "colorscale": [
             [
              0,
              "#0d0887"
             ],
             [
              0.1111111111111111,
              "#46039f"
             ],
             [
              0.2222222222222222,
              "#7201a8"
             ],
             [
              0.3333333333333333,
              "#9c179e"
             ],
             [
              0.4444444444444444,
              "#bd3786"
             ],
             [
              0.5555555555555556,
              "#d8576b"
             ],
             [
              0.6666666666666666,
              "#ed7953"
             ],
             [
              0.7777777777777778,
              "#fb9f3a"
             ],
             [
              0.8888888888888888,
              "#fdca26"
             ],
             [
              1,
              "#f0f921"
             ]
            ],
            "type": "histogram2dcontour"
           }
          ],
          "mesh3d": [
           {
            "colorbar": {
             "outlinewidth": 0,
             "ticks": ""
            },
            "type": "mesh3d"
           }
          ],
          "parcoords": [
           {
            "line": {
             "colorbar": {
              "outlinewidth": 0,
              "ticks": ""
             }
            },
            "type": "parcoords"
           }
          ],
          "pie": [
           {
            "automargin": true,
            "type": "pie"
           }
          ],
          "scatter": [
           {
            "marker": {
             "line": {
              "color": "#283442"
             }
            },
            "type": "scatter"
           }
          ],
          "scatter3d": [
           {
            "line": {
             "colorbar": {
              "outlinewidth": 0,
              "ticks": ""
             }
            },
            "marker": {
             "colorbar": {
              "outlinewidth": 0,
              "ticks": ""
             }
            },
            "type": "scatter3d"
           }
          ],
          "scattercarpet": [
           {
            "marker": {
             "colorbar": {
              "outlinewidth": 0,
              "ticks": ""
             }
            },
            "type": "scattercarpet"
           }
          ],
          "scattergeo": [
           {
            "marker": {
             "colorbar": {
              "outlinewidth": 0,
              "ticks": ""
             }
            },
            "type": "scattergeo"
           }
          ],
          "scattergl": [
           {
            "marker": {
             "line": {
              "color": "#283442"
             }
            },
            "type": "scattergl"
           }
          ],
          "scattermapbox": [
           {
            "marker": {
             "colorbar": {
              "outlinewidth": 0,
              "ticks": ""
             }
            },
            "type": "scattermapbox"
           }
          ],
          "scatterpolar": [
           {
            "marker": {
             "colorbar": {
              "outlinewidth": 0,
              "ticks": ""
             }
            },
            "type": "scatterpolar"
           }
          ],
          "scatterpolargl": [
           {
            "marker": {
             "colorbar": {
              "outlinewidth": 0,
              "ticks": ""
             }
            },
            "type": "scatterpolargl"
           }
          ],
          "scatterternary": [
           {
            "marker": {
             "colorbar": {
              "outlinewidth": 0,
              "ticks": ""
             }
            },
            "type": "scatterternary"
           }
          ],
          "surface": [
           {
            "colorbar": {
             "outlinewidth": 0,
             "ticks": ""
            },
            "colorscale": [
             [
              0,
              "#0d0887"
             ],
             [
              0.1111111111111111,
              "#46039f"
             ],
             [
              0.2222222222222222,
              "#7201a8"
             ],
             [
              0.3333333333333333,
              "#9c179e"
             ],
             [
              0.4444444444444444,
              "#bd3786"
             ],
             [
              0.5555555555555556,
              "#d8576b"
             ],
             [
              0.6666666666666666,
              "#ed7953"
             ],
             [
              0.7777777777777778,
              "#fb9f3a"
             ],
             [
              0.8888888888888888,
              "#fdca26"
             ],
             [
              1,
              "#f0f921"
             ]
            ],
            "type": "surface"
           }
          ],
          "table": [
           {
            "cells": {
             "fill": {
              "color": "#506784"
             },
             "line": {
              "color": "rgb(17,17,17)"
             }
            },
            "header": {
             "fill": {
              "color": "#2a3f5f"
             },
             "line": {
              "color": "rgb(17,17,17)"
             }
            },
            "type": "table"
           }
          ]
         },
         "layout": {
          "annotationdefaults": {
           "arrowcolor": "#f2f5fa",
           "arrowhead": 0,
           "arrowwidth": 1
          },
          "autotypenumbers": "strict",
          "coloraxis": {
           "colorbar": {
            "outlinewidth": 0,
            "ticks": ""
           }
          },
          "colorscale": {
           "diverging": [
            [
             0,
             "#8e0152"
            ],
            [
             0.1,
             "#c51b7d"
            ],
            [
             0.2,
             "#de77ae"
            ],
            [
             0.3,
             "#f1b6da"
            ],
            [
             0.4,
             "#fde0ef"
            ],
            [
             0.5,
             "#f7f7f7"
            ],
            [
             0.6,
             "#e6f5d0"
            ],
            [
             0.7,
             "#b8e186"
            ],
            [
             0.8,
             "#7fbc41"
            ],
            [
             0.9,
             "#4d9221"
            ],
            [
             1,
             "#276419"
            ]
           ],
           "sequential": [
            [
             0,
             "#0d0887"
            ],
            [
             0.1111111111111111,
             "#46039f"
            ],
            [
             0.2222222222222222,
             "#7201a8"
            ],
            [
             0.3333333333333333,
             "#9c179e"
            ],
            [
             0.4444444444444444,
             "#bd3786"
            ],
            [
             0.5555555555555556,
             "#d8576b"
            ],
            [
             0.6666666666666666,
             "#ed7953"
            ],
            [
             0.7777777777777778,
             "#fb9f3a"
            ],
            [
             0.8888888888888888,
             "#fdca26"
            ],
            [
             1,
             "#f0f921"
            ]
           ],
           "sequentialminus": [
            [
             0,
             "#0d0887"
            ],
            [
             0.1111111111111111,
             "#46039f"
            ],
            [
             0.2222222222222222,
             "#7201a8"
            ],
            [
             0.3333333333333333,
             "#9c179e"
            ],
            [
             0.4444444444444444,
             "#bd3786"
            ],
            [
             0.5555555555555556,
             "#d8576b"
            ],
            [
             0.6666666666666666,
             "#ed7953"
            ],
            [
             0.7777777777777778,
             "#fb9f3a"
            ],
            [
             0.8888888888888888,
             "#fdca26"
            ],
            [
             1,
             "#f0f921"
            ]
           ]
          },
          "colorway": [
           "#636efa",
           "#EF553B",
           "#00cc96",
           "#ab63fa",
           "#FFA15A",
           "#19d3f3",
           "#FF6692",
           "#B6E880",
           "#FF97FF",
           "#FECB52"
          ],
          "font": {
           "color": "#f2f5fa"
          },
          "geo": {
           "bgcolor": "rgb(17,17,17)",
           "lakecolor": "rgb(17,17,17)",
           "landcolor": "rgb(17,17,17)",
           "showlakes": true,
           "showland": true,
           "subunitcolor": "#506784"
          },
          "hoverlabel": {
           "align": "left"
          },
          "hovermode": "closest",
          "mapbox": {
           "style": "dark"
          },
          "paper_bgcolor": "rgb(17,17,17)",
          "plot_bgcolor": "rgb(17,17,17)",
          "polar": {
           "angularaxis": {
            "gridcolor": "#506784",
            "linecolor": "#506784",
            "ticks": ""
           },
           "bgcolor": "rgb(17,17,17)",
           "radialaxis": {
            "gridcolor": "#506784",
            "linecolor": "#506784",
            "ticks": ""
           }
          },
          "scene": {
           "xaxis": {
            "backgroundcolor": "rgb(17,17,17)",
            "gridcolor": "#506784",
            "gridwidth": 2,
            "linecolor": "#506784",
            "showbackground": true,
            "ticks": "",
            "zerolinecolor": "#C8D4E3"
           },
           "yaxis": {
            "backgroundcolor": "rgb(17,17,17)",
            "gridcolor": "#506784",
            "gridwidth": 2,
            "linecolor": "#506784",
            "showbackground": true,
            "ticks": "",
            "zerolinecolor": "#C8D4E3"
           },
           "zaxis": {
            "backgroundcolor": "rgb(17,17,17)",
            "gridcolor": "#506784",
            "gridwidth": 2,
            "linecolor": "#506784",
            "showbackground": true,
            "ticks": "",
            "zerolinecolor": "#C8D4E3"
           }
          },
          "shapedefaults": {
           "line": {
            "color": "#f2f5fa"
           }
          },
          "sliderdefaults": {
           "bgcolor": "#C8D4E3",
           "bordercolor": "rgb(17,17,17)",
           "borderwidth": 1,
           "tickwidth": 0
          },
          "ternary": {
           "aaxis": {
            "gridcolor": "#506784",
            "linecolor": "#506784",
            "ticks": ""
           },
           "baxis": {
            "gridcolor": "#506784",
            "linecolor": "#506784",
            "ticks": ""
           },
           "bgcolor": "rgb(17,17,17)",
           "caxis": {
            "gridcolor": "#506784",
            "linecolor": "#506784",
            "ticks": ""
           }
          },
          "title": {
           "x": 0.05
          },
          "updatemenudefaults": {
           "bgcolor": "#506784",
           "borderwidth": 0
          },
          "xaxis": {
           "automargin": true,
           "gridcolor": "#283442",
           "linecolor": "#506784",
           "ticks": "",
           "title": {
            "standoff": 15
           },
           "zerolinecolor": "#283442",
           "zerolinewidth": 2
          },
          "yaxis": {
           "automargin": true,
           "gridcolor": "#283442",
           "linecolor": "#506784",
           "ticks": "",
           "title": {
            "standoff": 15
           },
           "zerolinecolor": "#283442",
           "zerolinewidth": 2
          }
         }
        },
        "title": {
         "text": "Learning Curve"
        },
        "xaxis": {
         "anchor": "y",
         "domain": [
          0,
          1
         ],
         "title": {
          "text": "index"
         }
        },
        "yaxis": {
         "anchor": "x",
         "domain": [
          0,
          1
         ],
         "title": {
          "text": "value"
         }
        }
       }
      }
     },
     "metadata": {},
     "output_type": "display_data"
    }
   ],
   "source": [
    "dataframe = pd.DataFrame(history.history)\n",
    "\n",
    "\n",
    "fig = px.line(dataframe, \n",
    "              title    = 'Learning Curve', \n",
    "              labels   = {'x' : 'Epoch', 'y' : 'Loss Value '}, \n",
    "              template = \"plotly_dark\")\n",
    "\n",
    "fig.show()"
   ]
  },
  {
   "cell_type": "markdown",
   "id": "fbb63f5b",
   "metadata": {},
   "source": [
    "## Model Prediction and Evaluation"
   ]
  },
  {
   "cell_type": "markdown",
   "id": "bc67d14d",
   "metadata": {},
   "source": [
    "### Compute Prediction"
   ]
  },
  {
   "cell_type": "markdown",
   "id": "209f3d29",
   "metadata": {},
   "source": [
    "Convert image paths to pre-processed opencv images"
   ]
  },
  {
   "cell_type": "code",
   "execution_count": 30,
   "id": "c334c379",
   "metadata": {},
   "outputs": [],
   "source": [
    "x_test_images = np.asarray(\n",
    "    [ pre_processing(cv2.imread(img_file), image_width, image_height) for img_file in x_test]\n",
    ")   "
   ]
  },
  {
   "cell_type": "markdown",
   "id": "57b8f44d",
   "metadata": {},
   "source": [
    "Predict steering based on the test set"
   ]
  },
  {
   "cell_type": "code",
   "execution_count": 31,
   "id": "6e3fb3ca",
   "metadata": {
    "scrolled": true
   },
   "outputs": [],
   "source": [
    "steering_predict = model.predict(x_test_images)"
   ]
  },
  {
   "cell_type": "markdown",
   "id": "a0f711b1",
   "metadata": {},
   "source": [
    "### Model Evaluation "
   ]
  },
  {
   "cell_type": "code",
   "execution_count": 32,
   "id": "102d640b",
   "metadata": {
    "scrolled": true
   },
   "outputs": [
    {
     "name": "stdout",
     "output_type": "stream",
     "text": [
      "Mean Squared Error:  0.006469836937777759\n"
     ]
    }
   ],
   "source": [
    "mse = mean_squared_error(y_test, steering_predict)\n",
    "print(\"Mean Squared Error: \", mse)\n",
    "#count_positives = 0"
   ]
  },
  {
   "cell_type": "markdown",
   "id": "d63dfc4b",
   "metadata": {},
   "source": [
    "### Seeing the results"
   ]
  },
  {
   "cell_type": "markdown",
   "id": "0618041d",
   "metadata": {},
   "source": [
    "Uncomment if you want to see images with data augmentation techniques and so on..."
   ]
  },
  {
   "cell_type": "code",
   "execution_count": 33,
   "id": "1a83d72d",
   "metadata": {},
   "outputs": [],
   "source": [
    "# def pre_process(img, img_width=320, img_height=160, normalization=\"yes\"):\n",
    "    \n",
    "#     img = cv2.cvtColor(img, cv2.COLOR_BGR2GRAY) # For better jornalization\n",
    "    \n",
    "\n",
    "#     ret,img = cv2.threshold(img,190,255,cv2.THRESH_BINARY)\n",
    "    \n",
    "#     img = cv2.morphologyEx(img, cv2.MORPH_CLOSE, (10, 10))\n",
    "    \n",
    "#     img = cv2.GaussianBlur(img, (3, 3), 0)   \n",
    "    \n",
    "#     img = cv2.resize(img, (img_width, img_height))  # NIVIDA uses 200x66\n",
    "    \n",
    "#     if normalization == \"yes\":\n",
    "#         img = img/255\n",
    "\n",
    "#     return img \n",
    "\n",
    "# def augment_Image(imgPath):\n",
    "#     # Function: Add randomness to the data set by applying random \"filters\"\n",
    "    \n",
    "#     img = imgPath\n",
    "\n",
    "#     # Translation... PAN\n",
    "#     if np.random.rand() < 0.30:\n",
    "#         pan = iaa.Affine(translate_percent = {'x': (-0.1, 0.1) , 'y': (-0.1, 0.1)} )\n",
    "#         img = pan.augment_image(img)  # Add a pan to img 5555 5   \n",
    "\n",
    "#     # Zoom \n",
    "#     if np.random.rand() < 0.30:\n",
    "#         zoom = iaa.Affine(scale=(1, 1.2))\n",
    "#         img = zoom.augment_image(img)\n",
    "\n",
    "#     # Brightness\n",
    "#     if np.random.rand() < 0.30:\n",
    "#         brightness = iaa.Multiply((0.2, 1.2))\n",
    "#         img = brightness.augment_image(img)\n",
    "    \n",
    "#     #Motion Blur\n",
    "#     if np.random.rand() < 0.30:\n",
    "#         motion_blur = iaa.MotionBlur(k=15, angle=[-60, 60])\n",
    "#         img = motion_blur.augment_image(img)\n",
    "        \n",
    "#     #Contrast  \n",
    "#     if np.random.rand() < 0.30:\n",
    "#         lin_contrast = iaa.LinearContrast((0.5, 1.9))\n",
    "#         img = lin_contrast.augment_image(img)\n",
    "    \n",
    "#     # Shear Operation\n",
    "#     if np.random.rand() < 0.30:\n",
    "#         shear_img = iaa.Affine(shear=(-8, 8))\n",
    "#         img = shear_img.augment_image(img)\n",
    "    \n",
    "#     # Noise\n",
    "#     if np.random.rand() < 0.30:\n",
    "#         noise = iaa.SaltAndPepper(0.05)\n",
    "#         img = noise.augment_image(img)\n",
    "    \n",
    "#     # Random Ereasing / Occlusion\n",
    "#     if np.random.rand() < 0.30:\n",
    "#         occlusion = iaa.Cutout(nb_iterations=(1, 5), size=0.2, squared=False)\n",
    "#         img = occlusion.augment_image(img)\n",
    "        \n",
    "#     # Flip\n",
    "#     if np.random.rand() < 0.30:\n",
    "#         img = cv2.flip(img, 1)\n",
    "\n",
    "#     return img #, steering"
   ]
  },
  {
   "cell_type": "code",
   "execution_count": 34,
   "id": "aaa0b8b8",
   "metadata": {
    "scrolled": false
   },
   "outputs": [],
   "source": [
    "def display_image():\n",
    "    \n",
    "    rand_integer = random.randint(0, len(x_val))\n",
    "    \n",
    "    selectx = x_val[rand_integer]\n",
    "    #img = augment_Image(pre_process(mpimg.imread(selectx), img_width=320, img_height=160, normalization=\"no\"))\n",
    "    img = mpimg.imread(selectx)\n",
    "    plt.imshow(img, cmap='gray')\n",
    "    plt.axis(\"off\")\n",
    "    plt.show()\n",
    "    \n",
    "    y_test_aux = y_val[rand_integer]\n",
    "    y_pred = steering_predict[rand_integer]\n",
    "    print(\"Predicted angle: \", round(y_pred[0], 5))\n",
    "    print(\"Real angle:      \", round(y_test_aux, 5))"
   ]
  },
  {
   "cell_type": "code",
   "execution_count": 35,
   "id": "2da9fe98",
   "metadata": {},
   "outputs": [
    {
     "data": {
      "image/png": "[encoded data removed]",
      "text/plain": [
       "<Figure size 432x288 with 1 Axes>"
      ]
     },
     "metadata": {
      "needs_background": "light"
     },
     "output_type": "display_data"
    },
    {
     "name": "stdout",
     "output_type": "stream",
     "text": [
      "Predicted angle:  -0.21684\n",
      "Real angle:       0.04886\n"
     ]
    },
    {
     "data": {
      "image/png": "[encoded data removed]",
      "text/plain": [
       "<Figure size 432x288 with 1 Axes>"
      ]
     },
     "metadata": {
      "needs_background": "light"
     },
     "output_type": "display_data"
    },
    {
     "name": "stdout",
     "output_type": "stream",
     "text": [
      "Predicted angle:  -0.03627\n",
      "Real angle:       -0.4445\n"
     ]
    },
    {
     "data": {
      "image/png": "[encoded data removed]",
      "text/plain": [
       "<Figure size 432x288 with 1 Axes>"
      ]
     },
     "metadata": {
      "needs_background": "light"
     },
     "output_type": "display_data"
    },
    {
     "name": "stdout",
     "output_type": "stream",
     "text": [
      "Predicted angle:  0.14589\n",
      "Real angle:       0.11118\n"
     ]
    },
    {
     "data": {
      "image/png": "[encoded data removed]",
      "text/plain": [
       "<Figure size 432x288 with 1 Axes>"
      ]
     },
     "metadata": {
      "needs_background": "light"
     },
     "output_type": "display_data"
    },
    {
     "name": "stdout",
     "output_type": "stream",
     "text": [
      "Predicted angle:  0.00855\n",
      "Real angle:       0.14673\n"
     ]
    },
    {
     "data": {
      "image/png": "[encoded data removed]",
      "text/plain": [
       "<Figure size 432x288 with 1 Axes>"
      ]
     },
     "metadata": {
      "needs_background": "light"
     },
     "output_type": "display_data"
    },
    {
     "name": "stdout",
     "output_type": "stream",
     "text": [
      "Predicted angle:  0.02584\n",
      "Real angle:       0.04154\n"
     ]
    }
   ],
   "source": [
    "display_image()\n",
    "display_image()\n",
    "display_image()\n",
    "display_image()\n",
    "display_image()"
   ]
  },
  {
   "cell_type": "markdown",
   "id": "cb9f30c4",
   "metadata": {},
   "source": [
    "## Save the model"
   ]
  },
  {
   "cell_type": "markdown",
   "id": "7bc1eb59",
   "metadata": {},
   "source": [
    "### Defining variables"
   ]
  },
  {
   "cell_type": "code",
   "execution_count": 36,
   "id": "71fb4f7b",
   "metadata": {},
   "outputs": [],
   "source": [
    "# Read YAML file\n",
    "with open(PATH + \"info.yaml\", 'r') as stream:\n",
    "    data_loaded = yaml.safe_load(stream)\n",
    "data_loaded['dataset']['name'] = PATH.split('/')[3]"
   ]
  },
  {
   "cell_type": "code",
   "execution_count": 37,
   "id": "39292c8c",
   "metadata": {},
   "outputs": [],
   "source": [
    "cnn_model_name = 'rota'\n",
    "val_loss = '0.01'\n",
    "test_loss = '0.02'\n",
    "model_evaluation = '5/10'\n",
    "ml_comments = 'correu mt bem... nao gostei'\n",
    "current_date = datetime.datetime.now().strftime(\"%d-%m-%Y-%Hh%Mm\")"
   ]
  },
  {
   "cell_type": "markdown",
   "id": "eb3b3675",
   "metadata": {},
   "source": [
    "### Model"
   ]
  },
  {
   "cell_type": "code",
   "execution_count": 38,
   "id": "e533477d",
   "metadata": {},
   "outputs": [],
   "source": [
    "modelname = cnn_model_name + '-' + current_date + '-' + val_loss\n",
    "model.save('../models/' + modelname + '.h5')"
   ]
  },
  {
   "cell_type": "markdown",
   "id": "3a23267d",
   "metadata": {},
   "source": [
    "### YAML"
   ]
  },
  {
   "cell_type": "code",
   "execution_count": 39,
   "id": "1369a1c0",
   "metadata": {},
   "outputs": [],
   "source": [
    "info_data = dict(\n",
    "    model = dict(\n",
    "        name = modelname,\n",
    "        developer = os.getenv('automec_developer'),\n",
    "        date = current_date,\n",
    "        ml_arch = {\"name\":cnn_model_name, \"epochs\":epochs, \n",
    "                   \"batch_size_train\":batch_size_train, \n",
    "                   \"batch_size_val\":batch_size_val, \"training_flag\":training_flag,\n",
    "                   \"validation_flag\":validation_flag, \"validation_steps\":validation_steps,\n",
    "                   \"val_loss\":val_loss, \"tes_loss\":test_loss},\n",
    "        model_eval = model_evaluation,\n",
    "        comments = ml_comments\n",
    "    ),\n",
    "    dataset = data_loaded['dataset']\n",
    ")"
   ]
  },
  {
   "cell_type": "code",
   "execution_count": 40,
   "id": "ee6ed749",
   "metadata": {},
   "outputs": [],
   "source": [
    "with open('../models'+'/' + modelname + '.yaml', 'w') as outfile: #info\n",
    "    yaml.dump(info_data, outfile, default_flow_style=False, sort_keys=False)"
   ]
  }
 ],
 "metadata": {
  "kernelspec": {
   "display_name": "Python 3.8.10 64-bit",
   "language": "python",
   "name": "python3"
  },
  "language_info": {
   "codemirror_mode": {
    "name": "ipython",
    "version": 3
   },
   "file_extension": ".py",
   "mimetype": "text/x-python",
   "name": "python",
   "nbconvert_exporter": "python",
   "pygments_lexer": "ipython3",
   "version": "3.8.10"
  },
  "vscode": {
   "interpreter": {
    "hash": "916dbcbb3f70747c44a77c7bcd40155683ae19c65e1c03b4aa3499c5328201f1"
   }
  }
 },
 "nbformat": 4,
 "nbformat_minor": 5
}
